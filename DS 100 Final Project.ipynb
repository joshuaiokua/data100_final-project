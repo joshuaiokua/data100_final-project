{
 "cells": [
  {
   "cell_type": "markdown",
   "metadata": {},
   "source": [
    "*Josh Albano, Sharon Jan, and Luke Sherman (that's me)*\n",
    "\n",
    "*2020.5.6*"
   ]
  },
  {
   "cell_type": "code",
   "execution_count": 4,
   "metadata": {},
   "outputs": [],
   "source": [
    "import numpy as np\n",
    "import pandas as pd\n",
    "import matplotlib\n",
    "import matplotlib.pyplot as plt\n",
    "import seaborn as sns\n",
    "import datetime\n",
    "from pandas.plotting import register_matplotlib_converters\n",
    "\n",
    "from sklearn.linear_model import LinearRegression\n",
    "\n",
    "from sklearn.preprocessing import OneHotEncoder\n",
    "from sklearn.model_selection import train_test_split\n",
    "import re\n",
    "\n",
    "from IPython.display import display, Latex, Markdown"
   ]
  },
  {
   "cell_type": "markdown",
   "metadata": {},
   "source": [
    "### Research Question: Can counties' responses to COVID-19 accurately predict various political features?\n",
    "\n",
    "Workplan:\n",
    "- Clean data (Sharon)\n",
    "    - Examine NA values\n",
    "    - Election data (Josh)\n",
    "- Define political features (county-level)\n",
    "    - Republican/Democratic governor (binary) (Sharon)\n",
    "    - Joshua's R/D scale (categorical) (Josh)\n",
    "    - % of counties that are Republican (Sharon)\n",
    "- Define potential COVID-19 features\n",
    "    - Google's mobility rating (Josh)\n",
    "    - Date of stay at home orders, relative to a case threshold (Luke)\n",
    "        - Should we transform the case threshold to per capita\n",
    "    - \"Performance\" - Beta_2 for quadratic model (Luke)\n",
    "    - County enacted order earlier than state? or median date? OR estimate using decrease in mobility data\n",
    "- Create model(s)\n",
    "    - Logistic, Decision Tree, Linear (respectively) *hold off until done with initial data cleaning/feature engineering\n",
    "- Data visualizations\n",
    "    - Polarity/political maps (Josh)\n",
    "    - Covid curves (Luke)"
   ]
  },
  {
   "cell_type": "markdown",
   "metadata": {},
   "source": [
    "# Load Datasets\n",
    "\n",
    "### Datasets\n",
    "- states_df = State features dataframe\n",
    "- counties_df = County features dataframe (missing some counties, Alaska, and Hawaii)\n",
    "- time_cases_df = Timeline of cases by county\n",
    "- time_deaths_df = Timeline of deaths by county\n",
    "- state_time_cases_df = Timeline of cases by state\n",
    "- state_time_deaths_df = Timeline of deaths by state\n",
    "\n",
    "\n",
    "### Cleaning steps\n",
    "- Get rid of all non-US states (including territories & cruise ships).\n",
    "- Get rid of Alaska & Hawaii in states, time_cases, and time_deaths because it is not in counties_df\n",
    "- In time_cases & time_deaths, there are 'Out of State' & 'Unassigned' observations that seem like they're state-level. We split those off from the county-specific information for now.\n",
    "- Convert FIPS columns to strings so they can be used as a merge key later. \n",
    "- Rename state FIPS \"STATEFP\" and county FIPS remains \"FIPS\"\n",
    "- Notes:  time_deaths_df & time_cases_df has about 30 counties in Virginia that aren't in counties_df. These counties have not been removed from time_deaths_df or time_cases_df yet."
   ]
  },
  {
   "cell_type": "code",
   "execution_count": 198,
   "metadata": {},
   "outputs": [],
   "source": [
    "#Datasets\n",
    "\n",
    "states_df = pd.read_csv(\"4.18states.csv\")\n",
    "states_df = states_df[states_df['FIPS'].notna()] #Get rid of non-US \"states\"\n",
    "states_df = states_df[states_df['FIPS']<60] #Get rid of US territories\n",
    "states_df = states_df[states_df['FIPS'] != 2] #Get rid of Alaska\n",
    "states_df = states_df[states_df['FIPS'] != 15] #Get rid of Hawaii\n",
    "states_df['FIPS'] = states_df['FIPS'].apply(lambda x: '0'+str(int(x)) if len(str(int(x)))==1 \\\n",
    "                                            else str(int(x))) #Convert FIPS to String\n",
    "states_df = states_df.rename(columns={'FIPS': 'STATEFP'})\n",
    "STATEFP = states_df.pop('STATEFP')\n",
    "states_df.insert(0, 'STATEFP', STATEFP)\n",
    "\n",
    "counties_df = pd.read_csv(\"abridged_couties.csv\")\n",
    "counties_df = counties_df[counties_df['State'].notna()] #Get rid of US Territories\n",
    "counties_df['STATEFP'] = counties_df['STATEFP'].apply(lambda x: '0'+str(int(x)) if len(str(int(x)))==1 else str(int(x)))\n",
    "counties_df = counties_df.rename(columns={'countyFIPS': 'FIPS'}).drop(columns=['COUNTYFP'])\n",
    "\n",
    "time_cases_df = pd.read_csv(\"time_series_covid19_confirmed_US.csv\")\n",
    "time_deaths_df = pd.read_csv(\"time_series_covid19_deaths_US.csv\")\n",
    "\n",
    "def clean_time_dfs(df):\n",
    "    \"\"\"\n",
    "    This cleans time_cases & time_deaths and returns a county-level df and state-level df\n",
    "    \"\"\"\n",
    "    df = df[df['FIPS'] >100] # Get rid of US Territories & Cruise Ships\n",
    "    df = df[df['Province_State'].isin(['Diamond Princess','Grand Princess'])==False]\n",
    "    df['FIPS'] = df['FIPS'].apply(lambda x: '0' + str(int(x)) if len(str(int(x)))==4 \\\n",
    "                                                    else str(int(x))) #Convert FIPS to string\n",
    "    df['STATEFP'] = df['FIPS'].str[0:2]\n",
    "    FIPS = df.pop('FIPS')\n",
    "    df.insert(0, 'FIPS', FIPS)\n",
    "    STATEFP = df.pop('STATEFP')\n",
    "    df.insert(0, 'STATEFP', STATEFP)\n",
    "    df = df[df['STATEFP'].isin(['02','15'])==False] #Get rid of Alaska & Hawaii\n",
    "    #Split off \"Out of [State]\" & \"Unassigned\" Data. Remove from df\n",
    "    state_df = df[df['STATEFP'].isin(['80','90'])]\n",
    "    df = df[df['STATEFP'].isin(['80','90'])==False]\n",
    "    return df, state_df\n",
    "\n",
    "time_cases_df, state_time_cases = clean_time_dfs(time_cases_df)\n",
    "time_deaths_df, state_time_deaths = clean_time_dfs(time_deaths_df)"
   ]
  },
  {
   "cell_type": "markdown",
   "metadata": {},
   "source": [
    "## Josh's data - load here"
   ]
  },
  {
   "cell_type": "code",
   "execution_count": null,
   "metadata": {},
   "outputs": [],
   "source": [
    "# load election, mobility data here"
   ]
  },
  {
   "cell_type": "markdown",
   "metadata": {},
   "source": [
    "###  Train Test Split\n",
    "\n",
    "This will be done on the state-level (i.e. 80/20 split of the states) and county-level (80/20 split on all counties)\n",
    "* Please add any new dataframes"
   ]
  },
  {
   "cell_type": "code",
   "execution_count": 197,
   "metadata": {},
   "outputs": [],
   "source": [
    "import sklearn.model_selection\n",
    "\n",
    "def train_test_split_fips(unique_fips, fips_level, df_list):\n",
    "    \"\"\"\n",
    "    Inputs:\n",
    "    unique_fips = list of unique FIPS\n",
    "    fips_level: either 'STATEFP' or 'FIPS'\n",
    "    df_list: list of dataframes to train/test\n",
    "    Returns:\n",
    "    list of train/test splits of each dataframe: eg: [df1_train, df1_test, df2_train, df_test]\n",
    "    \"\"\"\n",
    "    assert (fips_level == 'FIPS' or fips_level == 'STATEFP'), \"Please enter 'STATEFP' or 'FIPS'for fips_level\"\n",
    "\n",
    "    #Train/Test Split FIPS IDs\n",
    "    tr, te = sklearn.model_selection.train_test_split(\n",
    "    unique_fips, train_size=0.8, test_size=0.2, random_state=47)\n",
    "    \n",
    "    tr_te_list = []\n",
    "    \n",
    "    # Create Train/Test list of DFs\n",
    "    for df in df_list:\n",
    "        tr_te_list.append(df[df[fips_level].isin(tr)])\n",
    "        tr_te_list.append(df[df[fips_level].isin(te)])\n",
    "        \n",
    "    return tr_te_list"
   ]
  },
  {
   "cell_type": "code",
   "execution_count": 207,
   "metadata": {},
   "outputs": [
    {
     "name": "stdout",
     "output_type": "stream",
     "text": [
      "State-level test data consistent:  True\n",
      "State-level train data consistent:  True\n",
      "County-level test data consistent:  True\n",
      "County-level train data consistent:  True\n"
     ]
    }
   ],
   "source": [
    "#Unique Fips Codes\n",
    "statefp = states_df['STATEFP'].unique()\n",
    "countyfp = counties_df['FIPS'].unique()\n",
    "\n",
    "#DF List to Split\n",
    "df_list = [states_df, counties_df, time_cases_df, time_deaths_df]\n",
    "\n",
    "#State Level DFs\n",
    "st_sl_test, st_sl_train, co_sl_test, co_sl_train, tc_sl_test, tc_sl_train, td_sl_test, td_sl_train = \\\n",
    "train_test_split_fips(statefp, 'STATEFP', df_list)\n",
    "\n",
    "#County Level DFs (doesn't include states_df)\n",
    "co_cl_test, co_cl_train, tc_cl_test, tc_cl_train, td_cl_test, td_cl_train = \\\n",
    "train_test_split_fips(countyfp, 'FIPS', df_list[1:4])\n",
    "\n",
    "print(\"State-level test data consistent: \",set(st_sl_test.STATEFP) == \\\n",
    "      set(co_sl_test.STATEFP) == set(tc_sl_test.STATEFP) == set(td_sl_test.STATEFP))\n",
    "print(\"State-level train data consistent: \",set(st_sl_train.STATEFP) == \\\n",
    "      set(co_sl_train.STATEFP) == set(tc_sl_train.STATEFP) == set(td_sl_train.STATEFP))\n",
    "print(\"County-level test data consistent: \",\n",
    "      set(co_cl_test.STATEFP) == set(tc_cl_test.STATEFP) == set(td_cl_test.STATEFP))\n",
    "print(\"County-level train data consistent: \",\n",
    "      set(co_cl_train.STATEFP) == set(tc_cl_train.STATEFP) == set(td_cl_train.STATEFP))"
   ]
  },
  {
   "cell_type": "markdown",
   "metadata": {},
   "source": [
    "# EDA\n",
    "## Taking a look at the dataset"
   ]
  },
  {
   "cell_type": "markdown",
   "metadata": {},
   "source": [
    "Let's look at the distribution of stay at home orders by county:"
   ]
  },
  {
   "cell_type": "code",
   "execution_count": 74,
   "metadata": {
    "scrolled": true
   },
   "outputs": [
    {
     "data": {
      "text/plain": [
       "Text(0.5, 1.0, 'Distribution of stay at home orders by US county')"
      ]
     },
     "execution_count": 74,
     "metadata": {},
     "output_type": "execute_result"
    },
    {
     "data": {
      "image/png": "[encoded data removed]",
      "text/plain": [
       "<Figure size 432x288 with 1 Axes>"
      ]
     },
     "metadata": {
      "needs_background": "light"
     },
     "output_type": "display_data"
    }
   ],
   "source": [
    "sns.distplot(counties_df[\"stay at home\"].dropna())\n",
    "\n",
    "plt.title(\"Distribution of stay at home orders by US county\")\n",
    "\n",
    "#I haven't figured out the date formatting here, but need to do that!"
   ]
  },
  {
   "cell_type": "code",
   "execution_count": 75,
   "metadata": {},
   "outputs": [
    {
     "data": {
      "text/plain": [
       "Text(0.5, 1.0, 'Cumulative cases since Feb')"
      ]
     },
     "execution_count": 75,
     "metadata": {},
     "output_type": "execute_result"
    },
    {
     "data": {
      "image/png": "[encoded data removed]",
      "text/plain": [
       "<Figure size 1080x360 with 2 Axes>"
      ]
     },
     "metadata": {
      "needs_background": "light"
     },
     "output_type": "display_data"
    }
   ],
   "source": [
    "# Plot cumulative cases since February\n",
    "us = time_cases_df.groupby(\"Country_Region\").sum().iloc[:,15:].to_numpy().flatten()\n",
    "fig, ax = plt.subplots(1,2, figsize=(15,5))\n",
    "ax[0].plot(np.arange(0,len(us)), np.log(us))\n",
    "ax[0].set_title(\"Cumulative cases since Feb (log scale)\")\n",
    "ax[1].plot(np.arange(0,len(us)), us)\n",
    "ax[1].set_title(\"Cumulative cases since Feb\")"
   ]
  },
  {
   "cell_type": "code",
   "execution_count": 76,
   "metadata": {},
   "outputs": [
    {
     "data": {
      "text/plain": [
       "Text(0.5, 1.0, 'Daily new cases since Feb')"
      ]
     },
     "execution_count": 76,
     "metadata": {},
     "output_type": "execute_result"
    },
    {
     "data": {
      "image/png": "[encoded data removed]",
      "text/plain": [
       "<Figure size 432x288 with 1 Axes>"
      ]
     },
     "metadata": {
      "needs_background": "light"
     },
     "output_type": "display_data"
    }
   ],
   "source": [
    "plt.plot(np.arange(1,len(us)), np.diff(us) )\n",
    "plt.title(\"Daily new cases since Feb\")"
   ]
  },
  {
   "cell_type": "code",
   "execution_count": 77,
   "metadata": {
    "scrolled": true
   },
   "outputs": [
    {
     "data": {
      "text/plain": [
       "<BarContainer object of 76 artists>"
      ]
     },
     "execution_count": 77,
     "metadata": {},
     "output_type": "execute_result"
    },
    {
     "data": {
      "image/png": "[encoded data removed]",
      "text/plain": [
       "<Figure size 432x288 with 1 Axes>"
      ]
     },
     "metadata": {
      "needs_background": "light"
     },
     "output_type": "display_data"
    }
   ],
   "source": [
    "# Same as above, but in bar graph form\n",
    "\n",
    "plt.bar(np.arange(1,len(us)), np.diff(us) )"
   ]
  },
  {
   "cell_type": "markdown",
   "metadata": {},
   "source": [
    "Okay, now what I really want to do is understand how \"stay at home orders\" impact the new daily cases by county."
   ]
  },
  {
   "cell_type": "code",
   "execution_count": 251,
   "metadata": {},
   "outputs": [],
   "source": [
    "# The date objects were extremely annoying, so I built this function to convert them to pandas\n",
    "\n",
    "def convert_ordinal_date_series_to_pd_date(series_object):\n",
    "    \"\"\"\n",
    "    This function takes a series object of ordinal dates (days from the beginning of the \n",
    "    Gregorian calendar) and returns a pandas date time object series\n",
    "    \"\"\"\n",
    "    \n",
    "    #series_object = series_object.astype(int)\n",
    "    k = []\n",
    "    y = 0\n",
    "    \n",
    "    for ordinal_date in series_object:\n",
    "        if np.isnan(ordinal_date) == True:\n",
    "            y += 1\n",
    "            k.append(np.nan)\n",
    "            \n",
    "        else:\n",
    "            ordinal_date = int(ordinal_date)\n",
    "            k.append(pd.to_datetime(datetime.datetime.fromordinal(ordinal_date)))\n",
    "    print(\"Your series has\", y, \"NaNs. This function converts them to NaTs.\")\n",
    "    return pd.Series(k, index = series_object.index)\n",
    "\n",
    "# Sharon's date conversion, returns df with new columns in M/D/Y time\n",
    "def date_conversion(df, date_columns):\n",
    "    \"\"\"\n",
    "    df - dataframe\n",
    "    date_columns = list of column names (string type) to convert\n",
    "    Returns dataframe with new column in mdy\n",
    "    \"\"\"\n",
    "    for col in date_columns:\n",
    "        df[col+' (mdy)'] = df[col].apply(lambda x: datetime.datetime.fromordinal(int(x)) if np.isnan(x) == False else x)\n",
    "        \n",
    "    return df"
   ]
  },
  {
   "cell_type": "markdown",
   "metadata": {},
   "source": [
    "## Add Explanatory Features Here\n",
    "- Earliest order in state (for all orders) (Sharon)\n",
    "- Latest order in state (for all orders) (Sharon)\n",
    "- Whether state had same order across the state (for all orders) (Sharon)\n",
    "- County's order date relative to state (there's an issue here. It returns 0 even when the order value is NaN. I need to fix this!) (Sharon)"
   ]
  },
  {
   "cell_type": "code",
   "execution_count": 252,
   "metadata": {},
   "outputs": [],
   "source": [
    "def state_orders_features(df, col, statefp= 'STATEFP'):\n",
    "    \"\"\"\n",
    "    Inputs: df (dataframe), column (string of column name), statefp = STATEFP column\n",
    "    Outputs a list of series: \n",
    "    1) The earliest date for the order, \n",
    "    2) The latest date for the order,\n",
    "    3) Whether every county in the state has the same date of order (most likely a state order)\n",
    "    4) Whether a county's order was before the median of the state (assuming the median will be the state order)\n",
    "    \"\"\"\n",
    "    return [df[col].groupby(df[statefp]).transform(min),\n",
    "            df[col].groupby(df[statefp]).transform(max),\n",
    "            df[col].groupby(df[statefp]).transform(min) == df[col].groupby(df[statefp]).transform(max),\n",
    "            df[col] - df[col].groupby(df[statefp]).transform('median')]\n",
    "\n",
    "def add_state_orders_features_to_df(df, orders_columns, statefp = 'STATEFP'):\n",
    "    \"\"\"\n",
    "    Adds state_orders_features to dataframe\n",
    "    \"\"\"\n",
    "    for col in orders_columns:\n",
    "        df['Earliest '+ col] = state_orders_features(df, col, statefp)[0]\n",
    "        df['Latest '+ col] = state_orders_features(df, col, statefp)[1]\n",
    "        df[col + ' same for whole state'] = state_orders_features(df, col, statefp)[2]\n",
    "        df[col + ' relative to state'] = state_orders_features(df, col, statefp)[3]\n",
    "    return df"
   ]
  },
  {
   "cell_type": "code",
   "execution_count": 253,
   "metadata": {},
   "outputs": [],
   "source": [
    "# Apply state_orders_features and add_state_orders_features_to_df \n",
    "orders_columns = ['stay at home', '>50 gatherings',\n",
    "       '>500 gatherings', 'public schools', 'restaurant dine-in',\n",
    "       'entertainment/gym', 'federal guidelines', 'foreign travel ban']\n",
    "\n",
    "order = '>50 gatherings'\n",
    "counties_df = add_state_orders_features_to_df(counties_df, orders_columns)"
   ]
  }
 ],
 "metadata": {
  "kernelspec": {
   "display_name": "Python 3",
   "language": "python",
   "name": "python3"
  },
  "language_info": {
   "codemirror_mode": {
    "name": "ipython",
    "version": 3
   },
   "file_extension": ".py",
   "mimetype": "text/x-python",
   "name": "python",
   "nbconvert_exporter": "python",
   "pygments_lexer": "ipython3",
   "version": "3.7.3"
  }
 },
 "nbformat": 4,
 "nbformat_minor": 2
}
