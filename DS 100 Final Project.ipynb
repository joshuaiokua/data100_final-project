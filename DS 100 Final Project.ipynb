{
 "cells": [
  {
   "cell_type": "markdown",
   "metadata": {},
   "source": [
    "*Josh Albano, Sharon Jan, and Luke Sherman*\n",
    "\n",
    "*2020.5.10*"
   ]
  },
  {
   "cell_type": "code",
   "execution_count": 1,
   "metadata": {},
   "outputs": [],
   "source": [
    "import numpy as np\n",
    "import pandas as pd\n",
    "import matplotlib\n",
    "import matplotlib.pyplot as plt\n",
    "import seaborn as sns\n",
    "import datetime\n",
    "from pandas.plotting import register_matplotlib_converters\n",
    "import geopandas as gp\n",
    "\n",
    "from sklearn.linear_model import LinearRegression\n",
    "\n",
    "from sklearn.preprocessing import OneHotEncoder\n",
    "from sklearn.model_selection import train_test_split\n",
    "import re\n",
    "\n",
    "from IPython.display import display, Latex, Markdown"
   ]
  },
  {
   "cell_type": "markdown",
   "metadata": {},
   "source": [
    "### Research Question: Can counties' responses to COVID-19 accurately predict various political features?"
   ]
  },
  {
   "cell_type": "markdown",
   "metadata": {},
   "source": [
    "# Load Datasets\n",
    "\n",
    "### Datasets\n",
    "- states_df = State features dataframe\n",
    "- counties_df = County features dataframe (missing some counties, Alaska, and Hawaii)\n",
    "- time_cases_df = Timeline of cases by county\n",
    "- state_time_cases_df = Timeline of cases by state\n",
    "- county_pres_df = Presidential election results by county\n",
    "\n",
    "\n",
    "### Cleaning steps\n",
    "- Get rid of all non-US states (including territories & cruise ships).\n",
    "- Get rid of Alaska & Hawaii in states, time_cases, and time_deaths because it is not in counties_df\n",
    "- In time_cases & time_deaths, there are 'Out of State' & 'Unassigned' observations that seem like they're state-level. We split those off from the county-specific information for now.\n",
    "- Convert FIPS columns to strings so they can be used as a merge key later. \n",
    "- Rename state FIPS \"STATEFP\" and county FIPS remains \"FIPS\"\n",
    "- Get rid of most demographic features in counties_df; we only want to keep response features"
   ]
  },
  {
   "cell_type": "code",
   "execution_count": 2,
   "metadata": {},
   "outputs": [],
   "source": [
    "#States DF\n",
    "states_df = pd.read_csv(\"4.18states.csv\")\n",
    "states_df = states_df[states_df['FIPS'].notna()] #Get rid of non-US \"states\"\n",
    "states_df = states_df[states_df['FIPS']<60] #Get rid of US territories\n",
    "states_df = states_df[states_df['FIPS'] != 2] #Get rid of Alaska\n",
    "states_df = states_df[states_df['FIPS'] != 15] #Get rid of Hawaii\n",
    "states_df['FIPS'] = states_df['FIPS'].apply(lambda x: '0'+str(int(x)) if len(str(int(x)))==1 \\\n",
    "                                            else str(int(x))) #Convert FIPS to String\n",
    "states_df = states_df.rename(columns={'FIPS': 'STATEFP'})\n",
    "STATEFP = states_df.pop('STATEFP')\n",
    "states_df.insert(0, 'STATEFP', STATEFP)\n",
    "states_df = states_df.drop(columns=['UID', 'ISO3','Country_Region'])\n",
    "\n",
    "#Counties DF\n",
    "counties_df = pd.read_csv(\"abridged_couties.csv\")\n",
    "counties_df = counties_df[counties_df['State'].notna()] #Get rid of US Territories\n",
    "counties_df['STATEFP'] = counties_df['STATEFP'].apply(lambda x: '0'+str(int(x)) if len(str(int(x)))==1 else str(int(x)))\n",
    "counties_df = counties_df.rename(columns={'countyFIPS': 'FIPS'}) \n",
    "counties_df = counties_df.rename(columns={'countyFIPS': 'FIPS'}).drop(columns=['COUNTYFP'])\n",
    "counties_keep_features = ['FIPS', 'STATEFP', 'CountyName', 'StateName', 'State','stay at home',\n",
    " '>50 gatherings',\n",
    " '>500 gatherings',\n",
    " 'public schools',\n",
    " 'restaurant dine-in',\n",
    " 'entertainment/gym']\n",
    "counties_old_df = counties_df.copy()\n",
    "counties_df = counties_df[counties_keep_features] #Create new, abridged counties\n",
    "\n",
    "#Time Cases & Time Deaths DFs\n",
    "time_cases_df = pd.read_csv(\"time_series_covid19_confirmed_US.csv\")\n",
    "\n",
    "def fips_to_string(df, fips_name, length=5):\n",
    "    \"\"\"\n",
    "    Returns series of FIPS code in string form. Length tells you what length the string should be\n",
    "    \"\"\"\n",
    "    return df[fips_name].apply(lambda x: '0' + str(int(x)) if len(str(int(x)))==length-1 \\\n",
    "                              else str(int(x)))\n",
    "\n",
    "def clean_time_dfs(df):\n",
    "    \"\"\"\n",
    "    This cleans time_cases & time_deaths and returns a county-level df and state-level df\n",
    "    \"\"\"\n",
    "time_cases_df = time_cases_df[time_cases_df['FIPS'] >100] # Get rid of US Territories & Cruise Ships\n",
    "time_cases_df = time_cases_df[time_cases_df['Province_State'].isin(['Diamond Princess','Grand Princess'])==False]\n",
    "time_cases_df['FIPS'] = fips_to_string(time_cases_df, 'FIPS', 5)\n",
    "time_cases_df['STATEFP'] = time_cases_df['FIPS'].str[0:2]\n",
    "FIPS = time_cases_df.pop('FIPS')\n",
    "time_cases_df.insert(0, 'FIPS', FIPS)\n",
    "STATEFP = time_cases_df.pop('STATEFP')\n",
    "time_cases_df.insert(0, 'STATEFP', STATEFP)\n",
    "time_cases_df = time_cases_df[time_cases_df['STATEFP'].isin(['02','15'])==False] #Get rid of Alaska & Hawaii\n",
    "state_time_cases = time_cases_df.groupby(['STATEFP','Province_State']).sum()\n",
    "#Split off \"Out of [State]\" & \"Unassigned\" Data. Remove from df\n",
    "time_cases_df = time_cases_df[time_cases_df['STATEFP'].isin(['80','90'])==False]\n",
    "time_cases_df = time_cases_df.drop(columns = ['UID', 'iso2', 'iso3', 'code3','Country_Region', 'Lat', 'Long_', 'Combined_Key'])\n",
    "\n",
    "#County presidential election data\n",
    "county_pres_df = pd.read_csv('countypres_2000-2016.csv')\n",
    "county_pres_df = county_pres_df[(county_pres_df['party'] == 'democrat') | (county_pres_df['party'] == 'republican')]\n",
    "county_pres_df.dropna(inplace=True)\n",
    "\n",
    "county_pres_df = county_pres_df[(county_pres_df['county'] != 'Broomfield') & \n",
    "                                (county_pres_df['county'] != 'Kansas City') &\n",
    "                                (county_pres_df['county'] != 'Bedford')]\n",
    "\n",
    "county_pres_df.loc[:, 'proportion'] = county_pres_df.loc[:, 'candidatevotes'] / county_pres_df.loc[:, 'totalvotes']\n",
    "county_pres_df.loc[::2, 'proportion'] = -county_pres_df.loc[::2, 'proportion']\n",
    "county_pres_df['FIPS'] = fips_to_string(county_pres_df, 'FIPS', 5)\n",
    "county_pres_df['STATEFP'] = county_pres_df['FIPS'][0:2]\n",
    "FIPS = county_pres_df.pop('FIPS')\n",
    "county_pres_df.insert(0, 'FIPS', FIPS)\n",
    "STATEFP = county_pres_df.pop('STATEFP')\n",
    "county_pres_df.insert(0,'STATEFP',STATEFP)\n",
    "\n",
    "# County shapefile\n",
    "shape = gp.read_file('cb_2018_us_county_5m.shp')\n",
    "shape = shape.loc[:, ('STATEFP', 'COUNTYFP', 'geometry')]\n",
    "shape['FIPS'] = shape['STATEFP'] + shape['COUNTYFP']\n",
    "shape = shape.drop(columns=['COUNTYFP'])\n",
    "STATEFP = shape.pop('STATEFP')"
   ]
  },
  {
   "cell_type": "markdown",
   "metadata": {},
   "source": [
    "# Dependent  Variables - Election Results\n",
    "\n",
    "We have created some categorical and continuous political variables that we hope to explain using only states'/counties' COVID-19 responses. Essentially, using only information about COVID-19, can we predict a county/state's political leanings? In this section, we are merging these features into our counties and states datasets."
   ]
  },
  {
   "cell_type": "markdown",
   "metadata": {},
   "source": [
    "#### Functions for County-Level Election Data"
   ]
  },
  {
   "cell_type": "code",
   "execution_count": 3,
   "metadata": {},
   "outputs": [],
   "source": [
    "def County_Winners(df, state, method='categorical'):\n",
    "    \"\"\"\n",
    "    df: DataFrame\n",
    "    state: U.S. State Name (e.g. California, Idaho, etc.)\n",
    "    method: \n",
    "    \n",
    "    Returns\n",
    "    \"\"\"\n",
    "    assert method is 'categorical' or 'continuous', \"Please choose either 'categorical' or 'continuous'\"\n",
    "    if method is 'categorical':\n",
    "        max_col = 'party'\n",
    "    elif method is 'continuous':\n",
    "        max_col = 'proportion'\n",
    "    \n",
    "    state_df = df[df['state'] == state]\n",
    "\n",
    "    election_years = state_df['year'].unique()\n",
    "    winners_container = [[] for _ in range(len(election_years))]\n",
    "    \n",
    "    for idx, year in enumerate(election_years):\n",
    "        winners = state_df[state_df['year'] == year].groupby('FIPS').apply(\n",
    "            lambda county: county[max_col][county['candidatevotes'].idxmax()]).values\n",
    "        winners_container[idx] = winners\n",
    "            \n",
    "    return winners_container\n",
    "\n",
    "def County_Winners_DF(df, method='categorical'):\n",
    "    \"\"\"\n",
    "    df: \n",
    "    \n",
    "    Returns \n",
    "    \"\"\"\n",
    "    states = df['state'].unique()\n",
    "    list_counties, list_fips = [], []\n",
    "    list_2000, list_2004 = [], []\n",
    "    list_2008, list_2012 = [], []\n",
    "    list_2016 = []\n",
    "    \n",
    "    for state in states:\n",
    "        state_df = df[df['state'] == state]\n",
    "        fips = state_df['FIPS'].unique()\n",
    "        county_winners = County_Winners(df=df, state=state, method=method)\n",
    "        list_fips.extend(fips)\n",
    "        list_2000.extend(county_winners[0])\n",
    "        list_2004.extend(county_winners[1])\n",
    "        list_2008.extend(county_winners[2])\n",
    "        list_2012.extend(county_winners[3])\n",
    "        list_2016.extend(county_winners[4])\n",
    "    \n",
    "    final_dataframe = pd.DataFrame({\n",
    "    'FIPS': list_fips,\n",
    "    '2000': list_2000, '2004': list_2004, \n",
    "    '2008': list_2008, '2012': list_2012,\n",
    "    '2016': list_2016})\n",
    "    \n",
    "    if method is 'categorical':\n",
    "        final_dataframe.replace({'republican': 1, 'democrat': 0}, inplace=True)\n",
    "    else:\n",
    "        pass\n",
    "        \n",
    "    final_dataframe['Total'] = final_dataframe.loc[:, ('2000', '2004', '2008', '2012', '2016')].mean(axis=1)\n",
    "    \n",
    "    return final_dataframe"
   ]
  },
  {
   "cell_type": "code",
   "execution_count": 4,
   "metadata": {},
   "outputs": [],
   "source": [
    "county_winners_cat_df = County_Winners_DF(county_pres_df)\n",
    "county_winners_cont_df = County_Winners_DF(county_pres_df, method='continuous')"
   ]
  },
  {
   "cell_type": "markdown",
   "metadata": {},
   "source": [
    "### Google Mobility Data\n",
    "\n",
    "Here, we load in an additional dataset, Google's Mobility Report. This gives a measure of mobility before and during the COVID-19 crisis."
   ]
  },
  {
   "cell_type": "code",
   "execution_count": 5,
   "metadata": {},
   "outputs": [
    {
     "name": "stderr",
     "output_type": "stream",
     "text": [
      "/Users/sharonjan/anaconda3/lib/python3.7/site-packages/IPython/core/interactiveshell.py:3057: DtypeWarning: Columns (3) have mixed types. Specify dtype option on import or set low_memory=False.\n",
      "  interactivity=interactivity, compiler=compiler, result=result)\n"
     ]
    }
   ],
   "source": [
    "# Clean mobility data\n",
    "mob = pd.read_csv('Global_Mobility_Report.csv')\n",
    "mob = mob[mob['country_region'] == 'United States'].iloc[:, 2:]\n",
    "mob.reset_index(inplace=True)\n",
    "mob.drop(columns='index', inplace=True)\n",
    "new_cols = ['retail', 'grocery', 'parks', 'transit', 'workplaces', 'residential']\n",
    "mob.columns = ['State', 'CountyName', 'date'] + new_cols\n",
    "mob.loc[:, 'CountyName'] = mob.loc[:, 'CountyName'].str.replace(' County', '')\n",
    "mob.loc[:, 'date_ord'] = pd.to_datetime(mob['date']).map(pd.Timestamp.toordinal)\n",
    "mob = mob[mob['date_ord'] > 737490]\n",
    "\n",
    "# Create state level and county level mobility data\n",
    "state_mob = mob[mob['CountyName'].isna()== True]\n",
    "state_mob = state_mob[state_mob['State'].isna()== False]\n",
    "state_mob_pivoted = pd.pivot_table(state_mob, index=['State'])\n",
    "county_mob = mob[mob['CountyName'].isna() == False]\n",
    "county_mob_pivoted = pd.pivot_table(county_mob, index=['State','CountyName'])"
   ]
  },
  {
   "cell_type": "markdown",
   "metadata": {},
   "source": [
    "## Merge all datasets on county level and state level\n",
    "\n",
    "Our final datasets, to be test-train-split, are county_merged_df (for county level data), and state_merged_df (for state level data)"
   ]
  },
  {
   "cell_type": "code",
   "execution_count": 6,
   "metadata": {},
   "outputs": [
    {
     "data": {
      "text/html": [
       "<div>\n",
       "<style scoped>\n",
       "    .dataframe tbody tr th:only-of-type {\n",
       "        vertical-align: middle;\n",
       "    }\n",
       "\n",
       "    .dataframe tbody tr th {\n",
       "        vertical-align: top;\n",
       "    }\n",
       "\n",
       "    .dataframe thead th {\n",
       "        text-align: right;\n",
       "    }\n",
       "</style>\n",
       "<table border=\"1\" class=\"dataframe\">\n",
       "  <thead>\n",
       "    <tr style=\"text-align: right;\">\n",
       "      <th></th>\n",
       "      <th>FIPS</th>\n",
       "      <th>STATEFP</th>\n",
       "      <th>CountyName</th>\n",
       "      <th>StateName</th>\n",
       "      <th>State</th>\n",
       "      <th>stay at home</th>\n",
       "      <th>&gt;50 gatherings</th>\n",
       "      <th>&gt;500 gatherings</th>\n",
       "      <th>public schools</th>\n",
       "      <th>restaurant dine-in</th>\n",
       "      <th>...</th>\n",
       "      <th>VotedTrump2016</th>\n",
       "      <th>VotedTrump2016Cont</th>\n",
       "      <th>PresElectCont</th>\n",
       "      <th>date_ord</th>\n",
       "      <th>grocery</th>\n",
       "      <th>parks</th>\n",
       "      <th>residential</th>\n",
       "      <th>retail</th>\n",
       "      <th>transit</th>\n",
       "      <th>workplaces</th>\n",
       "    </tr>\n",
       "  </thead>\n",
       "  <tbody>\n",
       "    <tr>\n",
       "      <th>0</th>\n",
       "      <td>01001</td>\n",
       "      <td>01</td>\n",
       "      <td>Autauga</td>\n",
       "      <td>AL</td>\n",
       "      <td>Alabama</td>\n",
       "      <td>737519.0</td>\n",
       "      <td>737504.0</td>\n",
       "      <td>737497.0</td>\n",
       "      <td>737500.0</td>\n",
       "      <td>737503.0</td>\n",
       "      <td>...</td>\n",
       "      <td>1</td>\n",
       "      <td>0.727666</td>\n",
       "      <td>0.728733</td>\n",
       "      <td>737516.0</td>\n",
       "      <td>8.607843</td>\n",
       "      <td>-37.666667</td>\n",
       "      <td>12.314286</td>\n",
       "      <td>-19.392157</td>\n",
       "      <td>NaN</td>\n",
       "      <td>-27.921569</td>\n",
       "    </tr>\n",
       "    <tr>\n",
       "      <th>1</th>\n",
       "      <td>01003</td>\n",
       "      <td>01</td>\n",
       "      <td>Baldwin</td>\n",
       "      <td>AL</td>\n",
       "      <td>Alabama</td>\n",
       "      <td>737519.0</td>\n",
       "      <td>737504.0</td>\n",
       "      <td>737497.0</td>\n",
       "      <td>737500.0</td>\n",
       "      <td>737503.0</td>\n",
       "      <td>...</td>\n",
       "      <td>1</td>\n",
       "      <td>0.765457</td>\n",
       "      <td>0.755888</td>\n",
       "      <td>737516.0</td>\n",
       "      <td>-2.470588</td>\n",
       "      <td>-5.666667</td>\n",
       "      <td>9.313725</td>\n",
       "      <td>-27.705882</td>\n",
       "      <td>-15.196078</td>\n",
       "      <td>-24.411765</td>\n",
       "    </tr>\n",
       "    <tr>\n",
       "      <th>2</th>\n",
       "      <td>01005</td>\n",
       "      <td>01</td>\n",
       "      <td>Barbour</td>\n",
       "      <td>AL</td>\n",
       "      <td>Alabama</td>\n",
       "      <td>737519.0</td>\n",
       "      <td>737504.0</td>\n",
       "      <td>737497.0</td>\n",
       "      <td>737500.0</td>\n",
       "      <td>737503.0</td>\n",
       "      <td>...</td>\n",
       "      <td>1</td>\n",
       "      <td>0.520967</td>\n",
       "      <td>0.111990</td>\n",
       "      <td>737516.0</td>\n",
       "      <td>-4.333333</td>\n",
       "      <td>-5.666667</td>\n",
       "      <td>9.313725</td>\n",
       "      <td>-4.030303</td>\n",
       "      <td>-15.196078</td>\n",
       "      <td>-18.470588</td>\n",
       "    </tr>\n",
       "    <tr>\n",
       "      <th>3</th>\n",
       "      <td>01007</td>\n",
       "      <td>01</td>\n",
       "      <td>Bibb</td>\n",
       "      <td>AL</td>\n",
       "      <td>Alabama</td>\n",
       "      <td>737519.0</td>\n",
       "      <td>737504.0</td>\n",
       "      <td>737497.0</td>\n",
       "      <td>737500.0</td>\n",
       "      <td>737503.0</td>\n",
       "      <td>...</td>\n",
       "      <td>1</td>\n",
       "      <td>0.764032</td>\n",
       "      <td>0.707696</td>\n",
       "      <td>737516.0</td>\n",
       "      <td>7.900000</td>\n",
       "      <td>-5.666667</td>\n",
       "      <td>11.371429</td>\n",
       "      <td>-3.633333</td>\n",
       "      <td>-15.196078</td>\n",
       "      <td>-22.000000</td>\n",
       "    </tr>\n",
       "    <tr>\n",
       "      <th>4</th>\n",
       "      <td>01009</td>\n",
       "      <td>01</td>\n",
       "      <td>Blount</td>\n",
       "      <td>AL</td>\n",
       "      <td>Alabama</td>\n",
       "      <td>737519.0</td>\n",
       "      <td>737504.0</td>\n",
       "      <td>737497.0</td>\n",
       "      <td>737500.0</td>\n",
       "      <td>737503.0</td>\n",
       "      <td>...</td>\n",
       "      <td>1</td>\n",
       "      <td>0.893348</td>\n",
       "      <td>0.822296</td>\n",
       "      <td>737516.0</td>\n",
       "      <td>5.040816</td>\n",
       "      <td>-5.666667</td>\n",
       "      <td>11.371429</td>\n",
       "      <td>-16.175000</td>\n",
       "      <td>-44.814815</td>\n",
       "      <td>-25.725490</td>\n",
       "    </tr>\n",
       "  </tbody>\n",
       "</table>\n",
       "<p>5 rows × 21 columns</p>\n",
       "</div>"
      ],
      "text/plain": [
       "    FIPS STATEFP CountyName StateName    State  stay at home  >50 gatherings  \\\n",
       "0  01001      01    Autauga        AL  Alabama      737519.0        737504.0   \n",
       "1  01003      01    Baldwin        AL  Alabama      737519.0        737504.0   \n",
       "2  01005      01    Barbour        AL  Alabama      737519.0        737504.0   \n",
       "3  01007      01       Bibb        AL  Alabama      737519.0        737504.0   \n",
       "4  01009      01     Blount        AL  Alabama      737519.0        737504.0   \n",
       "\n",
       "   >500 gatherings  public schools  restaurant dine-in  ...  VotedTrump2016  \\\n",
       "0         737497.0        737500.0            737503.0  ...               1   \n",
       "1         737497.0        737500.0            737503.0  ...               1   \n",
       "2         737497.0        737500.0            737503.0  ...               1   \n",
       "3         737497.0        737500.0            737503.0  ...               1   \n",
       "4         737497.0        737500.0            737503.0  ...               1   \n",
       "\n",
       "   VotedTrump2016Cont  PresElectCont  date_ord   grocery      parks  \\\n",
       "0            0.727666       0.728733  737516.0  8.607843 -37.666667   \n",
       "1            0.765457       0.755888  737516.0 -2.470588  -5.666667   \n",
       "2            0.520967       0.111990  737516.0 -4.333333  -5.666667   \n",
       "3            0.764032       0.707696  737516.0  7.900000  -5.666667   \n",
       "4            0.893348       0.822296  737516.0  5.040816  -5.666667   \n",
       "\n",
       "   residential     retail    transit  workplaces  \n",
       "0    12.314286 -19.392157        NaN  -27.921569  \n",
       "1     9.313725 -27.705882 -15.196078  -24.411765  \n",
       "2     9.313725  -4.030303 -15.196078  -18.470588  \n",
       "3    11.371429  -3.633333 -15.196078  -22.000000  \n",
       "4    11.371429 -16.175000 -44.814815  -25.725490  \n",
       "\n",
       "[5 rows x 21 columns]"
      ]
     },
     "execution_count": 6,
     "metadata": {},
     "output_type": "execute_result"
    }
   ],
   "source": [
    "county_merged_df = counties_df.merge(county_winners_cat_df.loc[:, ('FIPS', '2016')], on='FIPS')\n",
    "county_merged_df.rename(columns={'2016': 'VotedTrump2016'}, inplace=True)\n",
    "county_merged_df = county_merged_df.merge(county_winners_cont_df.loc[:, ('FIPS', '2016', 'Total')], on='FIPS')\n",
    "county_merged_df.rename(columns={'2016': 'VotedTrump2016Cont', 'Total':'PresElectCont'}, inplace=True)\n",
    "\n",
    "#Merged time deaths - SJ ; again we dont use this anywhere. I suggest we delete it..\n",
    "\n",
    "#county_merged_df = county_merged_df.merge(time_deaths_df, on=('FIPS','STATEFP')) \n",
    "\n",
    "county_merged_df = county_merged_df.merge(county_mob_pivoted, \n",
    "                               on=['State', 'CountyName'], how='inner')\n",
    "\n",
    "for column in new_cols:\n",
    "    county_merged_df.loc[:, column] = county_merged_df.loc[:, column].interpolate('nearest')\n",
    "    \n",
    "county_merged_df.head()"
   ]
  },
  {
   "cell_type": "markdown",
   "metadata": {},
   "source": [
    "We also load in a binary feature, 'State Voted Trump,' as another political categorical variable for the state-level data."
   ]
  },
  {
   "cell_type": "code",
   "execution_count": 7,
   "metadata": {},
   "outputs": [
    {
     "data": {
      "text/html": [
       "<div>\n",
       "<style scoped>\n",
       "    .dataframe tbody tr th:only-of-type {\n",
       "        vertical-align: middle;\n",
       "    }\n",
       "\n",
       "    .dataframe tbody tr th {\n",
       "        vertical-align: top;\n",
       "    }\n",
       "\n",
       "    .dataframe thead th {\n",
       "        text-align: right;\n",
       "    }\n",
       "</style>\n",
       "<table border=\"1\" class=\"dataframe\">\n",
       "  <thead>\n",
       "    <tr style=\"text-align: right;\">\n",
       "      <th></th>\n",
       "      <th>State</th>\n",
       "      <th>STATEFP</th>\n",
       "      <th>StateVotedTrump</th>\n",
       "      <th>date_ord</th>\n",
       "      <th>grocery</th>\n",
       "      <th>parks</th>\n",
       "      <th>residential</th>\n",
       "      <th>retail</th>\n",
       "      <th>transit</th>\n",
       "      <th>workplaces</th>\n",
       "    </tr>\n",
       "  </thead>\n",
       "  <tbody>\n",
       "    <tr>\n",
       "      <th>0</th>\n",
       "      <td>Alabama</td>\n",
       "      <td>01</td>\n",
       "      <td>1</td>\n",
       "      <td>737516</td>\n",
       "      <td>-0.274510</td>\n",
       "      <td>13.352941</td>\n",
       "      <td>10.882353</td>\n",
       "      <td>-24.470588</td>\n",
       "      <td>-18.666667</td>\n",
       "      <td>-27.941176</td>\n",
       "    </tr>\n",
       "    <tr>\n",
       "      <th>1</th>\n",
       "      <td>Arizona</td>\n",
       "      <td>04</td>\n",
       "      <td>1</td>\n",
       "      <td>737516</td>\n",
       "      <td>-7.274510</td>\n",
       "      <td>-12.725490</td>\n",
       "      <td>12.117647</td>\n",
       "      <td>-28.019608</td>\n",
       "      <td>-29.647059</td>\n",
       "      <td>-33.705882</td>\n",
       "    </tr>\n",
       "    <tr>\n",
       "      <th>2</th>\n",
       "      <td>Arkansas</td>\n",
       "      <td>05</td>\n",
       "      <td>1</td>\n",
       "      <td>737516</td>\n",
       "      <td>0.862745</td>\n",
       "      <td>34.725490</td>\n",
       "      <td>9.235294</td>\n",
       "      <td>-19.588235</td>\n",
       "      <td>-16.862745</td>\n",
       "      <td>-25.392157</td>\n",
       "    </tr>\n",
       "    <tr>\n",
       "      <th>3</th>\n",
       "      <td>California</td>\n",
       "      <td>06</td>\n",
       "      <td>0</td>\n",
       "      <td>737516</td>\n",
       "      <td>-10.941176</td>\n",
       "      <td>-29.235294</td>\n",
       "      <td>17.019608</td>\n",
       "      <td>-38.509804</td>\n",
       "      <td>-45.019608</td>\n",
       "      <td>-38.411765</td>\n",
       "    </tr>\n",
       "    <tr>\n",
       "      <th>4</th>\n",
       "      <td>Colorado</td>\n",
       "      <td>08</td>\n",
       "      <td>0</td>\n",
       "      <td>737516</td>\n",
       "      <td>-10.490196</td>\n",
       "      <td>1.509804</td>\n",
       "      <td>15.313725</td>\n",
       "      <td>-34.686275</td>\n",
       "      <td>-44.647059</td>\n",
       "      <td>-38.470588</td>\n",
       "    </tr>\n",
       "  </tbody>\n",
       "</table>\n",
       "</div>"
      ],
      "text/plain": [
       "        State STATEFP  StateVotedTrump  date_ord    grocery      parks  \\\n",
       "0     Alabama      01                1    737516  -0.274510  13.352941   \n",
       "1     Arizona      04                1    737516  -7.274510 -12.725490   \n",
       "2    Arkansas      05                1    737516   0.862745  34.725490   \n",
       "3  California      06                0    737516 -10.941176 -29.235294   \n",
       "4    Colorado      08                0    737516 -10.490196   1.509804   \n",
       "\n",
       "   residential     retail    transit  workplaces  \n",
       "0    10.882353 -24.470588 -18.666667  -27.941176  \n",
       "1    12.117647 -28.019608 -29.647059  -33.705882  \n",
       "2     9.235294 -19.588235 -16.862745  -25.392157  \n",
       "3    17.019608 -38.509804 -45.019608  -38.411765  \n",
       "4    15.313725 -34.686275 -44.647059  -38.470588  "
      ]
     },
     "execution_count": 7,
     "metadata": {},
     "output_type": "execute_result"
    }
   ],
   "source": [
    "def temp(i):\n",
    "    if len(i) < 2:\n",
    "        i = '0' + i\n",
    "    else:\n",
    "        pass\n",
    "    return i\n",
    "\n",
    "presidential_df = pd.read_csv('1976-2016-president.csv')\n",
    "presidential_df = presidential_df[presidential_df['year'] == 2016]\n",
    "presidential_df = presidential_df[(presidential_df['party'] == 'republican') | \n",
    "                                  (presidential_df['party'] == 'democrat')]\n",
    "\n",
    "winners = presidential_df.groupby('state').apply(lambda state: state['candidate'][state['candidatevotes'].idxmax()]).values\n",
    "state_winners_df = pd.DataFrame({'STATEFP' : [temp(i) for i in presidential_df['state_fips'].unique().astype(str)],\n",
    "                                 'StateVotedTrump' : winners})\n",
    "state_winners_df.loc[:, 'StateVotedTrump'] = (state_winners_df['StateVotedTrump'] ==  'Trump, Donald J.').astype(int)\n",
    "\n",
    "#state_merged_df = state_time_deaths.merge(state_winners_df, on=('STATEFP')) # again, we dont use this data can we get rid of it - LS\n",
    "#state_merged_df = state_merged_df.merge(states_df[['STATEFP','Province_State']], on='STATEFP')\n",
    "\n",
    "state_merged_df = state_winners_df.merge(states_df[['STATEFP','Province_State']], on='STATEFP') # LS rewrote these lines to exclude death data\n",
    "\n",
    "statename = state_merged_df.pop('Province_State')\n",
    "state_merged_df.insert(0, 'State', statename)\n",
    "state_merged_df = state_merged_df.merge(state_mob_pivoted, on=['State'], how='inner')\n",
    "state_merged_df.head()"
   ]
  },
  {
   "cell_type": "markdown",
   "metadata": {},
   "source": [
    "#  Train Test Split\n",
    "\n",
    "This will be done on the state-level (i.e. 80/20 split of the states) and county-level (80/20 split on all counties)"
   ]
  },
  {
   "cell_type": "code",
   "execution_count": 8,
   "metadata": {},
   "outputs": [],
   "source": [
    "import sklearn.model_selection\n",
    "\n",
    "def train_test_split_fips(unique_fips, fips_level, df):\n",
    "    \"\"\"\n",
    "    Inputs:\n",
    "    unique_fips = list of unique FIPS\n",
    "    fips_level: either 'STATEFP' or 'FIPS'\n",
    "    df_list: list of dataframes to train/test\n",
    "    Returns:\n",
    "    list of train/test splits of each dataframe: eg: [df1_train, df1_test, df2_train, df_test]\n",
    "    \"\"\"\n",
    "    assert (fips_level == 'FIPS' or fips_level == 'STATEFP'), \"Please enter 'STATEFP' or 'FIPS' for fips_level\"\n",
    "\n",
    "    #Train/Test Split FIPS IDs\n",
    "    tr, te = sklearn.model_selection.train_test_split(\n",
    "    unique_fips, train_size=0.8, test_size=0.2, random_state=47, shuffle=True)\n",
    "    \n",
    "    return df[df[fips_level].isin(tr)], df[df[fips_level].isin(te)]"
   ]
  },
  {
   "cell_type": "code",
   "execution_count": 9,
   "metadata": {},
   "outputs": [
    {
     "name": "stdout",
     "output_type": "stream",
     "text": [
      "State train size:  39 , state test size:  10\n",
      "County train size:  2136 , county test size:  534\n"
     ]
    }
   ],
   "source": [
    "#Unique Fips Codes\n",
    "statefp = state_merged_df['STATEFP'].unique()\n",
    "countyfp = county_merged_df['FIPS'].unique()\n",
    "\n",
    "#State Level DFs\n",
    "state_train, state_test = train_test_split_fips(statefp, 'STATEFP', state_merged_df)\n",
    "\n",
    "#County Level DFs (doesn't include states_df)\n",
    "county_train, county_test = train_test_split_fips(countyfp, 'FIPS', county_merged_df)\n",
    "\n",
    "print(\"State train size: \", state_train.shape[0], \", state test size: \", state_test.shape[0])\n",
    "print(\"County train size: \", county_train.shape[0], \", county test size: \", county_test.shape[0])"
   ]
  },
  {
   "cell_type": "code",
   "execution_count": 10,
   "metadata": {},
   "outputs": [],
   "source": [
    "#Shape file merge? Haven't touched yet\n",
    "#final_cat_merged = shape.merge(county_merged_df, on=['STATEFP', 'COUNTYFP'])\n",
    "#final_cat_merged = final_cat_merged.loc[:, ('FIPS', 'STATEFP', 'COUNTYFP', 'CountyName', 'State', 'stay at home', \n",
    "#                    '>50 gatherings', '>500 gatherings', 'public schools', 'restaurant dine-in', 'entertainment/gym',\n",
    "#                    'date_ord', 'grocery', 'parks', 'residential', 'retail', 'transit', 'workplaces', '2000', '2004', '2008', '2012', \n",
    "#                    '2016', 'Total','geometry')]\n",
    "#final_cat_merged.to_csv('final_cat_merged.csv', index=False)\n",
    "\n",
    "#mob_merged = cont_merged.merge(pd.pivot_table(mob, index=['State', 'CountyName']), \n",
    " #                              on=['State', 'CountyName'], how='inner')\n",
    "\n",
    "#final_cont_merged = shape.merge(mob_merged, on=['STATEFP', 'COUNTYFP'])\n",
    "#final_cont_merged = final_cont_merged.loc[:, ('FIPS', 'STATEFP', 'COUNTYFP', 'CountyName', 'State', 'stay at home', \n",
    "#                    '>50 gatherings', '>500 gatherings', 'public schools', 'restaurant dine-in', 'entertainment/gym',\n",
    "##                    '2016', 'Total','geometry')]\n",
    "#final_cont_merged.to_csv('final_cont_merged.csv', index=False)"
   ]
  },
  {
   "cell_type": "code",
   "execution_count": 11,
   "metadata": {},
   "outputs": [],
   "source": [
    "# could we instead change this visualization so it's not random? It's hard to know what this means. Also, what is the X axis? - LS"
   ]
  },
  {
   "cell_type": "markdown",
   "metadata": {},
   "source": [
    "\n",
    "## County order features EDA\n",
    "\n",
    "Below is a graph of three random counties' workplace mobility data."
   ]
  },
  {
   "cell_type": "code",
   "execution_count": 12,
   "metadata": {},
   "outputs": [
    {
     "data": {
      "text/plain": [
       "<matplotlib.axes._subplots.AxesSubplot at 0x1a21ebadd8>"
      ]
     },
     "execution_count": 12,
     "metadata": {},
     "output_type": "execute_result"
    },
    {
     "data": {
      "image/png": "[encoded data removed]",
      "text/plain": [
       "<Figure size 432x288 with 1 Axes>"
      ]
     },
     "metadata": {
      "needs_background": "light"
     },
     "output_type": "display_data"
    }
   ],
   "source": [
    "county1, state1 = county_train.iloc[1]['CountyName'], county_train.iloc[1]['State']\n",
    "county2, state2 = county_train.iloc[500]['CountyName'], county_train.iloc[500]['State']\n",
    "county3, state3 = county_train.iloc[1000]['CountyName'], county_train.iloc[1000]['State']\n",
    "\n",
    "sns.scatterplot('date_ord', 'workplaces', data=mob[(mob['CountyName'] == county1) \\\n",
    "                                                            & (mob['State'] == state1)])\n",
    "sns.scatterplot('date_ord', 'workplaces', data=mob[(mob['CountyName'] == county2) \\\n",
    "                                                            & (mob['State'] == state2)])\n",
    "sns.scatterplot('date_ord', 'workplaces', data=mob[(mob['CountyName'] == county3) \\\n",
    "                                                            & (mob['State'] == state3)])"
   ]
  },
  {
   "cell_type": "markdown",
   "metadata": {},
   "source": [
    "Let's look at the distribution of stay at home orders by county:"
   ]
  },
  {
   "cell_type": "code",
   "execution_count": 13,
   "metadata": {
    "scrolled": false
   },
   "outputs": [
    {
     "data": {
      "text/plain": [
       "Text(0.5, 1.0, 'Distribution of stay at home orders by US county')"
      ]
     },
     "execution_count": 13,
     "metadata": {},
     "output_type": "execute_result"
    },
    {
     "data": {
      "image/png": "[encoded data removed]",
      "text/plain": [
       "<Figure size 432x288 with 1 Axes>"
      ]
     },
     "metadata": {
      "needs_background": "light"
     },
     "output_type": "display_data"
    }
   ],
   "source": [
    "for trump in range(0,2):\n",
    "    county_sub = county_train[county_train[\"VotedTrump2016\"]== trump]\n",
    "    sns.distplot(county_sub[\"stay at home\"].dropna())\n",
    "plt.legend([\"Clinton county 2016\", \"Trump county 2016\"])\n",
    "\n",
    "plt.title(\"Distribution of stay at home orders by US county\")"
   ]
  },
  {
   "cell_type": "markdown",
   "metadata": {},
   "source": [
    "# State Order Features\n",
    "Okay, now what I really want to do is understand how policies, like \"stay at home orders\" impact the new daily cases by county.\n",
    "\n",
    "Creates some new features to describe: \n",
    "- Earliest order in state (for all orders)\n",
    "- Latest order in state (for all orders)\n",
    "- Whether state had same order across the state (for all orders)\n",
    "- County's order date relative to state"
   ]
  },
  {
   "cell_type": "code",
   "execution_count": 14,
   "metadata": {},
   "outputs": [],
   "source": [
    "# This function converts ordinal date to pandas date\n",
    "\n",
    "def convert_ordinal_date_series_to_pd_date(series_object):\n",
    "    \"\"\"\n",
    "    This function takes a series object of ordinal dates (days from the beginning of the \n",
    "    Gregorian calendar) and returns a pandas date time object series\n",
    "    \"\"\"\n",
    "    #series_object = series_object.astype(int)\n",
    "    k = []\n",
    "    y = 0\n",
    "    \n",
    "    for ordinal_date in series_object:\n",
    "        if np.isnan(ordinal_date) == True:\n",
    "            y += 1\n",
    "            k.append(np.nan)\n",
    "            \n",
    "        else:\n",
    "            ordinal_date = int(ordinal_date)\n",
    "            k.append(pd.to_datetime(datetime.datetime.fromordinal(ordinal_date)))\n",
    "    print(\"Your series has\", y, \"NaNs. This function converts them to NaTs.\")\n",
    "    return pd.Series(k, index = series_object.index)"
   ]
  },
  {
   "cell_type": "code",
   "execution_count": 15,
   "metadata": {},
   "outputs": [],
   "source": [
    "def state_orders_features(df, col, statefp= 'STATEFP'):\n",
    "    \"\"\"\n",
    "    Inputs: df (dataframe), column (string of column name), statefp = STATEFP column\n",
    "    Outputs a list of series: \n",
    "    1) The earliest date for the order, \n",
    "    2) The latest date for the order,\n",
    "    3) Whether every county in the state has the same date of order (most likely a state order)\n",
    "    4) Whether a county's order was before the median of the state (assuming the median will be the state order)\n",
    "    \"\"\"\n",
    "    return [df[col].groupby(df[statefp]).transform(min),\n",
    "            df[col].groupby(df[statefp]).transform(max),\n",
    "            df[col].groupby(df[statefp]).transform(min) == df[col].groupby(df[statefp]).transform(max),\n",
    "            df[col] - df[col].groupby(df[statefp]).transform('median')]\n",
    "\n",
    "def add_state_orders_features_to_df(df, orders_columns, statefp = 'STATEFP'):\n",
    "    \"\"\"\n",
    "    Adds state_orders_features to dataframe\n",
    "    \"\"\"\n",
    "    for col in orders_columns:\n",
    "        df['Earliest '+ col] = state_orders_features(df, col, statefp)[0]\n",
    "        df['Latest '+ col] = state_orders_features(df, col, statefp)[1]\n",
    "        df[col + ' same for whole state'] = state_orders_features(df, col, statefp)[2]\n",
    "        df[col + ' relative to state'] = state_orders_features(df, col, statefp)[3]\n",
    "    return df"
   ]
  },
  {
   "cell_type": "code",
   "execution_count": 16,
   "metadata": {},
   "outputs": [],
   "source": [
    "# Apply state_orders_features and add_state_orders_features_to_df \n",
    "\n",
    "pd.set_option('mode.chained_assignment', None) #this is to make that slice error go away\n",
    "orders_columns = ['stay at home', '>50 gatherings',\n",
    "       '>500 gatherings', 'public schools', 'restaurant dine-in',\n",
    "       'entertainment/gym']\n",
    "\n",
    "county_train = add_state_orders_features_to_df(county_train, orders_columns)"
   ]
  },
  {
   "cell_type": "markdown",
   "metadata": {},
   "source": [
    "# Characterizing time series data (disease growth)"
   ]
  },
  {
   "cell_type": "markdown",
   "metadata": {},
   "source": [
    "### Simple time series model\n",
    "\n",
    "A simple way to think about the time series data would be to fit it with a simple quadratic equation of the form:\n",
    "\n",
    "$new.cases = \\beta_1~time + \\beta_2~time^2$\n",
    "\n",
    "The advantage of this model, is that it characterizes the curve with just two parameters. Because the growth should begin at (0,0) there is no need for an intercep parameter. Functionally, this forces the quadratic to go through the origin.\n",
    "\n",
    "The function to calculate this model for states is below. It includes a plotting option."
   ]
  },
  {
   "cell_type": "code",
   "execution_count": 17,
   "metadata": {},
   "outputs": [],
   "source": [
    "#This function re-reads the dataset. We're probably not keeping the quadratic function features so I think its fine\n",
    "\n",
    "def quadratic_time_series_model_daily_cases_state(state, threshold=300, min_observation_days=15, plot=False,intercept=False):\n",
    "    \"\"\"\n",
    "    Function to get beta values for a quadratic time series model.\n",
    "    Use state name variable to specify the relevant state region. \n",
    "    Threshold is a scalar for the total number of cases in a region before beginning to fit the model.\n",
    "    Has an option to generate a basic plot when plot = True.\n",
    "    Minimum observation days sets a minimum number of days since the threshold case value was reached to calculate the model.\n",
    "    If the minimum observation days are not met, the function returns a list of nans.\n",
    "    \n",
    "    Returns a list of intercept, beta_1, and beta_2 in the model below\n",
    "    \n",
    "    ***\n",
    "    FORMULA\n",
    "    daily_new_cases = beta_0 + beta_1*days_since_threshold_cases + beta_2*days_since_threshold_cases^2\n",
    "   \"\"\"\n",
    "    time_cases_df = pd.read_csv(\"time_series_covid19_confirmed_US.csv\") # I'm reloading this dataset here because the function below doesn't work with the way other teammates cleaned the data\n",
    "    \n",
    "    pd.set_option('mode.chained_assignment', None)\n",
    "\n",
    "    ids = [\"FIPS\",\"Admin2\", \"Province_State\", \"Country_Region\"]\n",
    "\n",
    "    date_column_begin = 11\n",
    "\n",
    "    df = time_cases_df[ids + list(time_cases_df.columns[date_column_begin:])]\n",
    "\n",
    "    df = df.melt(ids).rename(columns = {\"value\" : \"cases\"})\n",
    "\n",
    "\n",
    "    date = pd.to_datetime(df[\"variable\"], format=\"%m/%d/%y\")\n",
    "\n",
    "    df[\"date\"] = date\n",
    "\n",
    "\n",
    "    county_df = df.pivot_table(values = \"cases\", index = [ \"Province_State\", \"date\"],  aggfunc=sum).reset_index()\n",
    "\n",
    "\n",
    "    county_df = county_df[county_df[\"Province_State\"] == state]\n",
    "\n",
    "    zero = np.array([0])\n",
    "\n",
    "    new_cases_array = np.concatenate([zero, np.diff(county_df[\"cases\"])])\n",
    "\n",
    "    county_df.loc[:,\"daily_new_cases\"] = (new_cases_array) #Error here: A value is trying to be set on a copy of a slice from a DataFrame\n",
    "\n",
    "\n",
    "    county_df = county_df[county_df[\"cases\"] >= threshold]\n",
    "        \n",
    "    if len(county_df) < min_observation_days:\n",
    "        return [np.nan, np.nan, np.nan]\n",
    "    else:\n",
    "    \n",
    "        county_df[\"days_since_threshold\"] = np.arange(0,len(county_df))\n",
    "\n",
    "        county_df[\"days_since_threshold^2\"] = county_df[\"days_since_threshold\"]**2\n",
    "\n",
    "\n",
    "        lm = LinearRegression(fit_intercept = intercept)\n",
    "\n",
    "        x = county_df[[\"days_since_threshold\",\"days_since_threshold^2\"]]\n",
    "\n",
    "        y = np.array(county_df[\"daily_new_cases\"]).reshape(-1,1)\n",
    "\n",
    "        lm.fit(x,y)\n",
    "\n",
    "        if plot == True:\n",
    "            y_hat = lm.predict(x)\n",
    "            plt.plot(county_df[\"days_since_threshold\"], (county_df[\"daily_new_cases\"]))\n",
    "            plt.plot(county_df[\"days_since_threshold\"], y_hat)\n",
    "\n",
    "            plot_title_string = county_df[\"Province_State\"].iloc[0]\n",
    "            plt.title(\"Quadratic modeling of daily cases for {}\".format(plot_title_string))\n",
    "            plt.ylabel(\"Daily new cases\")\n",
    "            plt.xlabel(\"days since {} cases\".format(threshold))\n",
    "\n",
    "        if intercept == True:\n",
    "            return [lm.intercept_[0], lm.coef_[0][0], lm.coef_[0][1]]\n",
    "        else:\n",
    "            return [0, lm.coef_[0][0], lm.coef_[0][1]]"
   ]
  },
  {
   "cell_type": "code",
   "execution_count": 18,
   "metadata": {},
   "outputs": [
    {
     "data": {
      "text/plain": [
       "[0, 74.15744786287604, -1.0570409363453805]"
      ]
     },
     "execution_count": 18,
     "metadata": {},
     "output_type": "execute_result"
    },
    {
     "data": {
      "image/png": "[encoded data removed]",
      "text/plain": [
       "<Figure size 432x288 with 1 Axes>"
      ]
     },
     "metadata": {
      "needs_background": "light"
     },
     "output_type": "display_data"
    }
   ],
   "source": [
    "quadratic_time_series_model_daily_cases_state(\"California\", plot=True, intercept=False)"
   ]
  },
  {
   "cell_type": "code",
   "execution_count": 19,
   "metadata": {
    "scrolled": true
   },
   "outputs": [
    {
     "data": {
      "text/plain": [
       "[0, 18.106329459277866, -0.6196223816717951]"
      ]
     },
     "execution_count": 19,
     "metadata": {},
     "output_type": "execute_result"
    },
    {
     "data": {
      "image/png": "[encoded data removed]",
      "text/plain": [
       "<Figure size 432x288 with 1 Axes>"
      ]
     },
     "metadata": {
      "needs_background": "light"
     },
     "output_type": "display_data"
    }
   ],
   "source": [
    "quadratic_time_series_model_daily_cases_state(\"Utah\", plot=True, intercept=False)"
   ]
  },
  {
   "cell_type": "markdown",
   "metadata": {},
   "source": [
    "The function below runs the quadratic model for all the states"
   ]
  },
  {
   "cell_type": "code",
   "execution_count": 20,
   "metadata": {},
   "outputs": [],
   "source": [
    "#This function re-reads the dataset. We're probably not keeping the quadratic function features so I think its fine\n",
    "\n",
    "def create_state_beta_table(threshold=300, min_observation_days=15, intercept=False):\n",
    "    \n",
    "    time_cases_df = pd.read_csv(\"time_series_covid19_confirmed_US.csv\") # I'm reloading this dataset here because the function below doesn't work with the way other teammates cleaned the data\n",
    "    pd.set_option('mode.chained_assignment', None)\n",
    "    \n",
    "    ids = [\"FIPS\",\"Admin2\", \"Province_State\", \"Country_Region\"]\n",
    "\n",
    "    date_column_begin = 11\n",
    "\n",
    "    df = time_cases_df[ids + list(time_cases_df.columns[date_column_begin:])]\n",
    "    \n",
    "    df = df[-df[\"FIPS\"].isna()] #drop cases with no FIPS ID\n",
    "    \n",
    "    df = df.melt(ids).rename(columns = {\"value\" : \"cases\"})\n",
    "\n",
    "    date = pd.to_datetime(df[\"variable\"], format=\"%m/%d/%y\")\n",
    "\n",
    "    df[\"date\"] = date\n",
    "    \n",
    "    df = df.pivot_table(values = \"cases\", index = [ \"Province_State\", \"date\"],  aggfunc=sum).reset_index()\n",
    "    \n",
    "    zero = np.array([0])\n",
    "    \n",
    "    k = []\n",
    "    \n",
    "    for state in np.unique(time_cases_df[\"Province_State\"]):\n",
    "        \n",
    "        county_df = df[df[\"Province_State\"] == state]\n",
    "\n",
    "        zero = np.array([0])\n",
    "\n",
    "        new_cases_array = np.concatenate([zero, np.diff(county_df[\"cases\"])])\n",
    "\n",
    "        county_df.loc[:,\"daily_new_cases\"] = (new_cases_array) #Error here: A value is trying to be set on a copy of a slice from a DataFrame\n",
    "\n",
    "\n",
    "        county_df = county_df[county_df[\"cases\"] >= threshold]\n",
    "\n",
    "        if len(county_df) < min_observation_days:\n",
    "            k.append([np.nan, np.nan, np.nan])\n",
    "            \n",
    "        else:\n",
    "            county_df[\"days_since_threshold\"] = np.arange(0,len(county_df))\n",
    "\n",
    "            county_df[\"days_since_threshold^2\"] = county_df[\"days_since_threshold\"]**2\n",
    "\n",
    "            lm = LinearRegression()\n",
    "\n",
    "            x = county_df[[\"days_since_threshold\",\"days_since_threshold^2\"]]\n",
    "\n",
    "            y = np.array(county_df[\"daily_new_cases\"]).reshape(-1,1)\n",
    "\n",
    "            lm.fit(x,y)\n",
    "            \n",
    "            if intercept == True:\n",
    "                k.append([lm.intercept_[0], lm.coef_[0][0], lm.coef_[0][1] ])\n",
    "            else:\n",
    "                k.append([0, lm.coef_[0][0], lm.coef_[0][1] ])\n",
    "        \n",
    "    state_betas = pd.DataFrame(k).rename(columns = {0:\"beta0\",1:\"beta1\",2:\"beta2\"})\n",
    "    state_betas.index = np.unique(time_cases_df[\"Province_State\"])\n",
    "\n",
    "    return(state_betas)"
   ]
  },
  {
   "cell_type": "markdown",
   "metadata": {},
   "source": [
    "Now let's look at the distribution of these beta values with respect to our political features."
   ]
  },
  {
   "cell_type": "code",
   "execution_count": 21,
   "metadata": {},
   "outputs": [
    {
     "data": {
      "image/png": "[encoded data removed]",
      "text/plain": [
       "<Figure size 864x360 with 1 Axes>"
      ]
     },
     "metadata": {
      "needs_background": "light"
     },
     "output_type": "display_data"
    }
   ],
   "source": [
    "state_train = pd.merge(state_train, create_state_beta_table(), left_on=\"State\", right_index=True) # merge\n",
    "\n",
    "fig, ax = plt.subplots(figsize=(12,5))\n",
    "\n",
    "g=sns.scatterplot(\"beta1\", \"beta2\", hue=\"StateVotedTrump\", data = state_train)"
   ]
  },
  {
   "cell_type": "code",
   "execution_count": 22,
   "metadata": {
    "scrolled": false
   },
   "outputs": [
    {
     "data": {
      "text/plain": [
       "Text(0.5, 1.0, 'Distribution of state beta 2 values')"
      ]
     },
     "execution_count": 22,
     "metadata": {},
     "output_type": "execute_result"
    },
    {
     "data": {
      "image/png": "[encoded data removed]",
      "text/plain": [
       "<Figure size 1080x432 with 2 Axes>"
      ]
     },
     "metadata": {
      "needs_background": "light"
     },
     "output_type": "display_data"
    }
   ],
   "source": [
    "fig,ax = plt.subplots(1,2, figsize=(15,6))\n",
    "\n",
    "for trump in range(0,2):\n",
    "    state_sub = state_train[state_train[\"StateVotedTrump\"]== trump]\n",
    "    sns.distplot(state_sub[\"beta1\"].dropna(), ax=ax[0])\n",
    "    \n",
    "ax[0].legend([\"Clinton state 2016\", \"Trump state 2016\"])\n",
    "ax[0].set_title(\"Distribution of state beta 1 values\")\n",
    "\n",
    "for trump in range(0,2):\n",
    "    state_sub = state_train[state_train[\"StateVotedTrump\"]== trump]\n",
    "    sns.distplot(state_sub[\"beta2\"].dropna(), ax=ax[1])\n",
    "    \n",
    "ax[1].legend([\"Clinton state 2016\", \"Trump state 2016\"])\n",
    "ax[1].set_title(\"Distribution of state beta 2 values\")"
   ]
  },
  {
   "cell_type": "markdown",
   "metadata": {},
   "source": [
    "Unfortunately, it looks like the quadratic model doesn't really show much variance. All the observations are blobbed together in the corner, with no clear relationship to 2016 election results. In addition, states with large outbreaks have higher much higher $\\beta_1$ and $\\beta_2$ values in absolute terms."
   ]
  },
  {
   "cell_type": "markdown",
   "metadata": {},
   "source": [
    "## Estimating the Effective Reproductive Number (R)\n",
    "\n",
    "The issue with the quadratic model is that it really just shows the intensity of the outbreaks, not the true rate of transmission. This is because it has the incorrect functional form. Disease outbreaks should be modeled as exponentials. Epidimiologists use the Reproductive Number $R$ to describe disease outbreaks.\n",
    "\n",
    "I'm going to now build a function to estimate the Effective Reproductive Number $R$ so that we can use it as a parameter in our models. This should better characterize the multipication of the disease irrespective of how large the outbreak is any given region.\n",
    "\n",
    "More information here:\n",
    "\n",
    "https://en.wikipedia.org/wiki/Basic_reproduction_number\n",
    "\n",
    "***\n",
    "\n",
    "**Equations from wikipedia:**\n",
    "\n",
    "$R=e^{K\\tau}$\n",
    "\n",
    "$K = \\cfrac{d}{dt} ln(N(t))$\n",
    "\n",
    "$\\tau = \\text{the serial interval}$\n",
    "\n",
    "$N(t) = \\text{an exponential time series for the number of cases over time (t}$\n",
    "\n",
    "\n",
    "***\n",
    "\n",
    "**My own math for these calculations:**\n",
    "\n",
    "$N(t) = e^{kt}$\n",
    "\n",
    "$ln(N(t)) = ln(e^{kt})$\n",
    "\n",
    "\n",
    "$ln(N(t)) = kt*ln(e)$\n",
    "\n",
    "$ln(N(t)) = kt$\n",
    "\n",
    "$\\frac{d}{dt}ln(N(t)) = k$\n",
    "\n",
    "***\n",
    "Let's start by estimating  $R$ based off only the last 3 weeks (21 days). The reasoning for this is that a variety of factors related to behavioral and political intervention should have a differential effect on $R$. In the early stages of this outbreak, we might expect less consistent efforts.\n",
    "\n",
    "Note that $R$ estimations also requre a serial interval $\\tau$ that indicates how many days it take for each person to spread the disease. I'm estimating that it takes 7 days in the function below, based on media reports."
   ]
  },
  {
   "cell_type": "code",
   "execution_count": 23,
   "metadata": {},
   "outputs": [],
   "source": [
    "def calculate_R(state_or_FIPS, start_date=67, end_date=88, serial_interval = 7, min_obs=15):\n",
    "    \"\"\"\n",
    "    calculates R value using either State names (must be strings) or FIPS codes (must be numeric). \n",
    "    Altetantively, input a Pandas Series object of state strings or FIPS codes.\n",
    "    \n",
    "    Specify time series start date and end date over the period day 0 to day 88\n",
    "    \n",
    "    Serial interval is the time lag (in days) for the spread of the disease\n",
    "    \n",
    "    min obs is a minimum number of observed case reporting days for each instance\n",
    "    \n",
    "    Returns the basic reproductive number R, and the associated K\n",
    "    \n",
    "    LaTeX FORMULAS\n",
    "    \n",
    "    $R_0=e^{K~\\tau}$\n",
    "\n",
    "    $K = \\cfrac{d~ ln(N(t))}{dt}$\n",
    "\n",
    "    $\\tau = \\text{the serial interval}$\n",
    "\n",
    "    $N(t) = \\text{an exponential time series for the number of cases over time (t}$\n",
    "\n",
    "    \"\"\"\n",
    "\n",
    "    pd.set_option('mode.chained_assignment', None)\n",
    "    \n",
    "    ids = [\"FIPS\",\"Admin2\", \"Province_State\"]\n",
    "\n",
    "    date_column_begin = 4\n",
    "    df = time_cases_df[ids + list(time_cases_df.columns[date_column_begin:])]\n",
    "    \n",
    "    df[\"FIPS\"] = pd.to_numeric(df[\"FIPS\"])\n",
    "    \n",
    "    df = df.melt(ids).rename(columns = {\"value\" : \"cases\"})\n",
    "    date = pd.to_datetime(df[\"variable\"], format=\"%m/%d/%y\")\n",
    "    df[\"date\"] = date\n",
    "\n",
    "\n",
    "    if isinstance(state_or_FIPS, pd.Series):\n",
    "        j = []\n",
    "       \n",
    "        fips_table = df.pivot_table(values = \"cases\", index = [\"FIPS\", \"date\", \"Province_State\"],  aggfunc=sum).reset_index()\n",
    "        \n",
    "        \n",
    "        for code in state_or_FIPS:\n",
    "            #print(code)\n",
    "            if isinstance(code, str):\n",
    "                county_df = df.pivot_table(values = \"cases\", index = [ \"Province_State\", \"date\"],  aggfunc=sum).reset_index()\n",
    "                county_df = county_df[county_df[\"Province_State\"] == code]\n",
    "\n",
    "            else:\n",
    "                county_df = fips_table[fips_table[\"FIPS\"] == code]\n",
    "                \n",
    "\n",
    "            zero = np.array([0])\n",
    "            new_cases_array = np.concatenate([zero, np.diff(county_df[\"cases\"])])\n",
    "            county_df.loc[:,\"daily_new_cases\"] = (new_cases_array) #Error here: A value is trying to be set on a copy of a slice from a DataFram\n",
    "\n",
    "            county_df = county_df.iloc[start_date:end_date+1]\n",
    "\n",
    "\n",
    "            county_df[\"days\"] = np.arange(0,len(county_df))\n",
    "\n",
    "\n",
    "            county_df = county_df[county_df[\"daily_new_cases\"] > 0]\n",
    "\n",
    "            if len(county_df) < min_obs: #an in if statement here in case there are no cases\n",
    "                j.append([np.nan,np.nan])\n",
    "\n",
    "            else:\n",
    "\n",
    "                lm = LinearRegression()\n",
    "\n",
    "                x = np.array(county_df[\"days\"]).reshape(-1,1)\n",
    "                y = np.log(np.array(county_df[\"daily_new_cases\"]).reshape(-1,1))\n",
    "                lm.fit(x,y)\n",
    "\n",
    "                K = lm.coef_[0]\n",
    "\n",
    "                R = np.exp(lm.coef_[0] * serial_interval)\n",
    "\n",
    "                j.append([R[0], K[0]])\n",
    "\n",
    "        values = pd.DataFrame(j).rename(columns = {0:\"R\",1:\"K\"})\n",
    "        values.index = state_or_FIPS\n",
    "        return values\n",
    "\n",
    "\n",
    "    elif isinstance(state_or_FIPS, str):\n",
    "        county_df = df.pivot_table(values = \"cases\", index = [ \"Province_State\", \"date\"],  aggfunc=sum).reset_index()\n",
    "        county_df = county_df[county_df[\"Province_State\"] == state_or_FIPS]\n",
    "\n",
    "    else:\n",
    "        county_df = df.pivot_table(values = \"cases\", index = [\"FIPS\", \"date\", \"Admin2\", \"Province_State\"],  aggfunc=sum).reset_index()\n",
    "        county_df = county_df[county_df[\"FIPS\"] == state_or_FIPS]\n",
    "\n",
    "\n",
    "    zero = np.array([0])\n",
    "    new_cases_array = np.concatenate([zero, np.diff(county_df[\"cases\"])])\n",
    "    county_df.loc[:,\"daily_new_cases\"] = (new_cases_array) #Error here: A value is trying to be set on a copy of a slice from a DataFrame\n",
    "\n",
    "\n",
    "    county_df = county_df.iloc[start_date:end_date+1]\n",
    "\n",
    "\n",
    "    county_df[\"days\"] = np.arange(0,len(county_df))\n",
    "\n",
    "\n",
    "    county_df = county_df[county_df[\"daily_new_cases\"] > 0]\n",
    "\n",
    "        #an in if statement here in case there are no cases\n",
    "    if len(county_df) < min_obs:\n",
    "        return [np.nan, np.nan]\n",
    "    else:\n",
    "\n",
    "        lm = LinearRegression()\n",
    "\n",
    "        x = np.array(county_df[\"days\"]).reshape(-1,1)\n",
    "        y = np.log(np.array(county_df[\"daily_new_cases\"]).reshape(-1,1))\n",
    "        lm.fit(x,y)\n",
    "\n",
    "        K = lm.coef_[0]\n",
    "\n",
    "        R = np.exp(lm.coef_[0] * serial_interval)\n",
    "    \n",
    "        print(\"R,K for\" ,state_or_FIPS)\n",
    "        return R[0], K[0]"
   ]
  },
  {
   "cell_type": "markdown",
   "metadata": {},
   "source": [
    "Below, are some examples of how to use this function:"
   ]
  },
  {
   "cell_type": "code",
   "execution_count": 24,
   "metadata": {},
   "outputs": [
    {
     "name": "stdout",
     "output_type": "stream",
     "text": [
      "R,K for California\n"
     ]
    },
    {
     "data": {
      "text/plain": [
       "(1.043303999061838, 0.006056085653360178)"
      ]
     },
     "execution_count": 24,
     "metadata": {},
     "output_type": "execute_result"
    }
   ],
   "source": [
    "calculate_R(\"California\")"
   ]
  },
  {
   "cell_type": "code",
   "execution_count": 25,
   "metadata": {},
   "outputs": [
    {
     "name": "stdout",
     "output_type": "stream",
     "text": [
      "R,K for 6001\n"
     ]
    },
    {
     "data": {
      "text/plain": [
       "(1.1727195571576703, 0.022760779911390708)"
      ]
     },
     "execution_count": 25,
     "metadata": {},
     "output_type": "execute_result"
    }
   ],
   "source": [
    "calculate_R(6001) # This looks at R for a numeric FIPS code!"
   ]
  },
  {
   "cell_type": "code",
   "execution_count": 26,
   "metadata": {},
   "outputs": [
    {
     "data": {
      "text/html": [
       "<div>\n",
       "<style scoped>\n",
       "    .dataframe tbody tr th:only-of-type {\n",
       "        vertical-align: middle;\n",
       "    }\n",
       "\n",
       "    .dataframe tbody tr th {\n",
       "        vertical-align: top;\n",
       "    }\n",
       "\n",
       "    .dataframe thead th {\n",
       "        text-align: right;\n",
       "    }\n",
       "</style>\n",
       "<table border=\"1\" class=\"dataframe\">\n",
       "  <thead>\n",
       "    <tr style=\"text-align: right;\">\n",
       "      <th></th>\n",
       "      <th>R</th>\n",
       "      <th>K</th>\n",
       "    </tr>\n",
       "  </thead>\n",
       "  <tbody>\n",
       "    <tr>\n",
       "      <th>Alabama</th>\n",
       "      <td>1.310210</td>\n",
       "      <td>0.038598</td>\n",
       "    </tr>\n",
       "    <tr>\n",
       "      <th>Arizona</th>\n",
       "      <td>0.990022</td>\n",
       "      <td>-0.001433</td>\n",
       "    </tr>\n",
       "    <tr>\n",
       "      <th>Arkansas</th>\n",
       "      <td>1.270427</td>\n",
       "      <td>0.034193</td>\n",
       "    </tr>\n",
       "    <tr>\n",
       "      <th>California</th>\n",
       "      <td>1.043304</td>\n",
       "      <td>0.006056</td>\n",
       "    </tr>\n",
       "    <tr>\n",
       "      <th>Colorado</th>\n",
       "      <td>1.283584</td>\n",
       "      <td>0.035665</td>\n",
       "    </tr>\n",
       "    <tr>\n",
       "      <th>Connecticut</th>\n",
       "      <td>1.333251</td>\n",
       "      <td>0.041089</td>\n",
       "    </tr>\n",
       "    <tr>\n",
       "      <th>Delaware</th>\n",
       "      <td>1.785005</td>\n",
       "      <td>0.082774</td>\n",
       "    </tr>\n",
       "    <tr>\n",
       "      <th>District of Columbia</th>\n",
       "      <td>1.317815</td>\n",
       "      <td>0.039425</td>\n",
       "    </tr>\n",
       "    <tr>\n",
       "      <th>Florida</th>\n",
       "      <td>1.047769</td>\n",
       "      <td>0.006666</td>\n",
       "    </tr>\n",
       "    <tr>\n",
       "      <th>Georgia</th>\n",
       "      <td>1.268211</td>\n",
       "      <td>0.033944</td>\n",
       "    </tr>\n",
       "  </tbody>\n",
       "</table>\n",
       "</div>"
      ],
      "text/plain": [
       "                             R         K\n",
       "Alabama               1.310210  0.038598\n",
       "Arizona               0.990022 -0.001433\n",
       "Arkansas              1.270427  0.034193\n",
       "California            1.043304  0.006056\n",
       "Colorado              1.283584  0.035665\n",
       "Connecticut           1.333251  0.041089\n",
       "Delaware              1.785005  0.082774\n",
       "District of Columbia  1.317815  0.039425\n",
       "Florida               1.047769  0.006666\n",
       "Georgia               1.268211  0.033944"
      ]
     },
     "execution_count": 26,
     "metadata": {},
     "output_type": "execute_result"
    }
   ],
   "source": [
    "states = pd.Series(np.unique(time_cases_df[\"Province_State\"]))\n",
    "Rs = calculate_R(states)\n",
    "Rs.head(10)"
   ]
  },
  {
   "cell_type": "code",
   "execution_count": 27,
   "metadata": {},
   "outputs": [
    {
     "name": "stdout",
     "output_type": "stream",
     "text": [
      "R,K for Georgia\n"
     ]
    },
    {
     "data": {
      "text/plain": [
       "(1.2682106346994593, 0.03394385113041857)"
      ]
     },
     "execution_count": 27,
     "metadata": {},
     "output_type": "execute_result"
    }
   ],
   "source": [
    "calculate_R(\"Georgia\")"
   ]
  },
  {
   "cell_type": "code",
   "execution_count": 28,
   "metadata": {},
   "outputs": [],
   "source": [
    "## This takes about 45 seconds to run!\n",
    "# county_Rs = calculate_R( pd.to_numeric(time_cases_df[\"FIPS\"])).dropna()\n",
    "\n",
    "# county_Rs.head(10)"
   ]
  },
  {
   "cell_type": "code",
   "execution_count": 29,
   "metadata": {},
   "outputs": [
    {
     "name": "stdout",
     "output_type": "stream",
     "text": [
      "R,K for 6001\n"
     ]
    },
    {
     "data": {
      "text/plain": [
       "(1.1727195571576703, 0.022760779911390708)"
      ]
     },
     "execution_count": 29,
     "metadata": {},
     "output_type": "execute_result"
    }
   ],
   "source": [
    "calculate_R(6001) # This looks at R for a numeric FIPS code!"
   ]
  },
  {
   "cell_type": "markdown",
   "metadata": {},
   "source": [
    "These Rs (and Ks) are for the last three weeks of the outbreak per the default parameters of the function. We could similarly estimate $R$ over a different time period using optional parameters of the same functions. "
   ]
  },
  {
   "cell_type": "markdown",
   "metadata": {},
   "source": [
    "### Merging R estimations"
   ]
  },
  {
   "cell_type": "code",
   "execution_count": 30,
   "metadata": {},
   "outputs": [],
   "source": [
    "##County Train Merge\n",
    "county_train[\"numeric_FIPS\"] = pd.to_numeric(county_train[\"FIPS\"])\n",
    "\n",
    "R_df = calculate_R(county_train[\"numeric_FIPS\"])[\"R\"].rename(\"R_last_3_weeks\")\n",
    "R_df = pd.DataFrame(R_df)\n",
    "R_df[\"R_last_6_weeks\"] = calculate_R(county_train[\"numeric_FIPS\"], start_date = 46 )[\"R\"]\n",
    "\n",
    "county_train = pd.merge(county_train, R_df, left_on = \"numeric_FIPS\", right_index=True)"
   ]
  },
  {
   "cell_type": "code",
   "execution_count": 31,
   "metadata": {},
   "outputs": [],
   "source": [
    "##State Train Merge\n",
    "\n",
    "R_df = calculate_R(state_train[\"State\"])[\"R\"].rename(\"R_last_3_weeks\")\n",
    "R_df = pd.DataFrame(R_df)\n",
    "R_df[\"R_last_6_weeks\"] = calculate_R(state_train[\"State\"], start_date = 46 )[\"R\"]\n",
    "\n",
    "state_train = pd.merge(state_train, R_df, left_on = \"State\", right_index=True)\n"
   ]
  },
  {
   "cell_type": "markdown",
   "metadata": {},
   "source": [
    "Now, let's examine if these R values can tell us anything about a simple political binary variable"
   ]
  },
  {
   "cell_type": "code",
   "execution_count": 32,
   "metadata": {
    "scrolled": true
   },
   "outputs": [
    {
     "data": {
      "text/html": [
       "<div>\n",
       "<style scoped>\n",
       "    .dataframe tbody tr th:only-of-type {\n",
       "        vertical-align: middle;\n",
       "    }\n",
       "\n",
       "    .dataframe tbody tr th {\n",
       "        vertical-align: top;\n",
       "    }\n",
       "\n",
       "    .dataframe thead th {\n",
       "        text-align: right;\n",
       "    }\n",
       "</style>\n",
       "<table border=\"1\" class=\"dataframe\">\n",
       "  <thead>\n",
       "    <tr style=\"text-align: right;\">\n",
       "      <th></th>\n",
       "      <th>State</th>\n",
       "      <th>STATEFP</th>\n",
       "      <th>StateVotedTrump</th>\n",
       "      <th>date_ord</th>\n",
       "      <th>grocery</th>\n",
       "      <th>parks</th>\n",
       "      <th>residential</th>\n",
       "      <th>retail</th>\n",
       "      <th>transit</th>\n",
       "      <th>workplaces</th>\n",
       "      <th>beta0</th>\n",
       "      <th>beta1</th>\n",
       "      <th>beta2</th>\n",
       "      <th>R_last_3_weeks</th>\n",
       "      <th>R_last_6_weeks</th>\n",
       "    </tr>\n",
       "  </thead>\n",
       "  <tbody>\n",
       "    <tr>\n",
       "      <th>0</th>\n",
       "      <td>Alabama</td>\n",
       "      <td>01</td>\n",
       "      <td>1</td>\n",
       "      <td>737516</td>\n",
       "      <td>-0.274510</td>\n",
       "      <td>13.352941</td>\n",
       "      <td>10.882353</td>\n",
       "      <td>-24.470588</td>\n",
       "      <td>-18.666667</td>\n",
       "      <td>-27.941176</td>\n",
       "      <td>0.0</td>\n",
       "      <td>16.407425</td>\n",
       "      <td>-0.432553</td>\n",
       "      <td>1.310210</td>\n",
       "      <td>2.101688</td>\n",
       "    </tr>\n",
       "    <tr>\n",
       "      <th>1</th>\n",
       "      <td>Arizona</td>\n",
       "      <td>04</td>\n",
       "      <td>1</td>\n",
       "      <td>737516</td>\n",
       "      <td>-7.274510</td>\n",
       "      <td>-12.725490</td>\n",
       "      <td>12.117647</td>\n",
       "      <td>-28.019608</td>\n",
       "      <td>-29.647059</td>\n",
       "      <td>-33.705882</td>\n",
       "      <td>0.0</td>\n",
       "      <td>8.568596</td>\n",
       "      <td>-0.228816</td>\n",
       "      <td>0.990022</td>\n",
       "      <td>2.192635</td>\n",
       "    </tr>\n",
       "    <tr>\n",
       "      <th>2</th>\n",
       "      <td>Arkansas</td>\n",
       "      <td>05</td>\n",
       "      <td>1</td>\n",
       "      <td>737516</td>\n",
       "      <td>0.862745</td>\n",
       "      <td>34.725490</td>\n",
       "      <td>9.235294</td>\n",
       "      <td>-19.588235</td>\n",
       "      <td>-16.862745</td>\n",
       "      <td>-25.392157</td>\n",
       "      <td>0.0</td>\n",
       "      <td>4.649976</td>\n",
       "      <td>-0.133855</td>\n",
       "      <td>1.270427</td>\n",
       "      <td>1.574975</td>\n",
       "    </tr>\n",
       "    <tr>\n",
       "      <th>3</th>\n",
       "      <td>California</td>\n",
       "      <td>06</td>\n",
       "      <td>0</td>\n",
       "      <td>737516</td>\n",
       "      <td>-10.941176</td>\n",
       "      <td>-29.235294</td>\n",
       "      <td>17.019608</td>\n",
       "      <td>-38.509804</td>\n",
       "      <td>-45.019608</td>\n",
       "      <td>-38.411765</td>\n",
       "      <td>0.0</td>\n",
       "      <td>93.061622</td>\n",
       "      <td>-1.500801</td>\n",
       "      <td>1.043304</td>\n",
       "      <td>2.178941</td>\n",
       "    </tr>\n",
       "    <tr>\n",
       "      <th>4</th>\n",
       "      <td>Colorado</td>\n",
       "      <td>08</td>\n",
       "      <td>0</td>\n",
       "      <td>737516</td>\n",
       "      <td>-10.490196</td>\n",
       "      <td>1.509804</td>\n",
       "      <td>15.313725</td>\n",
       "      <td>-34.686275</td>\n",
       "      <td>-44.647059</td>\n",
       "      <td>-38.470588</td>\n",
       "      <td>0.0</td>\n",
       "      <td>32.468041</td>\n",
       "      <td>-0.852440</td>\n",
       "      <td>1.283584</td>\n",
       "      <td>1.794353</td>\n",
       "    </tr>\n",
       "  </tbody>\n",
       "</table>\n",
       "</div>"
      ],
      "text/plain": [
       "        State STATEFP  StateVotedTrump  date_ord    grocery      parks  \\\n",
       "0     Alabama      01                1    737516  -0.274510  13.352941   \n",
       "1     Arizona      04                1    737516  -7.274510 -12.725490   \n",
       "2    Arkansas      05                1    737516   0.862745  34.725490   \n",
       "3  California      06                0    737516 -10.941176 -29.235294   \n",
       "4    Colorado      08                0    737516 -10.490196   1.509804   \n",
       "\n",
       "   residential     retail    transit  workplaces  beta0      beta1     beta2  \\\n",
       "0    10.882353 -24.470588 -18.666667  -27.941176    0.0  16.407425 -0.432553   \n",
       "1    12.117647 -28.019608 -29.647059  -33.705882    0.0   8.568596 -0.228816   \n",
       "2     9.235294 -19.588235 -16.862745  -25.392157    0.0   4.649976 -0.133855   \n",
       "3    17.019608 -38.509804 -45.019608  -38.411765    0.0  93.061622 -1.500801   \n",
       "4    15.313725 -34.686275 -44.647059  -38.470588    0.0  32.468041 -0.852440   \n",
       "\n",
       "   R_last_3_weeks  R_last_6_weeks  \n",
       "0        1.310210        2.101688  \n",
       "1        0.990022        2.192635  \n",
       "2        1.270427        1.574975  \n",
       "3        1.043304        2.178941  \n",
       "4        1.283584        1.794353  "
      ]
     },
     "execution_count": 32,
     "metadata": {},
     "output_type": "execute_result"
    }
   ],
   "source": [
    "state_train.head()"
   ]
  },
  {
   "cell_type": "code",
   "execution_count": 33,
   "metadata": {
    "scrolled": false
   },
   "outputs": [
    {
     "data": {
      "text/plain": [
       "Text(0.5, 1.0, 'Distribution of county R values past 6 weeks')"
      ]
     },
     "execution_count": 33,
     "metadata": {},
     "output_type": "execute_result"
    },
    {
     "data": {
      "image/png": "[encoded data removed]",
      "text/plain": [
       "<Figure size 1080x432 with 2 Axes>"
      ]
     },
     "metadata": {
      "needs_background": "light"
     },
     "output_type": "display_data"
    }
   ],
   "source": [
    "fig,ax = plt.subplots(1,2, figsize=(15,6))\n",
    "\n",
    "\n",
    "for trump in range(0,2):\n",
    "    county_sub = county_train[county_train[\"VotedTrump2016\"]== trump]\n",
    "    sns.distplot(county_sub[\"R_last_3_weeks\"].dropna(), ax=ax[0])\n",
    "ax[0].legend([\"Clinton county 2016\", \"Trump county 2016\"])\n",
    "\n",
    "ax[0].set_title(\"Distribution of county R values past 3 weeks\")\n",
    "\n",
    "\n",
    "for trump in range(0,2):\n",
    "    county_sub = county_train[county_train[\"VotedTrump2016\"]== trump]\n",
    "    sns.distplot(county_sub[\"R_last_6_weeks\"].dropna(), ax=ax[1])\n",
    "ax[1].legend([\"Clinton county 2016\", \"Trump county 2016\"])\n",
    "\n",
    "ax[1].set_title(\"Distribution of county R values past 6 weeks\")"
   ]
  },
  {
   "cell_type": "markdown",
   "metadata": {},
   "source": [
    "Interestingly, the distribution of R value from the last 3 weeks are very similar. We may not want to keep that feature in our model."
   ]
  },
  {
   "cell_type": "code",
   "execution_count": 34,
   "metadata": {
    "scrolled": false
   },
   "outputs": [
    {
     "data": {
      "text/plain": [
       "Text(0.5, 1.0, 'Distribution of state R values over previous 6 weeks')"
      ]
     },
     "execution_count": 34,
     "metadata": {},
     "output_type": "execute_result"
    },
    {
     "data": {
      "image/png": "[encoded data removed]",
      "text/plain": [
       "<Figure size 1080x432 with 2 Axes>"
      ]
     },
     "metadata": {
      "needs_background": "light"
     },
     "output_type": "display_data"
    }
   ],
   "source": [
    "fig,ax = plt.subplots(1,2, figsize=(15,6))\n",
    "\n",
    "for trump in range(0,2):\n",
    "    state_sub = state_train[state_train[\"StateVotedTrump\"]== trump]\n",
    "    sns.distplot(state_sub[\"R_last_3_weeks\"].dropna(), ax=ax[0])\n",
    "    \n",
    "ax[0].legend([\"Clinton state 2016\", \"Trump state 2016\"])\n",
    "ax[0].set_title(\"Distribution of state R values over previous 3 weeks\")\n",
    "\n",
    "for trump in range(0,2):\n",
    "    state_sub = state_train[state_train[\"StateVotedTrump\"]== trump]\n",
    "    sns.distplot(state_sub[\"R_last_6_weeks\"].dropna(), ax=ax[1])\n",
    "    \n",
    "ax[1].legend([\"Clinton state 2016\", \"Trump state 2016\"])\n",
    "ax[1].set_title(\"Distribution of state R values over previous 6 weeks\")"
   ]
  },
  {
   "cell_type": "markdown",
   "metadata": {},
   "source": [
    "These distributions are different enough such that it may be helpful to keep both features. We might also want to look at $R$ estimates over earlier periods of time."
   ]
  },
  {
   "cell_type": "markdown",
   "metadata": {},
   "source": [
    "# Process Data\n",
    "\n",
    "The following functions process the data and create the X and y arrays."
   ]
  },
  {
   "cell_type": "code",
   "execution_count": 36,
   "metadata": {},
   "outputs": [],
   "source": [
    "def process_data(df, state=True):\n",
    "    \"\"\"\n",
    "    Input: df (county or state-level df), state=True if state-level data, False if county-level data\n",
    "    Returns: processed dataframe with all features\n",
    "    \"\"\"\n",
    "    if state==False:\n",
    "        pd.set_option('mode.chained_assignment', None) #this is to make that slice error go away\n",
    "        orders_columns = ['stay at home', '>50 gatherings',\n",
    "                          '>500 gatherings', 'public schools', 'restaurant dine-in',\n",
    "                          'entertainment/gym']\n",
    "        df = add_state_orders_features_to_df(df, orders_columns)\n",
    "        df[\"numeric_FIPS\"] = pd.to_numeric(df[\"FIPS\"])\n",
    "        \n",
    "        R_df = calculate_R(df[\"numeric_FIPS\"])[\"R\"].rename(\"R_last_3_weeks\")\n",
    "        R_df = pd.DataFrame(R_df)\n",
    "        R_df[\"R_last_6_weeks\"] = calculate_R(df[\"numeric_FIPS\"], start_date = 46 )[\"R\"]\n",
    "\n",
    "        return pd.merge(df, R_df, left_on = \"numeric_FIPS\", right_index=True)\n",
    "    \n",
    "    else:\n",
    "        df = pd.merge(df, create_state_beta_table(), left_on=\"State\", right_index=True) # merge\n",
    "        R_df = calculate_R(df[\"State\"])[\"R\"].rename(\"R_last_3_weeks\")\n",
    "        R_df = pd.DataFrame(R_df)\n",
    "        R_df[\"R_last_6_weeks\"] = calculate_R(df[\"State\"], start_date = 46 )[\"R\"]\n",
    "\n",
    "        return pd.merge(df, R_df, left_on = \"State\", right_index=True)\n",
    "    \n",
    "def select_features(df, x_columns, continuous_y=True):\n",
    "    \"\"\"\n",
    "    Input: \n",
    "    Dataframe\n",
    "    x_columns = list of strings of column names\n",
    "    Continuous = True if using the continous Y variable, False if using binary\n",
    "    Output: Y-variable array\n",
    "    Note: this only works for county-level data\n",
    "    \"\"\"\n",
    "    X = df[x_columns]\n",
    "    X = X.apply(lambda x: x.fillna(x.mean()),axis=0) #impute mean for NA columns\n",
    "    X = X[x_columns].to_numpy()\n",
    "\n",
    "    if continuous_y == True:\n",
    "        y = df['VotedTrump2016Cont'].to_numpy()\n",
    "    else: \n",
    "        y = df['VotedTrump2016'].to_numpy() #Binary y variable for logistic regression\n",
    "\n",
    "    return X, y"
   ]
  },
  {
   "cell_type": "code",
   "execution_count": 38,
   "metadata": {},
   "outputs": [],
   "source": [
    "y_cont_train = county_train['PresElectCont'].to_numpy() #Continuous y variable for linear regression\n",
    "\n",
    "x_columns = ['grocery', 'parks', 'residential', 'retail', 'transit', 'workplaces',  #Mobility\n",
    "             'stay at home', '>50 gatherings', '>500 gatherings', 'public schools',\n",
    "             'restaurant dine-in', 'entertainment/gym',\n",
    "             'R_last_3_weeks', 'R_last_6_weeks' #R-naught\n",
    "             ]\n",
    "\n",
    "X_train, y_cont_train_2016 = select_features(county_train, x_columns, continuous_y = True)\n",
    "y_bin_train = select_features(county_train, x_columns, continuous_y = False)[1]"
   ]
  },
  {
   "cell_type": "code",
   "execution_count": 39,
   "metadata": {},
   "outputs": [],
   "source": [
    "from sklearn.linear_model import LinearRegression\n",
    "from sklearn.linear_model import LogisticRegressionCV\n",
    "from sklearn.model_selection import cross_val_score\n",
    "from sklearn import tree\n",
    "from sklearn import ensemble\n",
    "\n",
    "def rmse(y, yhat):\n",
    "    return np.sqrt(np.mean((y - yhat)**2))\n",
    "\n",
    "def rmse_score(model, X, y):\n",
    "    return np.sqrt(np.mean((y - model.predict(X)) ** 2))"
   ]
  },
  {
   "cell_type": "markdown",
   "metadata": {},
   "source": [
    "#### Linear Regression Model with 2000 - 2016 Election Results"
   ]
  },
  {
   "cell_type": "code",
   "execution_count": 40,
   "metadata": {},
   "outputs": [
    {
     "data": {
      "text/html": [
       "<div>\n",
       "<style scoped>\n",
       "    .dataframe tbody tr th:only-of-type {\n",
       "        vertical-align: middle;\n",
       "    }\n",
       "\n",
       "    .dataframe tbody tr th {\n",
       "        vertical-align: top;\n",
       "    }\n",
       "\n",
       "    .dataframe thead th {\n",
       "        text-align: right;\n",
       "    }\n",
       "</style>\n",
       "<table border=\"1\" class=\"dataframe\">\n",
       "  <thead>\n",
       "    <tr style=\"text-align: right;\">\n",
       "      <th></th>\n",
       "      <th>State</th>\n",
       "      <th>STATEFP</th>\n",
       "      <th>StateVotedTrump</th>\n",
       "      <th>date_ord</th>\n",
       "      <th>grocery</th>\n",
       "      <th>parks</th>\n",
       "      <th>residential</th>\n",
       "      <th>retail</th>\n",
       "      <th>transit</th>\n",
       "      <th>workplaces</th>\n",
       "      <th>beta0</th>\n",
       "      <th>beta1</th>\n",
       "      <th>beta2</th>\n",
       "      <th>R_last_3_weeks</th>\n",
       "      <th>R_last_6_weeks</th>\n",
       "    </tr>\n",
       "  </thead>\n",
       "  <tbody>\n",
       "    <tr>\n",
       "      <th>0</th>\n",
       "      <td>Alabama</td>\n",
       "      <td>01</td>\n",
       "      <td>1</td>\n",
       "      <td>737516</td>\n",
       "      <td>-0.274510</td>\n",
       "      <td>13.352941</td>\n",
       "      <td>10.882353</td>\n",
       "      <td>-24.470588</td>\n",
       "      <td>-18.666667</td>\n",
       "      <td>-27.941176</td>\n",
       "      <td>0.0</td>\n",
       "      <td>16.407425</td>\n",
       "      <td>-0.432553</td>\n",
       "      <td>1.310210</td>\n",
       "      <td>2.101688</td>\n",
       "    </tr>\n",
       "    <tr>\n",
       "      <th>1</th>\n",
       "      <td>Arizona</td>\n",
       "      <td>04</td>\n",
       "      <td>1</td>\n",
       "      <td>737516</td>\n",
       "      <td>-7.274510</td>\n",
       "      <td>-12.725490</td>\n",
       "      <td>12.117647</td>\n",
       "      <td>-28.019608</td>\n",
       "      <td>-29.647059</td>\n",
       "      <td>-33.705882</td>\n",
       "      <td>0.0</td>\n",
       "      <td>8.568596</td>\n",
       "      <td>-0.228816</td>\n",
       "      <td>0.990022</td>\n",
       "      <td>2.192635</td>\n",
       "    </tr>\n",
       "    <tr>\n",
       "      <th>2</th>\n",
       "      <td>Arkansas</td>\n",
       "      <td>05</td>\n",
       "      <td>1</td>\n",
       "      <td>737516</td>\n",
       "      <td>0.862745</td>\n",
       "      <td>34.725490</td>\n",
       "      <td>9.235294</td>\n",
       "      <td>-19.588235</td>\n",
       "      <td>-16.862745</td>\n",
       "      <td>-25.392157</td>\n",
       "      <td>0.0</td>\n",
       "      <td>4.649976</td>\n",
       "      <td>-0.133855</td>\n",
       "      <td>1.270427</td>\n",
       "      <td>1.574975</td>\n",
       "    </tr>\n",
       "    <tr>\n",
       "      <th>3</th>\n",
       "      <td>California</td>\n",
       "      <td>06</td>\n",
       "      <td>0</td>\n",
       "      <td>737516</td>\n",
       "      <td>-10.941176</td>\n",
       "      <td>-29.235294</td>\n",
       "      <td>17.019608</td>\n",
       "      <td>-38.509804</td>\n",
       "      <td>-45.019608</td>\n",
       "      <td>-38.411765</td>\n",
       "      <td>0.0</td>\n",
       "      <td>93.061622</td>\n",
       "      <td>-1.500801</td>\n",
       "      <td>1.043304</td>\n",
       "      <td>2.178941</td>\n",
       "    </tr>\n",
       "    <tr>\n",
       "      <th>4</th>\n",
       "      <td>Colorado</td>\n",
       "      <td>08</td>\n",
       "      <td>0</td>\n",
       "      <td>737516</td>\n",
       "      <td>-10.490196</td>\n",
       "      <td>1.509804</td>\n",
       "      <td>15.313725</td>\n",
       "      <td>-34.686275</td>\n",
       "      <td>-44.647059</td>\n",
       "      <td>-38.470588</td>\n",
       "      <td>0.0</td>\n",
       "      <td>32.468041</td>\n",
       "      <td>-0.852440</td>\n",
       "      <td>1.283584</td>\n",
       "      <td>1.794353</td>\n",
       "    </tr>\n",
       "  </tbody>\n",
       "</table>\n",
       "</div>"
      ],
      "text/plain": [
       "        State STATEFP  StateVotedTrump  date_ord    grocery      parks  \\\n",
       "0     Alabama      01                1    737516  -0.274510  13.352941   \n",
       "1     Arizona      04                1    737516  -7.274510 -12.725490   \n",
       "2    Arkansas      05                1    737516   0.862745  34.725490   \n",
       "3  California      06                0    737516 -10.941176 -29.235294   \n",
       "4    Colorado      08                0    737516 -10.490196   1.509804   \n",
       "\n",
       "   residential     retail    transit  workplaces  beta0      beta1     beta2  \\\n",
       "0    10.882353 -24.470588 -18.666667  -27.941176    0.0  16.407425 -0.432553   \n",
       "1    12.117647 -28.019608 -29.647059  -33.705882    0.0   8.568596 -0.228816   \n",
       "2     9.235294 -19.588235 -16.862745  -25.392157    0.0   4.649976 -0.133855   \n",
       "3    17.019608 -38.509804 -45.019608  -38.411765    0.0  93.061622 -1.500801   \n",
       "4    15.313725 -34.686275 -44.647059  -38.470588    0.0  32.468041 -0.852440   \n",
       "\n",
       "   R_last_3_weeks  R_last_6_weeks  \n",
       "0        1.310210        2.101688  \n",
       "1        0.990022        2.192635  \n",
       "2        1.270427        1.574975  \n",
       "3        1.043304        2.178941  \n",
       "4        1.283584        1.794353  "
      ]
     },
     "execution_count": 40,
     "metadata": {},
     "output_type": "execute_result"
    }
   ],
   "source": [
    "state_train.head()"
   ]
  },
  {
   "cell_type": "code",
   "execution_count": 41,
   "metadata": {},
   "outputs": [
    {
     "name": "stdout",
     "output_type": "stream",
     "text": [
      "Mean of y 0.37021968033402214\n",
      "Std of y 0.4592720841712863\n",
      "\n",
      "\n",
      "RMSE: 0.4075762603522775\n",
      "RMSE when guessing the mean y: 0.4592720841712863\n",
      "CV Score: 0.41537879569465813\n"
     ]
    }
   ],
   "source": [
    "lin_model = LinearRegression(fit_intercept=True)\n",
    "lin_model.fit(X_train, y_cont_train)\n",
    "y_cont_train_pred = lin_model.predict(X_train)\n",
    "\n",
    "print(\"Mean of y\", y_cont_train.mean())\n",
    "print(\"Std of y\", y_cont_train.std())\n",
    "print(\"\\n\")\n",
    "print(\"RMSE:\", rmse(y_cont_train,y_cont_train_pred))\n",
    "print(\"RMSE when guessing the mean y:\", rmse(y_cont_train,y_cont_train.mean()))\n",
    "print(\"CV Score:\", cross_val_score(lin_model, X_train, y_cont_train, cv=25, scoring=rmse_score).mean())"
   ]
  },
  {
   "cell_type": "markdown",
   "metadata": {},
   "source": [
    "#### Linear Regression Model with only 2016 Election Results"
   ]
  },
  {
   "cell_type": "code",
   "execution_count": 42,
   "metadata": {},
   "outputs": [
    {
     "data": {
      "text/html": [
       "<div>\n",
       "<style scoped>\n",
       "    .dataframe tbody tr th:only-of-type {\n",
       "        vertical-align: middle;\n",
       "    }\n",
       "\n",
       "    .dataframe tbody tr th {\n",
       "        vertical-align: top;\n",
       "    }\n",
       "\n",
       "    .dataframe thead th {\n",
       "        text-align: right;\n",
       "    }\n",
       "</style>\n",
       "<table border=\"1\" class=\"dataframe\">\n",
       "  <thead>\n",
       "    <tr style=\"text-align: right;\">\n",
       "      <th></th>\n",
       "      <th>State</th>\n",
       "      <th>STATEFP</th>\n",
       "      <th>StateVotedTrump</th>\n",
       "      <th>date_ord</th>\n",
       "      <th>grocery</th>\n",
       "      <th>parks</th>\n",
       "      <th>residential</th>\n",
       "      <th>retail</th>\n",
       "      <th>transit</th>\n",
       "      <th>workplaces</th>\n",
       "      <th>beta0</th>\n",
       "      <th>beta1</th>\n",
       "      <th>beta2</th>\n",
       "      <th>R_last_3_weeks</th>\n",
       "      <th>R_last_6_weeks</th>\n",
       "    </tr>\n",
       "  </thead>\n",
       "  <tbody>\n",
       "    <tr>\n",
       "      <th>0</th>\n",
       "      <td>Alabama</td>\n",
       "      <td>01</td>\n",
       "      <td>1</td>\n",
       "      <td>737516</td>\n",
       "      <td>-0.274510</td>\n",
       "      <td>13.352941</td>\n",
       "      <td>10.882353</td>\n",
       "      <td>-24.470588</td>\n",
       "      <td>-18.666667</td>\n",
       "      <td>-27.941176</td>\n",
       "      <td>0.0</td>\n",
       "      <td>16.407425</td>\n",
       "      <td>-0.432553</td>\n",
       "      <td>1.310210</td>\n",
       "      <td>2.101688</td>\n",
       "    </tr>\n",
       "    <tr>\n",
       "      <th>1</th>\n",
       "      <td>Arizona</td>\n",
       "      <td>04</td>\n",
       "      <td>1</td>\n",
       "      <td>737516</td>\n",
       "      <td>-7.274510</td>\n",
       "      <td>-12.725490</td>\n",
       "      <td>12.117647</td>\n",
       "      <td>-28.019608</td>\n",
       "      <td>-29.647059</td>\n",
       "      <td>-33.705882</td>\n",
       "      <td>0.0</td>\n",
       "      <td>8.568596</td>\n",
       "      <td>-0.228816</td>\n",
       "      <td>0.990022</td>\n",
       "      <td>2.192635</td>\n",
       "    </tr>\n",
       "    <tr>\n",
       "      <th>2</th>\n",
       "      <td>Arkansas</td>\n",
       "      <td>05</td>\n",
       "      <td>1</td>\n",
       "      <td>737516</td>\n",
       "      <td>0.862745</td>\n",
       "      <td>34.725490</td>\n",
       "      <td>9.235294</td>\n",
       "      <td>-19.588235</td>\n",
       "      <td>-16.862745</td>\n",
       "      <td>-25.392157</td>\n",
       "      <td>0.0</td>\n",
       "      <td>4.649976</td>\n",
       "      <td>-0.133855</td>\n",
       "      <td>1.270427</td>\n",
       "      <td>1.574975</td>\n",
       "    </tr>\n",
       "    <tr>\n",
       "      <th>3</th>\n",
       "      <td>California</td>\n",
       "      <td>06</td>\n",
       "      <td>0</td>\n",
       "      <td>737516</td>\n",
       "      <td>-10.941176</td>\n",
       "      <td>-29.235294</td>\n",
       "      <td>17.019608</td>\n",
       "      <td>-38.509804</td>\n",
       "      <td>-45.019608</td>\n",
       "      <td>-38.411765</td>\n",
       "      <td>0.0</td>\n",
       "      <td>93.061622</td>\n",
       "      <td>-1.500801</td>\n",
       "      <td>1.043304</td>\n",
       "      <td>2.178941</td>\n",
       "    </tr>\n",
       "    <tr>\n",
       "      <th>4</th>\n",
       "      <td>Colorado</td>\n",
       "      <td>08</td>\n",
       "      <td>0</td>\n",
       "      <td>737516</td>\n",
       "      <td>-10.490196</td>\n",
       "      <td>1.509804</td>\n",
       "      <td>15.313725</td>\n",
       "      <td>-34.686275</td>\n",
       "      <td>-44.647059</td>\n",
       "      <td>-38.470588</td>\n",
       "      <td>0.0</td>\n",
       "      <td>32.468041</td>\n",
       "      <td>-0.852440</td>\n",
       "      <td>1.283584</td>\n",
       "      <td>1.794353</td>\n",
       "    </tr>\n",
       "  </tbody>\n",
       "</table>\n",
       "</div>"
      ],
      "text/plain": [
       "        State STATEFP  StateVotedTrump  date_ord    grocery      parks  \\\n",
       "0     Alabama      01                1    737516  -0.274510  13.352941   \n",
       "1     Arizona      04                1    737516  -7.274510 -12.725490   \n",
       "2    Arkansas      05                1    737516   0.862745  34.725490   \n",
       "3  California      06                0    737516 -10.941176 -29.235294   \n",
       "4    Colorado      08                0    737516 -10.490196   1.509804   \n",
       "\n",
       "   residential     retail    transit  workplaces  beta0      beta1     beta2  \\\n",
       "0    10.882353 -24.470588 -18.666667  -27.941176    0.0  16.407425 -0.432553   \n",
       "1    12.117647 -28.019608 -29.647059  -33.705882    0.0   8.568596 -0.228816   \n",
       "2     9.235294 -19.588235 -16.862745  -25.392157    0.0   4.649976 -0.133855   \n",
       "3    17.019608 -38.509804 -45.019608  -38.411765    0.0  93.061622 -1.500801   \n",
       "4    15.313725 -34.686275 -44.647059  -38.470588    0.0  32.468041 -0.852440   \n",
       "\n",
       "   R_last_3_weeks  R_last_6_weeks  \n",
       "0        1.310210        2.101688  \n",
       "1        0.990022        2.192635  \n",
       "2        1.270427        1.574975  \n",
       "3        1.043304        2.178941  \n",
       "4        1.283584        1.794353  "
      ]
     },
     "execution_count": 42,
     "metadata": {},
     "output_type": "execute_result"
    }
   ],
   "source": [
    "state_train.head()"
   ]
  },
  {
   "cell_type": "code",
   "execution_count": 43,
   "metadata": {},
   "outputs": [
    {
     "name": "stdout",
     "output_type": "stream",
     "text": [
      "Mean of y 0.4736520439973357\n",
      "Std of y 0.4705649876787224\n",
      "\n",
      "\n",
      "RMSE: 0.42592322664786303\n",
      "RMSE when guessing the mean y: 0.4705649876787224\n",
      "CV Score: 0.40565530503141195\n"
     ]
    }
   ],
   "source": [
    "lin_model_2016 = LinearRegression(fit_intercept=True)\n",
    "lin_model_2016.fit(X_train, y_cont_train_2016)\n",
    "y_cont_train_pred_2016 = lin_model.predict(X_train)\n",
    "\n",
    "print(\"Mean of y\", y_cont_train_2016.mean())\n",
    "print(\"Std of y\", y_cont_train_2016.std())\n",
    "print(\"\\n\")\n",
    "print(\"RMSE:\", rmse(y_cont_train_2016, y_cont_train_pred_2016))\n",
    "print(\"RMSE when guessing the mean y:\", rmse(y_cont_train_2016, y_cont_train_2016.mean()))\n",
    "print(\"CV Score:\", cross_val_score(lin_model_2016, X_train, y_cont_train_2016, cv=25, scoring=rmse_score).mean())"
   ]
  },
  {
   "cell_type": "markdown",
   "metadata": {},
   "source": [
    "#### Logistic Regression Model"
   ]
  },
  {
   "cell_type": "code",
   "execution_count": 44,
   "metadata": {},
   "outputs": [
    {
     "name": "stdout",
     "output_type": "stream",
     "text": [
      "Mean of y 0.8412921348314607\n",
      "Std of y 0.3654034464837244\n",
      "\n",
      "\n",
      "CV Score: 0.8412921348314607\n"
     ]
    }
   ],
   "source": [
    "log_model = LogisticRegressionCV(cv=10, fit_intercept=True, solver='liblinear')\n",
    "log_model.fit(X_train, y_bin_train)\n",
    "y_bin_train_pred = log_model.predict(X_train)\n",
    "\n",
    "print(\"Mean of y\", y_bin_train.mean())\n",
    "print(\"Std of y\", y_bin_train.std())\n",
    "print(\"\\n\")\n",
    "print(\"CV Score:\", log_model.score(X_train, y_bin_train))"
   ]
  },
  {
   "cell_type": "markdown",
   "metadata": {},
   "source": [
    "#### Decision Tree Model"
   ]
  },
  {
   "cell_type": "code",
   "execution_count": 45,
   "metadata": {},
   "outputs": [
    {
     "data": {
      "text/plain": [
       "0.7766825613966517"
      ]
     },
     "execution_count": 45,
     "metadata": {},
     "output_type": "execute_result"
    }
   ],
   "source": [
    "decision_tree_model = tree.DecisionTreeClassifier(random_state=42)\n",
    "decision_tree_model.fit(X_train, y_bin_train)\n",
    "cross_val_score(decision_tree_model, X_train, y_bin_train, cv=25, scoring='accuracy').mean()"
   ]
  },
  {
   "cell_type": "markdown",
   "metadata": {},
   "source": [
    "#### Random Forest Model"
   ]
  },
  {
   "cell_type": "code",
   "execution_count": 46,
   "metadata": {},
   "outputs": [
    {
     "data": {
      "text/plain": [
       "0.8371009054784705"
      ]
     },
     "execution_count": 46,
     "metadata": {},
     "output_type": "execute_result"
    }
   ],
   "source": [
    "random_forest_model = ensemble.RandomForestClassifier(20, random_state=42)\n",
    "random_forest_model.fit(X_train, y_bin_train)\n",
    "cross_val_score(random_forest_model, X_train, y_bin_train, cv=25, scoring='accuracy').mean()"
   ]
  },
  {
   "cell_type": "markdown",
   "metadata": {},
   "source": [
    "# Process Data & Test the Model\n",
    "\n",
    "Now that we have decded what features to use, we'll look at the test data."
   ]
  },
  {
   "cell_type": "code",
   "execution_count": 47,
   "metadata": {},
   "outputs": [],
   "source": [
    "x_columns = ['grocery', 'parks', 'residential', 'retail', 'transit', 'workplaces',  #Mobility\n",
    "             'stay at home', '>50 gatherings', '>500 gatherings', 'public schools',\n",
    "             'restaurant dine-in', 'entertainment/gym',\n",
    "             'R_last_3_weeks', 'R_last_6_weeks' #R-naught \n",
    "            ]\n",
    "\n",
    "county_test = process_data(county_test, state=False)\n",
    "\n",
    "#County Level Test data\n",
    "X_test, y_test_cont = select_features(county_test, x_columns, continuous_y=True)\n",
    "y_test_bin = select_features(county_test, x_columns, continuous_y=False)[1]"
   ]
  },
  {
   "cell_type": "code",
   "execution_count": null,
   "metadata": {},
   "outputs": [],
   "source": [
    "#Map code for later, needs to be fixed\n",
    "# Categorical County Classifying Method Merged\n",
    "#merged_shape_cat = shape.loc[:, ('STATEFP', 'COUNTYFP', 'geometry')].merge(cat_merged.loc[:, ('Total', 'STATEFP', 'COUNTYFP')], \n",
    "#                                                            on=['STATEFP', 'COUNTYFP']).loc[:, ('Total', 'geometry')]\n",
    "#merged_shape_cat = merged_shape_cat.cx[-130:-50, 20:]\n",
    "\n",
    "#merged_shape_cat.plot(column='Total', cmap='coolwarm', figsize=(20,10), linewidth=0, edgecolor='white');\n",
    "\n",
    "\n",
    "#Continuous County Classifying Method Merged\n",
    "#merged_shape_cont = shape.loc[:, ('STATEFP', 'COUNTYFP', 'geometry')].merge(cont_merged.loc[:, ('Total', 'STATEFP', 'COUNTYFP')], \n",
    "#                                                            on=['STATEFP', 'COUNTYFP']).loc[:, ('Total', 'geometry')]\n",
    "#merged_shape_cont = merged_shape_cont.cx[-130:-50, 20:]\n",
    "\n",
    "#merged_shape_cont.plot(column='Total', cmap='coolwarm', figsize=(20,10), linewidth=0, edgecolor='white');"
   ]
  }
 ],
 "metadata": {
  "kernelspec": {
   "display_name": "Python 3",
   "language": "python",
   "name": "python3"
  },
  "language_info": {
   "codemirror_mode": {
    "name": "ipython",
    "version": 3
   },
   "file_extension": ".py",
   "mimetype": "text/x-python",
   "name": "python",
   "nbconvert_exporter": "python",
   "pygments_lexer": "ipython3",
   "version": "3.7.3"
  }
 },
 "nbformat": 4,
 "nbformat_minor": 2
}
