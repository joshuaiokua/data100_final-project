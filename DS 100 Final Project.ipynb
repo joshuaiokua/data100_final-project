{
 "cells": [
  {
   "cell_type": "markdown",
   "metadata": {},
   "source": [
    "*Josh Albano, Sharon Jan, and Luke Sherman (that's me)*\n",
    "\n",
    "*2020.5.6*"
   ]
  },
  {
   "cell_type": "code",
   "execution_count": 6,
   "metadata": {},
   "outputs": [],
   "source": [
    "import numpy as np\n",
    "import pandas as pd\n",
    "import matplotlib\n",
    "import matplotlib.pyplot as plt\n",
    "import seaborn as sns\n",
    "import datetime\n",
    "from pandas.plotting import register_matplotlib_converters\n",
    "\n",
    "from sklearn.linear_model import LinearRegression\n",
    "\n",
    "from sklearn.preprocessing import OneHotEncoder\n",
    "from sklearn.model_selection import train_test_split\n",
    "import re\n",
    "\n",
    "from IPython.display import display, Latex, Markdown"
   ]
  },
  {
   "cell_type": "markdown",
   "metadata": {},
   "source": [
    "### Research Question: Can counties' responses to COVID-19 accurately predict various political features?\n",
    "\n",
    "Workplan:\n",
    "- Clean data (Sharon)\n",
    "    - Examine NA values\n",
    "    - Election data (Josh)\n",
    "- Define political features (county-level)\n",
    "    - Republican/Democratic governor (binary) (Sharon)\n",
    "    - Joshua's R/D scale (categorical) (Josh)\n",
    "    - % of counties that are Republican (Sharon)\n",
    "- Define potential COVID-19 features\n",
    "    - Google's mobility rating (Josh)\n",
    "    - Date of stay at home orders, relative to a case threshold (Luke)\n",
    "        - Should we transform the case threshold to per capita\n",
    "    - \"Performance\" - Beta_2 for quadratic model (Luke)\n",
    "    - County enacted order earlier than state? or median date? OR estimate using decrease in mobility data\n",
    "- Create model(s)\n",
    "    - Logistic, Decision Tree, Linear (respectively) *hold off until done with initial data cleaning/feature engineering\n",
    "- Data visualizations\n",
    "    - Polarity/political maps (Josh)\n",
    "    - Covid curves (Luke)"
   ]
  },
  {
   "cell_type": "markdown",
   "metadata": {},
   "source": [
    "# EDA\n",
    "## Taking a look at the dataset\n",
    "\n"
   ]
  },
  {
   "cell_type": "code",
   "execution_count": null,
   "metadata": {},
   "outputs": [],
   "source": [
    "def date_conversion(df, date_columns):\n",
    "    \"\"\"\n",
    "    df - dataframe\n",
    "    date_columns = list of column names (string type) to convert\n",
    "    \"\"\"\n",
    "    for col in date_columns:\n",
    "        df[col] = df[col].apply(lambda x: datetime.datetime.fromordinal(int(x)) if np.isnan(x) == False else x)\n",
    "        \n",
    "    return df\n",
    "\n",
    "date_columns = ['stay at home', '>50 gatherings',\n",
    "       '>500 gatherings', 'public schools', 'restaurant dine-in',\n",
    "       'entertainment/gym', 'federal guidelines', 'foreign travel ban']"
   ]
  },
  {
   "cell_type": "markdown",
   "metadata": {},
   "source": [
    "### Clean data\n",
    "- Convert dates to M/D/Y in counties\n",
    "- Get rid of all non-US states (including territories)\n",
    "- Convert FIPS columns to strings so they can be used as amerge key later. \n",
    "- Rename state FIPS \"STATEFP\" and county FIPS remains \"FIPS\""
   ]
  },
  {
   "cell_type": "code",
   "execution_count": 136,
   "metadata": {},
   "outputs": [],
   "source": [
    "#Datasets\n",
    "\n",
    "states_df = pd.read_csv(\"4.18states.csv\")\n",
    "states_df = states_df[states_df['FIPS'].notna()] #Get rid of non-US \"states\"\n",
    "states_df = states_df[states_df['FIPS']<60] #Get rid of US territories\n",
    "states_df['FIPS'] = states_df['FIPS'].apply(lambda x: '0'+str(int(x)) if len(str(int(x)))==1 \\\n",
    "                                            else str(int(x))) #Convert FIPS to String\n",
    "states_df = states_df.rename(columns={'FIPS': 'STATEFP'})\n",
    "STATEFP = states_df.pop('STATEFP')\n",
    "states_df.insert(0, 'STATEFP', STATEFP)\n",
    "\n",
    "\n",
    "counties_df = pd.read_csv(\"abridged_couties.csv\")\n",
    "counties_df = counties_df[counties_df['State'].notna()] #Get rid of US Territories\n",
    "counties_df = date_conversion(counties_df, date_columns) # Convert dates to M/D/Y (in counties)\n",
    "counties_df['STATEFP'] = counties_df['STATEFP'].apply(lambda x: '0'+str(int(x)) if len(str(int(x)))==1 else str(int(x)))\n",
    "counties_df = counties_df.rename(columns={'countyFIPS': 'FIPS'}).drop(columns=['COUNTYFP'])\n",
    "\n",
    "\n",
    "time_cases_df = pd.read_csv(\"time_series_covid19_confirmed_US.csv\")\n",
    "time_cases_df = time_cases_df[time_cases_df['FIPS'] >100] # Get rid of US Territories\n",
    "time_cases_df['FIPS'] = time_cases_df['FIPS'].apply(lambda x: '0' + str(int(x)) if len(str(int(x)))==4 \\\n",
    "                                                    else str(int(x))) #Convert FIPS to string\n",
    "FIPS = time_cases_df.pop('FIPS')\n",
    "time_cases_df.insert(0, 'FIPS', FIPS)\n",
    "\n",
    "time_deaths_df = pd.read_csv(\"time_series_covid19_deaths_US.csv\")\n",
    "time_deaths_df = time_deaths_df[time_deaths_df['FIPS'] >100] # Get rid of US Territories\n",
    "time_deaths_df['FIPS'] = time_deaths_df['FIPS'].apply(lambda x: '0' + str(int(x)) if len(str(int(x)))==4 \\\n",
    "                                                    else str(int(x))) #Convert FIPS to string\n",
    "FIPS = time_deaths_df.pop('FIPS')\n",
    "time_deaths_df.insert(0, 'FIPS', FIPS)"
   ]
  },
  {
   "cell_type": "code",
   "execution_count": 78,
   "metadata": {
    "scrolled": false
   },
   "outputs": [
    {
     "name": "stdout",
     "output_type": "stream",
     "text": [
      "counties_df variables: Index(['countyFIPS', 'STATEFP', 'COUNTYFP', 'CountyName', 'StateName', 'State',\n",
      "       'lat', 'lon', 'POP_LATITUDE', 'POP_LONGITUDE', 'CensusRegionName',\n",
      "       'CensusDivisionName', 'Rural-UrbanContinuumCode2013',\n",
      "       'PopulationEstimate2018', 'PopTotalMale2017', 'PopTotalFemale2017',\n",
      "       'FracMale2017', 'PopulationEstimate65+2017',\n",
      "       'PopulationDensityperSqMile2010', 'CensusPopulation2010',\n",
      "       'MedianAge2010', '#EligibleforMedicare2018',\n",
      "       'MedicareEnrollment,AgedTot2017', '3-YrDiabetes2015-17',\n",
      "       'DiabetesPercentage', 'HeartDiseaseMortality', 'StrokeMortality',\n",
      "       'Smokers_Percentage', 'RespMortalityRate2014', '#FTEHospitalTotal2017',\n",
      "       'TotalM.D.'s,TotNon-FedandFed2017', '#HospParticipatinginNetwork2017',\n",
      "       '#Hospitals', '#ICU_beds', 'dem_to_rep_ratio', 'PopMale<52010',\n",
      "       'PopFmle<52010', 'PopMale5-92010', 'PopFmle5-92010', 'PopMale10-142010',\n",
      "       'PopFmle10-142010', 'PopMale15-192010', 'PopFmle15-192010',\n",
      "       'PopMale20-242010', 'PopFmle20-242010', 'PopMale25-292010',\n",
      "       'PopFmle25-292010', 'PopMale30-342010', 'PopFmle30-342010',\n",
      "       'PopMale35-442010', 'PopFmle35-442010', 'PopMale45-542010',\n",
      "       'PopFmle45-542010', 'PopMale55-592010', 'PopFmle55-592010',\n",
      "       'PopMale60-642010', 'PopFmle60-642010', 'PopMale65-742010',\n",
      "       'PopFmle65-742010', 'PopMale75-842010', 'PopFmle75-842010',\n",
      "       'PopMale>842010', 'PopFmle>842010', '3-YrMortalityAge<1Year2015-17',\n",
      "       '3-YrMortalityAge1-4Years2015-17', '3-YrMortalityAge5-14Years2015-17',\n",
      "       '3-YrMortalityAge15-24Years2015-17',\n",
      "       '3-YrMortalityAge25-34Years2015-17',\n",
      "       '3-YrMortalityAge35-44Years2015-17',\n",
      "       '3-YrMortalityAge45-54Years2015-17',\n",
      "       '3-YrMortalityAge55-64Years2015-17',\n",
      "       '3-YrMortalityAge65-74Years2015-17',\n",
      "       '3-YrMortalityAge75-84Years2015-17', '3-YrMortalityAge85+Years2015-17',\n",
      "       'mortality2015-17Estimated', 'stay at home', '>50 gatherings',\n",
      "       '>500 gatherings', 'public schools', 'restaurant dine-in',\n",
      "       'entertainment/gym', 'federal guidelines', 'foreign travel ban',\n",
      "       'SVIPercentile', 'HPSAShortage', 'HPSAServedPop', 'HPSAUnderservedPop'],\n",
      "      dtype='object')\n",
      "time_cases_df variables: Index(['UID', 'iso2', 'iso3', 'code3', 'FIPS', 'Admin2', 'Province_State',\n",
      "       'Country_Region', 'Lat', 'Long_', 'Combined_Key', '1/22/20', '1/23/20',\n",
      "       '1/24/20', '1/25/20', '1/26/20', '1/27/20', '1/28/20', '1/29/20',\n",
      "       '1/30/20', '1/31/20', '2/1/20', '2/2/20', '2/3/20', '2/4/20', '2/5/20',\n",
      "       '2/6/20', '2/7/20', '2/8/20', '2/9/20', '2/10/20', '2/11/20', '2/12/20',\n",
      "       '2/13/20', '2/14/20', '2/15/20', '2/16/20', '2/17/20', '2/18/20',\n",
      "       '2/19/20', '2/20/20', '2/21/20', '2/22/20', '2/23/20', '2/24/20',\n",
      "       '2/25/20', '2/26/20', '2/27/20', '2/28/20', '2/29/20', '3/1/20',\n",
      "       '3/2/20', '3/3/20', '3/4/20', '3/5/20', '3/6/20', '3/7/20', '3/8/20',\n",
      "       '3/9/20', '3/10/20', '3/11/20', '3/12/20', '3/13/20', '3/14/20',\n",
      "       '3/15/20', '3/16/20', '3/17/20', '3/18/20', '3/19/20', '3/20/20',\n",
      "       '3/21/20', '3/22/20', '3/23/20', '3/24/20', '3/25/20', '3/26/20',\n",
      "       '3/27/20', '3/28/20', '3/29/20', '3/30/20', '3/31/20', '4/1/20',\n",
      "       '4/2/20', '4/3/20', '4/4/20', '4/5/20', '4/6/20', '4/7/20', '4/8/20',\n",
      "       '4/9/20', '4/10/20', '4/11/20', '4/12/20', '4/13/20', '4/14/20',\n",
      "       '4/15/20', '4/16/20', '4/17/20', '4/18/20'],\n",
      "      dtype='object')\n",
      "time_deaths_df variables Index(['UID', 'iso2', 'iso3', 'code3', 'FIPS', 'Admin2', 'Province_State',\n",
      "       'Country_Region', 'Lat', 'Long_', 'Combined_Key', 'Population',\n",
      "       '1/22/20', '1/23/20', '1/24/20', '1/25/20', '1/26/20', '1/27/20',\n",
      "       '1/28/20', '1/29/20', '1/30/20', '1/31/20', '2/1/20', '2/2/20',\n",
      "       '2/3/20', '2/4/20', '2/5/20', '2/6/20', '2/7/20', '2/8/20', '2/9/20',\n",
      "       '2/10/20', '2/11/20', '2/12/20', '2/13/20', '2/14/20', '2/15/20',\n",
      "       '2/16/20', '2/17/20', '2/18/20', '2/19/20', '2/20/20', '2/21/20',\n",
      "       '2/22/20', '2/23/20', '2/24/20', '2/25/20', '2/26/20', '2/27/20',\n",
      "       '2/28/20', '2/29/20', '3/1/20', '3/2/20', '3/3/20', '3/4/20', '3/5/20',\n",
      "       '3/6/20', '3/7/20', '3/8/20', '3/9/20', '3/10/20', '3/11/20', '3/12/20',\n",
      "       '3/13/20', '3/14/20', '3/15/20', '3/16/20', '3/17/20', '3/18/20',\n",
      "       '3/19/20', '3/20/20', '3/21/20', '3/22/20', '3/23/20', '3/24/20',\n",
      "       '3/25/20', '3/26/20', '3/27/20', '3/28/20', '3/29/20', '3/30/20',\n",
      "       '3/31/20', '4/1/20', '4/2/20', '4/3/20', '4/4/20', '4/5/20', '4/6/20',\n",
      "       '4/7/20', '4/8/20', '4/9/20', '4/10/20', '4/11/20', '4/12/20',\n",
      "       '4/13/20', '4/14/20', '4/15/20', '4/16/20', '4/17/20', '4/18/20'],\n",
      "      dtype='object')\n"
     ]
    }
   ],
   "source": [
    "print(\"counties_df variables:\",counties_df.columns)\n",
    "print(\"time_cases_df variables:\",time_cases_df.columns)\n",
    "print(\"time_deaths_df variables\",time_deaths_df.columns)"
   ]
  },
  {
   "cell_type": "markdown",
   "metadata": {},
   "source": [
    "# Let's look at the basics"
   ]
  },
  {
   "cell_type": "markdown",
   "metadata": {},
   "source": [
    "Let's look at the distribution of stay at home orders by county:"
   ]
  },
  {
   "cell_type": "code",
   "execution_count": 4,
   "metadata": {
    "scrolled": true
   },
   "outputs": [
    {
     "data": {
      "text/plain": [
       "Text(0.5, 1.0, 'Distribution of stay at home orders by US county')"
      ]
     },
     "execution_count": 4,
     "metadata": {},
     "output_type": "execute_result"
    },
    {
     "data": {
      "image/png": "[encoded data removed]",
      "text/plain": [
       "<Figure size 432x288 with 1 Axes>"
      ]
     },
     "metadata": {
      "needs_background": "light"
     },
     "output_type": "display_data"
    }
   ],
   "source": [
    "sns.distplot(counties_df[\"stay at home\"].dropna())\n",
    "\n",
    "plt.title(\"Distribution of stay at home orders by US county\")\n",
    "\n",
    "#I haven't figured out the date formatting here, but need to do that!"
   ]
  },
  {
   "cell_type": "code",
   "execution_count": 8,
   "metadata": {},
   "outputs": [
    {
     "data": {
      "text/plain": [
       "Text(0.5, 1.0, 'Cumulative cases since Feb')"
      ]
     },
     "execution_count": 8,
     "metadata": {},
     "output_type": "execute_result"
    },
    {
     "data": {
      "image/png": "[encoded data removed]",
      "text/plain": [
       "<Figure size 1080x360 with 2 Axes>"
      ]
     },
     "metadata": {
      "needs_background": "light"
     },
     "output_type": "display_data"
    }
   ],
   "source": [
    "# Plot cumulative cases since February\n",
    "us = time_cases_df.groupby(\"Country_Region\").sum().iloc[:,15:].to_numpy().flatten()\n",
    "fig, ax = plt.subplots(1,2, figsize=(15,5))\n",
    "ax[0].plot(np.arange(0,len(us)), np.log(us))\n",
    "ax[0].set_title(\"Cumulative cases since Feb (log scale)\")\n",
    "ax[1].plot(np.arange(0,len(us)), us)\n",
    "ax[1].set_title(\"Cumulative cases since Feb\")"
   ]
  },
  {
   "cell_type": "code",
   "execution_count": 13,
   "metadata": {},
   "outputs": [
    {
     "data": {
      "text/plain": [
       "Text(0.5, 1.0, 'Daily new cases since Feb')"
      ]
     },
     "execution_count": 13,
     "metadata": {},
     "output_type": "execute_result"
    },
    {
     "data": {
      "image/png": "[encoded data removed]",
      "text/plain": [
       "<Figure size 432x288 with 1 Axes>"
      ]
     },
     "metadata": {
      "needs_background": "light"
     },
     "output_type": "display_data"
    }
   ],
   "source": [
    "plt.plot(np.arange(1,len(us)), np.diff(us) )\n",
    "plt.title(\"Daily new cases since Feb\")"
   ]
  },
  {
   "cell_type": "code",
   "execution_count": 14,
   "metadata": {
    "scrolled": true
   },
   "outputs": [
    {
     "data": {
      "text/plain": [
       "<BarContainer object of 77 artists>"
      ]
     },
     "execution_count": 14,
     "metadata": {},
     "output_type": "execute_result"
    },
    {
     "data": {
      "image/png": "[encoded data removed]",
      "text/plain": [
       "<Figure size 432x288 with 1 Axes>"
      ]
     },
     "metadata": {
      "needs_background": "light"
     },
     "output_type": "display_data"
    }
   ],
   "source": [
    "# Same as above, but in bar graph form\n",
    "\n",
    "plt.bar(np.arange(1,len(us)), np.diff(us) )"
   ]
  },
  {
   "cell_type": "markdown",
   "metadata": {},
   "source": [
    "Okay, now what I really want to do is understand how \"stay at home orders\" impact the new daily cases by county."
   ]
  },
  {
   "cell_type": "markdown",
   "metadata": {},
   "source": [
    "## Addressing the date time conversion on time series data"
   ]
  },
  {
   "cell_type": "code",
   "execution_count": 15,
   "metadata": {},
   "outputs": [],
   "source": [
    "# The date objects were extremely annoying, so I built this function to convert them to pandas\n",
    "\n",
    "def convert_ordinal_date_series_to_pd_date(series_object):\n",
    "    \"\"\"\n",
    "    This function takes a series object of ordinal dates (days from the beginning of the \n",
    "    Gregorian calendar) and returns a pandas date time object series\n",
    "    \"\"\"\n",
    "    \n",
    "    #series_object = series_object.astype(int)\n",
    "    k = []\n",
    "    y = 0\n",
    "    \n",
    "    for ordinal_date in series_object:\n",
    "        if np.isnan(ordinal_date) == True:\n",
    "            y += 1\n",
    "            k.append(np.nan)\n",
    "            \n",
    "        else:\n",
    "            ordinal_date = int(ordinal_date)\n",
    "            k.append(pd.to_datetime(datetime.datetime.fromordinal(ordinal_date)))\n",
    "    print(\"Your series has\", y, \"NaNs. This function converts them to NaTs.\")\n",
    "    return pd.Series(k, index = series_object.index)"
   ]
  },
  {
   "cell_type": "markdown",
   "metadata": {},
   "source": [
    "Testing function using Alameda County (closure on 3/17). Unfortunately, dataset seems to only include state shutdown orders; all counties have same stay at home orders, even though Alameda issued a county order earlier. But the function works."
   ]
  },
  {
   "cell_type": "code",
   "execution_count": 16,
   "metadata": {
    "scrolled": true
   },
   "outputs": [
    {
     "name": "stdout",
     "output_type": "stream",
     "text": [
      "Your series has 490 NaNs. This function converts them to NaTs.\n",
      "\n",
      " Date Alameda County closed: 2020-03-19 00:00:00\n"
     ]
    }
   ],
   "source": [
    "index = counties_df[counties_df[\"CountyName\"] == \"Alameda\"][\"stay at home\"].index\n",
    "print(\"\\n Date Alameda County closed:\",convert_ordinal_date_series_to_pd_date(counties_df[\"stay at home\"])[index].iloc[0])\n",
    "\n",
    "#print(\"\\n\", counties_df[counties_df[\"StateName\"]==\"CA\"][\"stay at home\"])"
   ]
  },
  {
   "cell_type": "code",
   "execution_count": 17,
   "metadata": {},
   "outputs": [
    {
     "data": {
      "text/plain": [
       "0    0.326656\n",
       "1    0.253255\n",
       "2    0.893106\n",
       "3    0.278124\n",
       "4    0.094317\n",
       "Name: dem_to_rep_ratio, dtype: float64"
      ]
     },
     "execution_count": 17,
     "metadata": {},
     "output_type": "execute_result"
    }
   ],
   "source": [
    "counties_df[\"dem_to_rep_ratio\"].head()"
   ]
  },
  {
   "cell_type": "code",
   "execution_count": null,
   "metadata": {},
   "outputs": [],
   "source": [
    "ids = [\"FIPS\",\"Admin2\", \"Province_State\", \"Country_Region\"]\n",
    "date_column_begin = 11\n",
    "dates = pd.to_datetime(time_cases_df.columns[date_column_begin:])\n",
    "df = time_cases_df[ids + list(time_cases_df.columns[date_column_begin:])]\n",
    "df = df.melt(ids)\n",
    "#date = pd.to_datetime(df[\"variable\"])\n",
    "df[\"date\"] = date\n",
    "df = df.rename(columns = {\"value\" : \"cases\"})"
   ]
  },
  {
   "cell_type": "code",
   "execution_count": null,
   "metadata": {},
   "outputs": [],
   "source": [
    "table = df.pivot_table(values = \"cases\", index = [ \"Province_State\", \"date\"],  aggfunc=sum).reset_index()\n",
    "\n",
    "table"
   ]
  },
  {
   "cell_type": "code",
   "execution_count": null,
   "metadata": {},
   "outputs": [],
   "source": [
    "ca = table[table[\"Province_State\"] == \"California\"]\n",
    "\n",
    "J = np.array([np.nan])\n",
    "\n",
    "ca.loc[:,\"daily_new_cases\"] = np.concatenate([J, np.diff(ca[\"cases\"])])\n",
    "\n",
    "ca"
   ]
  },
  {
   "cell_type": "code",
   "execution_count": null,
   "metadata": {
    "scrolled": false
   },
   "outputs": [],
   "source": [
    "threshold = 300\n",
    "ca = ca[ca[\"cases\"] >= threshold]\n",
    "ca[\"days_since_threshold\"] = np.arange(0,len(ca))"
   ]
  },
  {
   "cell_type": "code",
   "execution_count": null,
   "metadata": {},
   "outputs": [],
   "source": [
    "plt.plot(ca[\"days_since_threshold\"], ca[\"daily_new_cases\"])"
   ]
  },
  {
   "cell_type": "code",
   "execution_count": null,
   "metadata": {},
   "outputs": [],
   "source": [
    "lm = LinearRegression()\n",
    "\n",
    "x = np.array(ca[\"days_since_threshold\"]).reshape(-1,1)\n",
    "\n",
    "y = np.array(ca[\"daily_new_cases\"]).reshape(-1,1)\n",
    "\n",
    "lm.fit(x,y)\n",
    "\n",
    "y_hat = lm.predict(x)"
   ]
  },
  {
   "cell_type": "markdown",
   "metadata": {},
   "source": [
    "$new.cases = \\beta_0 + \\beta_1~time$"
   ]
  },
  {
   "cell_type": "code",
   "execution_count": null,
   "metadata": {},
   "outputs": [],
   "source": [
    "#fig, ax = plt.subplots(1,2, figsize=(15,5))\n",
    "\n",
    "plt.plot(ca[\"days_since_threshold\"], (ca[\"daily_new_cases\"]))\n",
    "plt.plot(ca[\"days_since_threshold\"], y_hat)"
   ]
  },
  {
   "cell_type": "code",
   "execution_count": null,
   "metadata": {},
   "outputs": [],
   "source": [
    "lm = LinearRegression()\n",
    "\n",
    "ca[\"days_since_threshold^2\"] = ca[\"days_since_threshold\"]**2\n",
    "\n",
    "x = ca[[\"days_since_threshold\",\"days_since_threshold^2\"]]\n",
    "\n",
    "y = np.array(ca[\"daily_new_cases\"]).reshape(-1,1)\n",
    "\n",
    "lm.fit(x,y)\n",
    "\n",
    "y_hat = lm.predict(x)"
   ]
  },
  {
   "cell_type": "code",
   "execution_count": null,
   "metadata": {},
   "outputs": [],
   "source": [
    "plt.plot(ca[\"days_since_threshold\"], (ca[\"daily_new_cases\"]))\n",
    "plt.plot(ca[\"days_since_threshold\"], y_hat)\n",
    "\n",
    "plt.title(\"Quadratic modeling of daily cases for California\")\n",
    "plt.ylabel(\"Daily new cases\")\n",
    "plt.xlabel(\"days since {} cases\".format(threshold))"
   ]
  },
  {
   "cell_type": "markdown",
   "metadata": {},
   "source": [
    "$new.cases = \\beta_0 + \\beta_1~time + \\beta_2~time$"
   ]
  },
  {
   "cell_type": "markdown",
   "metadata": {},
   "source": [
    "In this functional form, it easy to interpret $\\beta_2$ as the deceleration rate. We can calculate state by state deceleration rates.\n",
    " \n",
    "If we find that a variety of policies are indeed correlated with democratic leanings, can we also see if they explain the deceleration rate?\n",
    "\n",
    "**Or can we try to use the decelerration rates to classify whether a state is democrat or republican?**\n",
    "\n",
    "(Maybe we could think about democratic affiliation as an instrument because it is highly correlated with time (via a suite of policy interventions), but should be uncorrelated with new cases EXCEPT through the policies we're interested in.)"
   ]
  },
  {
   "cell_type": "code",
   "execution_count": null,
   "metadata": {},
   "outputs": [],
   "source": []
  },
  {
   "cell_type": "code",
   "execution_count": null,
   "metadata": {},
   "outputs": [],
   "source": []
  }
 ],
 "metadata": {
  "kernelspec": {
   "display_name": "Python 3",
   "language": "python",
   "name": "python3"
  },
  "language_info": {
   "codemirror_mode": {
    "name": "ipython",
    "version": 3
   },
   "file_extension": ".py",
   "mimetype": "text/x-python",
   "name": "python",
   "nbconvert_exporter": "python",
   "pygments_lexer": "ipython3",
   "version": "3.7.3"
  }
 },
 "nbformat": 4,
 "nbformat_minor": 2
}
