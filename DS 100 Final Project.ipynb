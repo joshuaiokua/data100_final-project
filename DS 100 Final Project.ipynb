{
 "cells": [
  {
   "cell_type": "markdown",
   "metadata": {},
   "source": [
    "*Josh Albano, Sharon Jan, and Luke Sherman*\n",
    "\n",
    "*2020.5.10*"
   ]
  },
  {
   "cell_type": "code",
   "execution_count": 1,
   "metadata": {},
   "outputs": [],
   "source": [
    "import numpy as np\n",
    "import pandas as pd\n",
    "import matplotlib\n",
    "import matplotlib.pyplot as plt\n",
    "import seaborn as sns\n",
    "import matplotlib.patches as mpatches\n",
    "import datetime\n",
    "from pandas.plotting import register_matplotlib_converters\n",
    "import geopandas as gp\n",
    "\n",
    "from sklearn.linear_model import LinearRegression\n",
    "\n",
    "from sklearn.preprocessing import OneHotEncoder\n",
    "from sklearn.model_selection import train_test_split\n",
    "import re\n",
    "\n",
    "from IPython.display import display, Latex, Markdown"
   ]
  },
  {
   "cell_type": "markdown",
   "metadata": {},
   "source": [
    "# Research Question: Can counties' responses to COVID-19 accurately predict various political features?\n",
    "\n",
    "In recent news, governments' responses to COVID-19 have been painted as highly partisan. We want to see if we can build models that accurately predict a county's 2016 presidential election results, using only features regarding counties' COVID-19 response."
   ]
  },
  {
   "cell_type": "markdown",
   "metadata": {},
   "source": [
    "# Load Datasets\n",
    "\n",
    "### Datasets\n",
    "- counties_df = County features dataframe (missing some counties, Alaska, and Hawaii)\n",
    "- time_cases_df = Timeline of cases by county\n",
    "- county_pres_df = Presidential election results by county\n",
    "    - We added this dataset; this gives us our dependent political variables\n",
    "\n",
    "\n",
    "### Cleaning steps\n",
    "- Get rid of all non-US states (including territories & cruise ships).\n",
    "- Get rid of Alaska & Hawaii in states, time_cases, and time_deaths because it is not in counties_df\n",
    "- In time_cases & time_deaths, there are 'Out of State' & 'Unassigned' observations that seem like they're state-level. We split those off from the county-specific information for now.\n",
    "- Convert FIPS columns to strings so they can be used as a merge key later. \n",
    "- Rename state FIPS \"STATEFP\" and county FIPS remains \"FIPS\"\n",
    "- Get rid of most demographic features in counties_df; we only want to keep response features"
   ]
  },
  {
   "cell_type": "code",
   "execution_count": 48,
   "metadata": {},
   "outputs": [],
   "source": [
    "def fips_to_string(df, fips_name, length=5):\n",
    "    \"\"\"\n",
    "    Returns series of FIPS code in string form. Length tells you what length the string should be\n",
    "    \"\"\"\n",
    "    return df[fips_name].apply(lambda x: '0' + str(int(x)) if len(str(int(x)))==length-1 \\\n",
    "                              else str(int(x)))\n",
    "\n",
    "### Counties DF ####\n",
    "counties_df = pd.read_csv(\"abridged_couties.csv\")\n",
    "\n",
    "counties_df = counties_df[counties_df['State'].notna()] #Get rid of US Territories\n",
    "counties_df['STATEFP'] = fips_to_string(counties_df, 'STATEFP', length=2)\n",
    "counties_df = counties_df.rename(columns={'countyFIPS': 'FIPS'}).drop(columns=['COUNTYFP'])\n",
    "counties_keep_features = ['FIPS', 'STATEFP', 'CountyName', 'StateName', 'State','stay at home',\n",
    " '>50 gatherings',\n",
    " '>500 gatherings',\n",
    " 'public schools',\n",
    " 'restaurant dine-in',\n",
    " 'entertainment/gym']\n",
    "counties_old_df = counties_df.copy()\n",
    "counties_df = counties_df[counties_keep_features] #Keep only COVID-19 response features (and FIPS ID)\n",
    "counties_df['CountyName']\n",
    "\n",
    "### Time Cases ###\n",
    "time_cases_df = pd.read_csv(\"time_series_covid19_confirmed_US.csv\")\n",
    "\n",
    "time_cases_df = time_cases_df[time_cases_df['FIPS'].isna()==False]\n",
    "time_cases_df['FIPS'] = fips_to_string(time_cases_df, 'FIPS', 5)\n",
    "time_cases_df['STATEFP'] = time_cases_df['FIPS'].str[0:2]\n",
    "FIPS = time_cases_df.pop('FIPS')\n",
    "time_cases_df.insert(0, 'FIPS', FIPS)\n",
    "STATEFP = time_cases_df.pop('STATEFP')\n",
    "time_cases_df.insert(0, 'STATEFP', STATEFP)\n",
    "#time_cases_df = time_cases_df[time_cases_df['STATEFP'].isin(['02','15'])==False] #Get rid of Alaska & Hawaii\n",
    "state_time_cases = time_cases_df.groupby(['STATEFP','Province_State']).sum()\n",
    "#Split off \"Out of [State]\" & \"Unassigned\" Data. Remove from df\n",
    "# time_cases_df = time_cases_df[time_cases_df['STATEFP'].isin(['80','90'])==False]\n",
    "time_cases_df = time_cases_df.drop(columns = ['UID', 'iso2', 'iso3', 'code3','Country_Region', 'Lat', 'Long_', 'Combined_Key'])\n",
    "\n",
    "#County presidential election data\n",
    "county_pres_df = pd.read_csv('countypres_2000-2016.csv')\n",
    "county_pres_df = county_pres_df[(county_pres_df['party'] == 'democrat') | (county_pres_df['party'] == 'republican')]\n",
    "county_pres_df['candidatevotes'].fillna(0, inplace=True)\n",
    "county_pres_df.dropna(inplace=True)\n",
    "\n",
    "county_pres_df = county_pres_df[(county_pres_df['county'] != 'Broomfield')]\n",
    "#                                (county_pres_df['county'] != 'Kansas City') &\n",
    "#                                (county_pres_df['county'] != 'Bedford')]\n",
    "\n",
    "county_pres_df.loc[:, 'proportion'] = county_pres_df['candidatevotes'] / county_pres_df.loc[:, 'totalvotes']\n",
    "county_pres_df.loc[::2, 'proportion'] = -county_pres_df.loc[::2, 'proportion']\n",
    "county_pres_df['proportion'].fillna(0, inplace=True)\n",
    "county_pres_df['FIPS'] = fips_to_string(county_pres_df, 'FIPS', 5)\n",
    "county_pres_df['STATEFP'] = county_pres_df['FIPS'][0:2]\n",
    "FIPS = county_pres_df.pop('FIPS')\n",
    "county_pres_df.insert(0, 'FIPS', FIPS)\n",
    "STATEFP = county_pres_df.pop('STATEFP')\n",
    "county_pres_df.insert(0,'STATEFP',STATEFP)\n",
    "\n",
    "# County shapefile\n",
    "county_shp = gp.read_file('cb_2018_us_county_5m.shp')\n",
    "county_shp = county_shp.loc[:, ('STATEFP', 'COUNTYFP', 'geometry')]\n",
    "county_shp['FIPS'] = county_shp['STATEFP'] + county_shp['COUNTYFP']\n",
    "county_shp = county_shp.drop(columns=['COUNTYFP'])\n",
    "STATEFP = county_shp.pop('STATEFP')\n",
    "county_shp.insert(0,'STATEFP', STATEFP)"
   ]
  },
  {
   "cell_type": "markdown",
   "metadata": {},
   "source": [
    "## Dependent  Variables - Election Results\n",
    "\n",
    "We have created some categorical and continuous political variables that we hope to explain using only counties' COVID-19 data. Essentially, using only information about COVID-19, can we predict a county/state's political leanings? In this section, we identify which party (Republican/Democratic) won each county's vote in presidential elections since 2000, and define a feature of the average vote across the past elections since 2000.\n",
    "\n",
    "Ultimately, we choose to use only the 2016 election results to simplify our model (more information in the next section)"
   ]
  },
  {
   "cell_type": "markdown",
   "metadata": {},
   "source": [
    "#### Functions for County-Level Election Data"
   ]
  },
  {
   "cell_type": "code",
   "execution_count": 3,
   "metadata": {},
   "outputs": [],
   "source": [
    "def County_Winners(df, state, method='categorical'):\n",
    "    \"\"\"\n",
    "    df: DataFrame\n",
    "    state: U.S. State Name (e.g. California, Idaho, etc.)\n",
    "    method: \n",
    "    \n",
    "    Returns\n",
    "    \"\"\"\n",
    "    assert method is 'categorical' or 'continuous', \"Please choose either 'categorical' or 'continuous'\"\n",
    "    if method is 'categorical':\n",
    "        max_col = 'party'\n",
    "    elif method is 'continuous':\n",
    "        max_col = 'proportion'\n",
    "    \n",
    "    state_df = df[df['state'] == state]\n",
    "\n",
    "    election_years = state_df['year'].unique()\n",
    "    winners_container = [[] for _ in range(len(election_years))]\n",
    "    \n",
    "    for idx, year in enumerate(election_years):\n",
    "        winners = state_df[state_df['year'] == year].groupby('FIPS').apply(\n",
    "            lambda county: county[max_col][county['candidatevotes'].idxmax()]).values\n",
    "        winners_container[idx] = winners\n",
    "            \n",
    "    return winners_container\n",
    "\n",
    "def County_Winners_DF(df, method='categorical'):\n",
    "    \"\"\"\n",
    "    df: \n",
    "    \n",
    "    Returns \n",
    "    \"\"\"\n",
    "    states = df['state'].unique()\n",
    "    list_counties, list_fips = [], []\n",
    "    list_2000, list_2004 = [], []\n",
    "    list_2008, list_2012 = [], []\n",
    "    list_2016 = []\n",
    "    \n",
    "    for state in states:\n",
    "        state_df = df[df['state'] == state]\n",
    "        fips = state_df['FIPS'].unique()\n",
    "        county_winners = County_Winners(df=df, state=state, method=method)\n",
    "        list_fips.extend(fips)\n",
    "        list_2000.extend(county_winners[0])\n",
    "        list_2004.extend(county_winners[1])\n",
    "        list_2008.extend(county_winners[2])\n",
    "        list_2012.extend(county_winners[3])\n",
    "        list_2016.extend(county_winners[4])\n",
    "    \n",
    "    final_dataframe = pd.DataFrame({\n",
    "    'FIPS': list_fips,\n",
    "    '2000': list_2000, '2004': list_2004, \n",
    "    '2008': list_2008, '2012': list_2012,\n",
    "    '2016': list_2016})\n",
    "    \n",
    "    if method is 'categorical':\n",
    "        final_dataframe.replace({'republican': 1, 'democrat': 0}, inplace=True)\n",
    "    else:\n",
    "        pass\n",
    "        \n",
    "    final_dataframe['Total'] = final_dataframe.loc[:, ('2000', '2004', '2008', '2012', '2016')].mean(axis=1)\n",
    "    \n",
    "    return final_dataframe"
   ]
  },
  {
   "cell_type": "code",
   "execution_count": 4,
   "metadata": {},
   "outputs": [],
   "source": [
    "# Dataframes with county-level data on presidential elections.\n",
    "\n",
    "county_winners_cat_df = County_Winners_DF(county_pres_df)\n",
    "county_winners_cont_df = County_Winners_DF(county_pres_df, method='continuous')"
   ]
  },
  {
   "cell_type": "markdown",
   "metadata": {},
   "source": [
    "## Google Mobility Data\n",
    "\n",
    "Here, we load in an additional dataset, [Google's Mobility Report](https://www.google.com/covid19/mobility/). This gives a measure of mobility before and during the COVID-19 crisis. Here's the description from the website:\n",
    "\n",
    "*\\\"As global communities respond to COVID-19, we've heard from public health officials that the same type of aggregated, anonymized insights we use in products such as Google Maps could be helpful as they make critical decisions to combat COVID-19.*\n",
    "\n",
    "*These Community Mobility Reports aim to provide insights into what has changed in response to policies aimed at combating COVID-19. The reports chart movement trends over time by geography, across different categories of places such as retail and recreation, groceries and pharmacies, parks, transit stations, workplaces, and residential.\"*\n",
    "\n",
    "The Mobility data establishes a baseline for each county: this is the median \"mobility value\", for the corresponding day of the week, during the 5-week period Jan 3–Feb 6, 2020. For each subsequent week, the data reports the change in mobility relative to the baseline. Thus, a negative value means that mobility in a county has dropped below baseline levels."
   ]
  },
  {
   "cell_type": "code",
   "execution_count": 5,
   "metadata": {},
   "outputs": [
    {
     "name": "stderr",
     "output_type": "stream",
     "text": [
      "//anaconda3/lib/python3.7/site-packages/IPython/core/interactiveshell.py:3057: DtypeWarning: Columns (3) have mixed types. Specify dtype option on import or set low_memory=False.\n",
      "  interactivity=interactivity, compiler=compiler, result=result)\n"
     ]
    }
   ],
   "source": [
    "# Clean mobility data\n",
    "mob = pd.read_csv('Global_Mobility_Report.csv')\n",
    "mob = mob[mob['country_region'] == 'United States'].iloc[:, 2:]\n",
    "mob.reset_index(inplace=True)\n",
    "mob.drop(columns='index', inplace=True)\n",
    "new_cols = ['retail', 'grocery', 'parks', 'transit', 'workplaces', 'residential']\n",
    "mob.columns = ['State', 'CountyName', 'date'] + new_cols\n",
    "mob.loc[:, 'CountyName'] = mob.loc[:, 'CountyName'].str.replace(' County', '')\n",
    "mob['date'] = pd.to_datetime(mob['date'])\n",
    "mob.loc[:, 'date_ord'] = mob['date'].map(pd.Timestamp.toordinal)\n",
    "mob = mob[(mob['State'] != 'Alaska') & (mob['State'] != 'Hawaii')]\n",
    "mob.loc[(mob['State'] == 'Virginia'), 'CountyName'] = mob.loc[(mob['State'] == 'Virginia'), 'CountyName'].str.replace(' City', '')\n",
    "\n",
    "for partitive in ['De', 'La', 'Du']:\n",
    "    mob.loc[:, 'CountyName'] = mob.loc[:, 'CountyName'].str.replace(partitive+'[A-Z]', \n",
    "                               lambda m: m.group()[:2]+ ' ' +m.group()[2:], regex=True)\n",
    "\n",
    "mob = mob[mob['date_ord'] > 737490]\n",
    "\n",
    "# Create state level and county level mobility data\n",
    "county_mob = mob[mob['CountyName'].isna() == False]\n",
    "county_mob_pivoted = pd.pivot_table(county_mob, index=['State','CountyName'])\n",
    "county_mob_pivoted.interpolate(inplace=True)"
   ]
  },
  {
   "cell_type": "markdown",
   "metadata": {},
   "source": [
    "## Merge all datasets\n",
    "\n",
    "Here we merge our datasets into \"county_merged_df\" to prepare for test train split:\n",
    "- counties_df has our county-level COVID-19 orders\n",
    "- county_winners_cat_df has our categorical political feature, 'VotedTrump2016'.\n",
    "    - VotedTrump2016 = 1 if Trump won the county in 2016; 0 if not.\n",
    "- county_winners_cont_df has our continuous political feature, 'VotedTrump2016Cont'.\n",
    "    - $ VotedTrump2016Cont \\in [-1,1]$ \n",
    "    - 0 means the county was split 50/50. 1.0 means that 100% of the county voted for Trump. -1.0 means that 0% voted for Trump.\n",
    "\n",
    "Later on, we create two features using the time series data of COVID-19 cases by county, which is merged into our training data later."
   ]
  },
  {
   "cell_type": "code",
   "execution_count": 6,
   "metadata": {},
   "outputs": [
    {
     "data": {
      "text/html": [
       "<div>\n",
       "<style scoped>\n",
       "    .dataframe tbody tr th:only-of-type {\n",
       "        vertical-align: middle;\n",
       "    }\n",
       "\n",
       "    .dataframe tbody tr th {\n",
       "        vertical-align: top;\n",
       "    }\n",
       "\n",
       "    .dataframe thead th {\n",
       "        text-align: right;\n",
       "    }\n",
       "</style>\n",
       "<table border=\"1\" class=\"dataframe\">\n",
       "  <thead>\n",
       "    <tr style=\"text-align: right;\">\n",
       "      <th></th>\n",
       "      <th>FIPS</th>\n",
       "      <th>STATEFP</th>\n",
       "      <th>CountyName</th>\n",
       "      <th>StateName</th>\n",
       "      <th>State</th>\n",
       "      <th>stay at home</th>\n",
       "      <th>&gt;50 gatherings</th>\n",
       "      <th>&gt;500 gatherings</th>\n",
       "      <th>public schools</th>\n",
       "      <th>restaurant dine-in</th>\n",
       "      <th>...</th>\n",
       "      <th>VotedTrump2016</th>\n",
       "      <th>VotedTrump2016Cont</th>\n",
       "      <th>PresElectCont</th>\n",
       "      <th>date_ord</th>\n",
       "      <th>grocery</th>\n",
       "      <th>parks</th>\n",
       "      <th>residential</th>\n",
       "      <th>retail</th>\n",
       "      <th>transit</th>\n",
       "      <th>workplaces</th>\n",
       "    </tr>\n",
       "  </thead>\n",
       "  <tbody>\n",
       "    <tr>\n",
       "      <th>0</th>\n",
       "      <td>01001</td>\n",
       "      <td>01</td>\n",
       "      <td>Autauga</td>\n",
       "      <td>AL</td>\n",
       "      <td>Alabama</td>\n",
       "      <td>737519.0</td>\n",
       "      <td>737504.0</td>\n",
       "      <td>737497.0</td>\n",
       "      <td>737500.0</td>\n",
       "      <td>737503.0</td>\n",
       "      <td>...</td>\n",
       "      <td>1</td>\n",
       "      <td>0.727666</td>\n",
       "      <td>0.728733</td>\n",
       "      <td>737516.0</td>\n",
       "      <td>8.607843</td>\n",
       "      <td>-37.666667</td>\n",
       "      <td>12.314286</td>\n",
       "      <td>-19.392157</td>\n",
       "      <td>NaN</td>\n",
       "      <td>-27.921569</td>\n",
       "    </tr>\n",
       "    <tr>\n",
       "      <th>1</th>\n",
       "      <td>01003</td>\n",
       "      <td>01</td>\n",
       "      <td>Baldwin</td>\n",
       "      <td>AL</td>\n",
       "      <td>Alabama</td>\n",
       "      <td>737519.0</td>\n",
       "      <td>737504.0</td>\n",
       "      <td>737497.0</td>\n",
       "      <td>737500.0</td>\n",
       "      <td>737503.0</td>\n",
       "      <td>...</td>\n",
       "      <td>1</td>\n",
       "      <td>0.765457</td>\n",
       "      <td>0.755888</td>\n",
       "      <td>737516.0</td>\n",
       "      <td>-2.470588</td>\n",
       "      <td>-5.666667</td>\n",
       "      <td>9.313725</td>\n",
       "      <td>-27.705882</td>\n",
       "      <td>-15.196078</td>\n",
       "      <td>-24.411765</td>\n",
       "    </tr>\n",
       "    <tr>\n",
       "      <th>2</th>\n",
       "      <td>01005</td>\n",
       "      <td>01</td>\n",
       "      <td>Barbour</td>\n",
       "      <td>AL</td>\n",
       "      <td>Alabama</td>\n",
       "      <td>737519.0</td>\n",
       "      <td>737504.0</td>\n",
       "      <td>737497.0</td>\n",
       "      <td>737500.0</td>\n",
       "      <td>737503.0</td>\n",
       "      <td>...</td>\n",
       "      <td>1</td>\n",
       "      <td>0.520967</td>\n",
       "      <td>0.111990</td>\n",
       "      <td>737516.0</td>\n",
       "      <td>-4.333333</td>\n",
       "      <td>-11.722222</td>\n",
       "      <td>9.999627</td>\n",
       "      <td>-4.030303</td>\n",
       "      <td>-21.119826</td>\n",
       "      <td>-18.470588</td>\n",
       "    </tr>\n",
       "    <tr>\n",
       "      <th>3</th>\n",
       "      <td>01007</td>\n",
       "      <td>01</td>\n",
       "      <td>Bibb</td>\n",
       "      <td>AL</td>\n",
       "      <td>Alabama</td>\n",
       "      <td>737519.0</td>\n",
       "      <td>737504.0</td>\n",
       "      <td>737497.0</td>\n",
       "      <td>737500.0</td>\n",
       "      <td>737503.0</td>\n",
       "      <td>...</td>\n",
       "      <td>1</td>\n",
       "      <td>0.764032</td>\n",
       "      <td>0.707696</td>\n",
       "      <td>737516.0</td>\n",
       "      <td>7.900000</td>\n",
       "      <td>-17.777778</td>\n",
       "      <td>10.685528</td>\n",
       "      <td>-3.633333</td>\n",
       "      <td>-27.043573</td>\n",
       "      <td>-22.000000</td>\n",
       "    </tr>\n",
       "    <tr>\n",
       "      <th>4</th>\n",
       "      <td>01009</td>\n",
       "      <td>01</td>\n",
       "      <td>Blount</td>\n",
       "      <td>AL</td>\n",
       "      <td>Alabama</td>\n",
       "      <td>737519.0</td>\n",
       "      <td>737504.0</td>\n",
       "      <td>737497.0</td>\n",
       "      <td>737500.0</td>\n",
       "      <td>737503.0</td>\n",
       "      <td>...</td>\n",
       "      <td>1</td>\n",
       "      <td>0.893348</td>\n",
       "      <td>0.822296</td>\n",
       "      <td>737516.0</td>\n",
       "      <td>5.040816</td>\n",
       "      <td>-23.833333</td>\n",
       "      <td>11.371429</td>\n",
       "      <td>-16.175000</td>\n",
       "      <td>-32.967320</td>\n",
       "      <td>-25.725490</td>\n",
       "    </tr>\n",
       "  </tbody>\n",
       "</table>\n",
       "<p>5 rows × 21 columns</p>\n",
       "</div>"
      ],
      "text/plain": [
       "    FIPS STATEFP CountyName StateName    State  stay at home  >50 gatherings  \\\n",
       "0  01001      01    Autauga        AL  Alabama      737519.0        737504.0   \n",
       "1  01003      01    Baldwin        AL  Alabama      737519.0        737504.0   \n",
       "2  01005      01    Barbour        AL  Alabama      737519.0        737504.0   \n",
       "3  01007      01       Bibb        AL  Alabama      737519.0        737504.0   \n",
       "4  01009      01     Blount        AL  Alabama      737519.0        737504.0   \n",
       "\n",
       "   >500 gatherings  public schools  restaurant dine-in  ...  VotedTrump2016  \\\n",
       "0         737497.0        737500.0            737503.0  ...               1   \n",
       "1         737497.0        737500.0            737503.0  ...               1   \n",
       "2         737497.0        737500.0            737503.0  ...               1   \n",
       "3         737497.0        737500.0            737503.0  ...               1   \n",
       "4         737497.0        737500.0            737503.0  ...               1   \n",
       "\n",
       "   VotedTrump2016Cont  PresElectCont  date_ord   grocery      parks  \\\n",
       "0            0.727666       0.728733  737516.0  8.607843 -37.666667   \n",
       "1            0.765457       0.755888  737516.0 -2.470588  -5.666667   \n",
       "2            0.520967       0.111990  737516.0 -4.333333 -11.722222   \n",
       "3            0.764032       0.707696  737516.0  7.900000 -17.777778   \n",
       "4            0.893348       0.822296  737516.0  5.040816 -23.833333   \n",
       "\n",
       "   residential     retail    transit  workplaces  \n",
       "0    12.314286 -19.392157        NaN  -27.921569  \n",
       "1     9.313725 -27.705882 -15.196078  -24.411765  \n",
       "2     9.999627  -4.030303 -21.119826  -18.470588  \n",
       "3    10.685528  -3.633333 -27.043573  -22.000000  \n",
       "4    11.371429 -16.175000 -32.967320  -25.725490  \n",
       "\n",
       "[5 rows x 21 columns]"
      ]
     },
     "execution_count": 6,
     "metadata": {},
     "output_type": "execute_result"
    }
   ],
   "source": [
    "county_merged_df = counties_df.merge(county_winners_cat_df.loc[:, ('FIPS', '2016')], on='FIPS')\n",
    "county_merged_df.rename(columns={'2016': 'VotedTrump2016'}, inplace=True)\n",
    "county_merged_df = county_merged_df.merge(county_winners_cont_df.loc[:, ('FIPS', '2016', 'Total')], on='FIPS')\n",
    "county_merged_df.rename(columns={'2016': 'VotedTrump2016Cont', 'Total':'PresElectCont'}, inplace=True)\n",
    "# Some counties have different naming conventions. Here we standardize some of those issues\n",
    "county_merged_df.loc[:, 'CountyName'] = county_merged_df.loc[:, 'CountyName'].str.replace('St ', 'St. ')\n",
    "county_merged_df.loc[(county_merged_df.StateName == 'VA'), 'CountyName'] = \\\n",
    "county_merged_df.loc[(county_merged_df.StateName == 'VA'), 'CountyName'].str.replace(' City', '')\n",
    "\n",
    "county_merged_df = county_merged_df.merge(county_mob_pivoted, on=['State', 'CountyName'])\n",
    "    \n",
    "county_merged_df.head()"
   ]
  },
  {
   "cell_type": "markdown",
   "metadata": {},
   "source": [
    "#  Train Test Split\n",
    "\n",
    "Time to split our data! We do an 80/20 split of all counties using the FIPS id. We shuffle the data, since the county data is ordered by alphabetically."
   ]
  },
  {
   "cell_type": "code",
   "execution_count": 7,
   "metadata": {},
   "outputs": [],
   "source": [
    "import sklearn.model_selection\n",
    "\n",
    "def train_test_split_fips(unique_fips, fips_level, df):\n",
    "    \"\"\"\n",
    "    Inputs:\n",
    "    unique_fips = list of unique FIPS\n",
    "    fips_level: either 'STATEFP' or 'FIPS'\n",
    "    df_list: list of dataframes to train/test\n",
    "    Returns:\n",
    "    list of train/test splits of each dataframe: eg: [df1_train, df1_test, df2_train, df_test]\n",
    "    \"\"\"\n",
    "    assert (fips_level == 'FIPS' or fips_level == 'STATEFP'), \"Please enter 'STATEFP' or 'FIPS' for fips_level\"\n",
    "\n",
    "    #Train/Test Split FIPS IDs\n",
    "    tr, te = sklearn.model_selection.train_test_split(\n",
    "    unique_fips, train_size=0.8, test_size=0.2, random_state=47, shuffle=True)\n",
    "    \n",
    "    return df[df[fips_level].isin(tr)], df[df[fips_level].isin(te)]"
   ]
  },
  {
   "cell_type": "code",
   "execution_count": 8,
   "metadata": {},
   "outputs": [
    {
     "name": "stdout",
     "output_type": "stream",
     "text": [
      "County train size:  2164 , county test size:  542\n"
     ]
    }
   ],
   "source": [
    "#Unique Fips Codes\n",
    "countyfp = county_merged_df['FIPS'].unique()\n",
    "\n",
    "#County Level DFs (doesn't include states_df)\n",
    "county_train, county_test = train_test_split_fips(countyfp, 'FIPS', county_merged_df)\n",
    "\n",
    "print(\"County train size: \", county_train.shape[0], \", county test size: \", county_test.shape[0])"
   ]
  },
  {
   "cell_type": "markdown",
   "metadata": {},
   "source": [
    "## County order features EDA\n",
    "\n",
    "Below, we plot the change in workplace mobility between the counties with the highest and lowest vote for Trump 2016. Typically, the county with a high Trump vote has a slightly lower drop in mobility."
   ]
  },
  {
   "cell_type": "code",
   "execution_count": 9,
   "metadata": {},
   "outputs": [
    {
     "name": "stderr",
     "output_type": "stream",
     "text": [
      "//anaconda3/lib/python3.7/site-packages/pandas/plotting/_converter.py:129: FutureWarning: Using an implicitly registered datetime converter for a matplotlib plotting method. The converter was registered by pandas on import. Future versions of pandas will require you to explicitly register matplotlib converters.\n",
      "\n",
      "To register the converters:\n",
      "\t>>> from pandas.plotting import register_matplotlib_converters\n",
      "\t>>> register_matplotlib_converters()\n",
      "  warnings.warn(msg, FutureWarning)\n"
     ]
    },
    {
     "data": {
      "image/png": "[encoded data removed]",
      "text/plain": [
       "<Figure size 432x288 with 1 Axes>"
      ]
     },
     "metadata": {
      "needs_background": "light"
     },
     "output_type": "display_data"
    }
   ],
   "source": [
    "max_county = county_train.loc[county_train.dropna()['VotedTrump2016Cont'].idxmax()]['CountyName']\n",
    "max_state = county_train.loc[county_train.dropna()['VotedTrump2016Cont'].idxmax()]['State']\n",
    "min_county = county_train.loc[county_train['VotedTrump2016Cont'].idxmin()]['CountyName']\n",
    "min_state = county_train.loc[county_train['VotedTrump2016Cont'].idxmin()]['State']\n",
    "\n",
    "sns.scatterplot('date', 'workplaces', data=mob[(mob['CountyName'] == max_county) \\\n",
    "                & (mob['State'] == max_state)],\n",
    "                label=max_county +\", \" + max_state)\n",
    "sns.scatterplot('date', 'workplaces', data=mob[(mob['CountyName'] == min_county) \\\n",
    "                & (mob['State'] == min_state)], \n",
    "                label=min_county +\", \" + min_state)\n",
    "plt.title('Relative Workplace Mobility for Highest and Lowest Trump Vote Counties')\n",
    "plt.xlim(('2020-03-07'),('2020-04-26'))\n",
    "plt.xticks(rotation=45)\n",
    "plt.show()"
   ]
  },
  {
   "cell_type": "markdown",
   "metadata": {},
   "source": [
    "This plot compares the date of stay at home orders and restricting gatherings to under 500 people by county. Both distributions seem roughly bimodal, but there are slightly more Republican counties with later restrictive orders. Dates are kept in ordinal time, which is easier to plot (plus we're not that interested in the actual date, just the relative order between counties)."
   ]
  },
  {
   "cell_type": "code",
   "execution_count": 10,
   "metadata": {
    "scrolled": false
   },
   "outputs": [
    {
     "data": {
      "image/png": "[encoded data removed]",
      "text/plain": [
       "<Figure size 1080x432 with 2 Axes>"
      ]
     },
     "metadata": {
      "needs_background": "light"
     },
     "output_type": "display_data"
    }
   ],
   "source": [
    "fig,ax = plt.subplots(1,2, figsize=(15,6))\n",
    "\n",
    "\n",
    "for trump in range(0,2):\n",
    "    county_sub = county_train[county_train[\"VotedTrump2016\"]== trump]\n",
    "    sns.distplot(county_sub[\"stay at home\"].dropna(), ax = ax[0])\n",
    "fig.legend([\"Clinton county 2016\", \"Trump county 2016\"], loc=7)\n",
    "\n",
    "plt.title(\"Distribution of stay at home orders by US county\")\n",
    "\n",
    "for trump in range(0,2):\n",
    "    county_sub = county_train[county_train[\"VotedTrump2016\"]== trump]\n",
    "    sns.distplot(county_sub[\">500 gatherings\"].dropna(), ax=ax[1])\n",
    "\n",
    "\n",
    "ax[0].set_title(\"Distribution of stay at home orders by US county\")\n",
    "\n",
    "ax[1].set_title(\"Distribution of >500 gathering restrictions by US county\")\n",
    "plt.show()\n",
    "#fig.savefig('ordersdist.png')"
   ]
  },
  {
   "cell_type": "markdown",
   "metadata": {},
   "source": [
    "# State Order Features\n",
    "\n",
    "Creates some new features to describe: \n",
    "- Earliest order in state (for all orders)\n",
    "- Latest order in state (for all orders)\n",
    "- Whether state had same order across the state (for all orders)\n",
    "- County's order date relative to state"
   ]
  },
  {
   "cell_type": "code",
   "execution_count": 11,
   "metadata": {},
   "outputs": [],
   "source": [
    "# This function converts ordinal date to pandas date\n",
    "\n",
    "def convert_ordinal_date_series_to_pd_date(series_object):\n",
    "    \"\"\"\n",
    "    This function takes a series object of ordinal dates (days from the beginning of the \n",
    "    Gregorian calendar) and returns a pandas date time object series\n",
    "    \"\"\"\n",
    "    #series_object = series_object.astype(int)\n",
    "    k = []\n",
    "    y = 0\n",
    "    \n",
    "    for ordinal_date in series_object:\n",
    "        if np.isnan(ordinal_date) == True:\n",
    "            y += 1\n",
    "            k.append(np.nan)\n",
    "            \n",
    "        else:\n",
    "            ordinal_date = int(ordinal_date)\n",
    "            k.append(pd.to_datetime(datetime.datetime.fromordinal(ordinal_date)))\n",
    "    print(\"Your series has\", y, \"NaNs. This function converts them to NaTs.\")\n",
    "    return pd.Series(k, index = series_object.index)"
   ]
  },
  {
   "cell_type": "code",
   "execution_count": 12,
   "metadata": {},
   "outputs": [],
   "source": [
    "def state_orders_features(df, col, statefp= 'STATEFP'):\n",
    "    \"\"\"\n",
    "    Inputs: df (dataframe), column (string of column name), statefp = STATEFP column\n",
    "    Outputs a list of series: \n",
    "    1) The earliest date for the order, \n",
    "    2) The latest date for the order,\n",
    "    3) Whether every county in the state has the same date of order (most likely a state order)\n",
    "    4) Whether a county's order was before the median of the state (assuming the median will be the state order)\n",
    "    \"\"\"\n",
    "    return [df[col].groupby(df[statefp]).transform(min),\n",
    "            df[col].groupby(df[statefp]).transform(max),\n",
    "            df[col].groupby(df[statefp]).transform(min) == df[col].groupby(df[statefp]).transform(max),\n",
    "            df[col] - df[col].groupby(df[statefp]).transform('median')]\n",
    "\n",
    "def add_state_orders_features_to_df(df, orders_columns, statefp = 'STATEFP'):\n",
    "    \"\"\"\n",
    "    Adds state_orders_features to dataframe\n",
    "    \"\"\"\n",
    "    for col in orders_columns:\n",
    "        df['Earliest '+ col] = state_orders_features(df, col, statefp)[0]\n",
    "        df['Latest '+ col] = state_orders_features(df, col, statefp)[1]\n",
    "        df[col + ' same for whole state'] = state_orders_features(df, col, statefp)[2]\n",
    "        df[col + ' relative to state'] = state_orders_features(df, col, statefp)[3]\n",
    "    return df"
   ]
  },
  {
   "cell_type": "code",
   "execution_count": 13,
   "metadata": {},
   "outputs": [],
   "source": [
    "# Apply state_orders_features and add_state_orders_features_to_df \n",
    "\n",
    "pd.set_option('mode.chained_assignment', None) #this is to make that slice error go away\n",
    "orders_columns = ['stay at home', '>50 gatherings',\n",
    "       '>500 gatherings', 'public schools', 'restaurant dine-in',\n",
    "       'entertainment/gym']\n",
    "\n",
    "county_train = add_state_orders_features_to_df(county_train, orders_columns)"
   ]
  },
  {
   "cell_type": "code",
   "execution_count": 14,
   "metadata": {},
   "outputs": [
    {
     "data": {
      "text/html": [
       "<div>\n",
       "<style scoped>\n",
       "    .dataframe tbody tr th:only-of-type {\n",
       "        vertical-align: middle;\n",
       "    }\n",
       "\n",
       "    .dataframe tbody tr th {\n",
       "        vertical-align: top;\n",
       "    }\n",
       "\n",
       "    .dataframe thead th {\n",
       "        text-align: right;\n",
       "    }\n",
       "</style>\n",
       "<table border=\"1\" class=\"dataframe\">\n",
       "  <thead>\n",
       "    <tr style=\"text-align: right;\">\n",
       "      <th></th>\n",
       "      <th>FIPS</th>\n",
       "      <th>STATEFP</th>\n",
       "      <th>CountyName</th>\n",
       "      <th>StateName</th>\n",
       "      <th>State</th>\n",
       "      <th>stay at home</th>\n",
       "      <th>&gt;50 gatherings</th>\n",
       "      <th>&gt;500 gatherings</th>\n",
       "      <th>public schools</th>\n",
       "      <th>restaurant dine-in</th>\n",
       "      <th>...</th>\n",
       "      <th>public schools same for whole state</th>\n",
       "      <th>public schools relative to state</th>\n",
       "      <th>Earliest restaurant dine-in</th>\n",
       "      <th>Latest restaurant dine-in</th>\n",
       "      <th>restaurant dine-in same for whole state</th>\n",
       "      <th>restaurant dine-in relative to state</th>\n",
       "      <th>Earliest entertainment/gym</th>\n",
       "      <th>Latest entertainment/gym</th>\n",
       "      <th>entertainment/gym same for whole state</th>\n",
       "      <th>entertainment/gym relative to state</th>\n",
       "    </tr>\n",
       "  </thead>\n",
       "  <tbody>\n",
       "    <tr>\n",
       "      <th>1</th>\n",
       "      <td>01003</td>\n",
       "      <td>01</td>\n",
       "      <td>Baldwin</td>\n",
       "      <td>AL</td>\n",
       "      <td>Alabama</td>\n",
       "      <td>737519.0</td>\n",
       "      <td>737504.0</td>\n",
       "      <td>737497.0</td>\n",
       "      <td>737500.0</td>\n",
       "      <td>737503.0</td>\n",
       "      <td>...</td>\n",
       "      <td>True</td>\n",
       "      <td>0.0</td>\n",
       "      <td>737503.0</td>\n",
       "      <td>737503.0</td>\n",
       "      <td>True</td>\n",
       "      <td>0.0</td>\n",
       "      <td>737512.0</td>\n",
       "      <td>737512.0</td>\n",
       "      <td>True</td>\n",
       "      <td>0.0</td>\n",
       "    </tr>\n",
       "    <tr>\n",
       "      <th>3</th>\n",
       "      <td>01007</td>\n",
       "      <td>01</td>\n",
       "      <td>Bibb</td>\n",
       "      <td>AL</td>\n",
       "      <td>Alabama</td>\n",
       "      <td>737519.0</td>\n",
       "      <td>737504.0</td>\n",
       "      <td>737497.0</td>\n",
       "      <td>737500.0</td>\n",
       "      <td>737503.0</td>\n",
       "      <td>...</td>\n",
       "      <td>True</td>\n",
       "      <td>0.0</td>\n",
       "      <td>737503.0</td>\n",
       "      <td>737503.0</td>\n",
       "      <td>True</td>\n",
       "      <td>0.0</td>\n",
       "      <td>737512.0</td>\n",
       "      <td>737512.0</td>\n",
       "      <td>True</td>\n",
       "      <td>0.0</td>\n",
       "    </tr>\n",
       "    <tr>\n",
       "      <th>4</th>\n",
       "      <td>01009</td>\n",
       "      <td>01</td>\n",
       "      <td>Blount</td>\n",
       "      <td>AL</td>\n",
       "      <td>Alabama</td>\n",
       "      <td>737519.0</td>\n",
       "      <td>737504.0</td>\n",
       "      <td>737497.0</td>\n",
       "      <td>737500.0</td>\n",
       "      <td>737503.0</td>\n",
       "      <td>...</td>\n",
       "      <td>True</td>\n",
       "      <td>0.0</td>\n",
       "      <td>737503.0</td>\n",
       "      <td>737503.0</td>\n",
       "      <td>True</td>\n",
       "      <td>0.0</td>\n",
       "      <td>737512.0</td>\n",
       "      <td>737512.0</td>\n",
       "      <td>True</td>\n",
       "      <td>0.0</td>\n",
       "    </tr>\n",
       "    <tr>\n",
       "      <th>5</th>\n",
       "      <td>01011</td>\n",
       "      <td>01</td>\n",
       "      <td>Bullock</td>\n",
       "      <td>AL</td>\n",
       "      <td>Alabama</td>\n",
       "      <td>737519.0</td>\n",
       "      <td>737504.0</td>\n",
       "      <td>737497.0</td>\n",
       "      <td>737500.0</td>\n",
       "      <td>737503.0</td>\n",
       "      <td>...</td>\n",
       "      <td>True</td>\n",
       "      <td>0.0</td>\n",
       "      <td>737503.0</td>\n",
       "      <td>737503.0</td>\n",
       "      <td>True</td>\n",
       "      <td>0.0</td>\n",
       "      <td>737512.0</td>\n",
       "      <td>737512.0</td>\n",
       "      <td>True</td>\n",
       "      <td>0.0</td>\n",
       "    </tr>\n",
       "    <tr>\n",
       "      <th>6</th>\n",
       "      <td>01013</td>\n",
       "      <td>01</td>\n",
       "      <td>Butler</td>\n",
       "      <td>AL</td>\n",
       "      <td>Alabama</td>\n",
       "      <td>737519.0</td>\n",
       "      <td>737504.0</td>\n",
       "      <td>737497.0</td>\n",
       "      <td>737500.0</td>\n",
       "      <td>737503.0</td>\n",
       "      <td>...</td>\n",
       "      <td>True</td>\n",
       "      <td>0.0</td>\n",
       "      <td>737503.0</td>\n",
       "      <td>737503.0</td>\n",
       "      <td>True</td>\n",
       "      <td>0.0</td>\n",
       "      <td>737512.0</td>\n",
       "      <td>737512.0</td>\n",
       "      <td>True</td>\n",
       "      <td>0.0</td>\n",
       "    </tr>\n",
       "  </tbody>\n",
       "</table>\n",
       "<p>5 rows × 45 columns</p>\n",
       "</div>"
      ],
      "text/plain": [
       "    FIPS STATEFP CountyName StateName    State  stay at home  >50 gatherings  \\\n",
       "1  01003      01    Baldwin        AL  Alabama      737519.0        737504.0   \n",
       "3  01007      01       Bibb        AL  Alabama      737519.0        737504.0   \n",
       "4  01009      01     Blount        AL  Alabama      737519.0        737504.0   \n",
       "5  01011      01    Bullock        AL  Alabama      737519.0        737504.0   \n",
       "6  01013      01     Butler        AL  Alabama      737519.0        737504.0   \n",
       "\n",
       "   >500 gatherings  public schools  restaurant dine-in  ...  \\\n",
       "1         737497.0        737500.0            737503.0  ...   \n",
       "3         737497.0        737500.0            737503.0  ...   \n",
       "4         737497.0        737500.0            737503.0  ...   \n",
       "5         737497.0        737500.0            737503.0  ...   \n",
       "6         737497.0        737500.0            737503.0  ...   \n",
       "\n",
       "   public schools same for whole state  public schools relative to state  \\\n",
       "1                                 True                               0.0   \n",
       "3                                 True                               0.0   \n",
       "4                                 True                               0.0   \n",
       "5                                 True                               0.0   \n",
       "6                                 True                               0.0   \n",
       "\n",
       "   Earliest restaurant dine-in  Latest restaurant dine-in  \\\n",
       "1                     737503.0                   737503.0   \n",
       "3                     737503.0                   737503.0   \n",
       "4                     737503.0                   737503.0   \n",
       "5                     737503.0                   737503.0   \n",
       "6                     737503.0                   737503.0   \n",
       "\n",
       "   restaurant dine-in same for whole state  \\\n",
       "1                                     True   \n",
       "3                                     True   \n",
       "4                                     True   \n",
       "5                                     True   \n",
       "6                                     True   \n",
       "\n",
       "   restaurant dine-in relative to state  Earliest entertainment/gym  \\\n",
       "1                                   0.0                    737512.0   \n",
       "3                                   0.0                    737512.0   \n",
       "4                                   0.0                    737512.0   \n",
       "5                                   0.0                    737512.0   \n",
       "6                                   0.0                    737512.0   \n",
       "\n",
       "   Latest entertainment/gym  entertainment/gym same for whole state  \\\n",
       "1                  737512.0                                    True   \n",
       "3                  737512.0                                    True   \n",
       "4                  737512.0                                    True   \n",
       "5                  737512.0                                    True   \n",
       "6                  737512.0                                    True   \n",
       "\n",
       "   entertainment/gym relative to state  \n",
       "1                                  0.0  \n",
       "3                                  0.0  \n",
       "4                                  0.0  \n",
       "5                                  0.0  \n",
       "6                                  0.0  \n",
       "\n",
       "[5 rows x 45 columns]"
      ]
     },
     "execution_count": 14,
     "metadata": {},
     "output_type": "execute_result"
    }
   ],
   "source": [
    "county_train.head()"
   ]
  },
  {
   "cell_type": "markdown",
   "metadata": {},
   "source": [
    "Ultimately, we decided to use the original order dates that were included in the counties dataset, rather than the new features showing their order date relative to the state order. As you can see below, the vast majority of counties had the same stay at home order as their state."
   ]
  },
  {
   "cell_type": "code",
   "execution_count": 15,
   "metadata": {},
   "outputs": [
    {
     "data": {
      "text/plain": [
       " 0.0     1818\n",
       "-9.0       16\n",
       "-2.0       10\n",
       "-5.0        8\n",
       "-13.0       6\n",
       "-6.0        5\n",
       "-4.0        5\n",
       "-7.0        4\n",
       "-10.0       3\n",
       "-8.0        3\n",
       "-14.0       2\n",
       "-12.0       2\n",
       "-1.5        1\n",
       " 1.5        1\n",
       "-11.0       1\n",
       "-15.0       1\n",
       "Name: stay at home relative to state, dtype: int64"
      ]
     },
     "execution_count": 15,
     "metadata": {},
     "output_type": "execute_result"
    }
   ],
   "source": [
    "county_train['stay at home relative to state'].value_counts()"
   ]
  },
  {
   "cell_type": "markdown",
   "metadata": {},
   "source": [
    "# Characterizing time series data (disease growth)"
   ]
  },
  {
   "cell_type": "markdown",
   "metadata": {},
   "source": [
    "### Simple time series model\n",
    "\n",
    "A simple way to think about the time series data would be to fit it with a simple quadratic equation of the form:\n",
    "\n",
    "$new.cases_i = \\beta_1~time_i + \\beta_2~time_i^2$\n",
    "\n",
    "Where $i$ is used to indicate a county-level observations and time is given in days since some threshold number of total cases in the county (outbreak begin).\n",
    "\n",
    "The advantage of this model, is that it characterizes the curve with just two parameters. Because the growth should begin at (0,0) there is no need for an intercept parameter. Functionally, this forces the quadratic to go through the origin.\n",
    "\n",
    "Functions to calculate this model for counties is below. It includes a plotting option as well as an option for the inclusion of an intercept."
   ]
  },
  {
   "cell_type": "code",
   "execution_count": 16,
   "metadata": {},
   "outputs": [],
   "source": [
    "#This function re-reads the dataset. We're probably not keeping the quadratic function features so I think its fine\n",
    "\n",
    "def quadratic_time_series_model_daily_cases(county, threshold=300, min_observation_days=15, plot=False, intercept=False):\n",
    "    \"\"\"\n",
    "    Function to get beta values for a quadratic time series model.\n",
    "    Use county variable to specify the FIPS code for the relevant region. \n",
    "    Threshold is a scalar for the total number of cases in a region before beginning the model.\n",
    "    Has an option to generate a basic plot when plot = True.\n",
    "    Minimum observation days sets a minimum number of days since the threshold case value was reached to calculate the model.\n",
    "    If the minimum observation days are not met, the function returns a list of nans.\n",
    "    \n",
    "    Returns a list of intercept, beta_1, and beta_2 in the model below\n",
    "    \n",
    "    daily_new_cases = beta_0 + beta_1*days_since_threshold_cases + beta_2*days_since_threshold_cases^2\n",
    "    \"\"\"\n",
    "    time_cases_df = pd.read_csv(\"time_series_covid19_confirmed_US.csv\") \n",
    "    pd.set_option('mode.chained_assignment', None)\n",
    "    ids = [\"FIPS\",\"Admin2\", \"Province_State\", \"Country_Region\"]\n",
    "    date_column_begin = 11\n",
    "\n",
    "    df = time_cases_df[ids + list(time_cases_df.columns[date_column_begin:])]\n",
    "    df = df[-df[\"FIPS\"].isna()] #drop cases with no FIPS ID\n",
    "    df = df.melt(ids).rename(columns = {\"value\" : \"cases\"})\n",
    "    date = pd.to_datetime(df[\"variable\"], format=\"%m/%d/%y\")\n",
    "    df[\"date\"] = date\n",
    "    \n",
    "    county_df = df.pivot_table(values = \"cases\", index = [ \"FIPS\", \"date\", \"Admin2\", \"Province_State\"],  aggfunc=sum).reset_index()\n",
    "    county_df = county_df[county_df[\"FIPS\"]==county]\n",
    "    \n",
    "    zero = np.array([0])\n",
    "    new_cases_array = np.concatenate([zero, np.diff(county_df[\"cases\"])])\n",
    "    county_df.loc[:,\"daily_new_cases\"] = (new_cases_array) #Error here: A value is trying to be set on a copy of a slice from a DataFrame\n",
    "    county_df = county_df[county_df[\"cases\"] >= threshold]\n",
    "    \n",
    "    if len(county_df) < min_observation_days:\n",
    "        return [np.nan, np.nan, np.nan]\n",
    "    else:    \n",
    "        county_df[\"days_since_threshold\"] = np.arange(0,len(county_df))\n",
    "        county_df[\"days_since_threshold^2\"] = county_df[\"days_since_threshold\"]**2\n",
    "\n",
    "        lm = LinearRegression(fit_intercept=intercept)\n",
    "\n",
    "        x = county_df[[\"days_since_threshold\",\"days_since_threshold^2\"]]\n",
    "        y = np.array(county_df[\"daily_new_cases\"]).reshape(-1,1)\n",
    "\n",
    "        lm.fit(x,y)\n",
    "\n",
    "        if plot == True:\n",
    "            y_hat = lm.predict(x)\n",
    "            plt.plot(county_df[\"days_since_threshold\"], (county_df[\"daily_new_cases\"]))\n",
    "            plt.plot(county_df[\"days_since_threshold\"], y_hat)\n",
    "\n",
    "            plot_title_string = county_df[\"Admin2\"].iloc[0] + \", \" + county_df[\"Province_State\"].iloc[0] + \" FIPS: \" + str(int(county_df[\"FIPS\"].iloc[0]))\n",
    "            plt.title(\"Quadratic modeling of daily cases for {}\".format(plot_title_string))\n",
    "            plt.ylabel(\"Daily new cases\")\n",
    "            plt.xlabel(\"days since {} cases\".format(threshold))\n",
    "\n",
    "        if intercept == True:\n",
    "            return [lm.intercept_[0], lm.coef_[0][0], lm.coef_[0][1]]\n",
    "        else:\n",
    "            return [0, lm.coef_[0][0], lm.coef_[0][1]]\n",
    "        \n",
    "def create_county_beta_table(threshold=300, min_observation_days=15, intercept=False):\n",
    "    time_cases_df = pd.read_csv(\"time_series_covid19_confirmed_US.csv\") \n",
    "    pd.set_option('mode.chained_assignment', None)\n",
    "    \n",
    "    ids = [\"FIPS\",\"Admin2\", \"Province_State\", \"Country_Region\"]\n",
    "    date_column_begin = 11\n",
    "    df = time_cases_df[ids + list(time_cases_df.columns[date_column_begin:])]   \n",
    "    df = df[-df[\"FIPS\"].isna()] #drop cases with no FIPS ID  \n",
    "    df = df.melt(ids).rename(columns = {\"value\" : \"cases\"})\n",
    "    date = pd.to_datetime(df[\"variable\"], format=\"%m/%d/%y\")\n",
    "    df[\"date\"] = date    \n",
    "    df = df.pivot_table(values = \"cases\", index = [ \"FIPS\", \"date\", \"Admin2\", \"Province_State\"],  aggfunc=sum).reset_index()\n",
    "    \n",
    "    zero = np.array([0])  \n",
    "    k = [] \n",
    "    for county in np.unique(time_cases_df[\"FIPS\"]):    \n",
    "        county_df = df[df[\"FIPS\"]==county]   \n",
    "        new_cases_array = np.concatenate([zero, np.diff(county_df[\"cases\"])])\n",
    "        county_df.loc[:,\"daily_new_cases\"] = (new_cases_array) #Error here: A value is trying to be set on a copy of a slice from a DataFrame\n",
    "        county_df = county_df[county_df[\"cases\"] >= threshold]\n",
    "        if len(county_df) < min_observation_days:\n",
    "            k.append([np.nan, np.nan, np.nan])\n",
    "        else:\n",
    "            county_df[\"days_since_threshold\"] = np.arange(0,len(county_df))\n",
    "            county_df[\"days_since_threshold^2\"] = county_df[\"days_since_threshold\"]**2\n",
    "\n",
    "            lm = LinearRegression(fit_intercept=intercept)\n",
    "            x = county_df[[\"days_since_threshold\",\"days_since_threshold^2\"]]\n",
    "            y = np.array(county_df[\"daily_new_cases\"]).reshape(-1,1)\n",
    "            lm.fit(x,y)      \n",
    "            if intercept == True:\n",
    "                k.append([lm.intercept_[0], lm.coef_[0][0], lm.coef_[0][1] ])\n",
    "            else:\n",
    "                k.append([0, lm.coef_[0][0], lm.coef_[0][1] ])\n",
    "            \n",
    "    county_betas = pd.DataFrame(k).rename(columns = {0:\"beta0\",1:\"beta1\",2:\"beta2\"})\n",
    "    county_betas.index = np.unique(time_cases_df[\"FIPS\"])\n",
    "    \n",
    "    return county_betas\n",
    "\n"
   ]
  },
  {
   "cell_type": "code",
   "execution_count": 17,
   "metadata": {},
   "outputs": [
    {
     "data": {
      "image/png": "[encoded data removed]",
      "text/plain": [
       "<Figure size 432x288 with 1 Axes>"
      ]
     },
     "metadata": {
      "needs_background": "light"
     },
     "output_type": "display_data"
    }
   ],
   "source": [
    "quadratic_time_series_model_daily_cases(6075, plot=True, intercept=False)\n",
    "fig.savefig(\"quadraticSF.png\")"
   ]
  },
  {
   "cell_type": "code",
   "execution_count": 18,
   "metadata": {
    "scrolled": true
   },
   "outputs": [
    {
     "data": {
      "image/png": "[encoded data removed]",
      "text/plain": [
       "<Figure size 432x288 with 1 Axes>"
      ]
     },
     "metadata": {
      "needs_background": "light"
     },
     "output_type": "display_data"
    }
   ],
   "source": [
    "quadratic_time_series_model_daily_cases(12086, plot=True, intercept=False)\n",
    "fig.savefig(\"quadraticMiami.png\")"
   ]
  },
  {
   "cell_type": "markdown",
   "metadata": {},
   "source": [
    "Now let's look at the distribution of these beta values with respect to our political features."
   ]
  },
  {
   "cell_type": "code",
   "execution_count": 19,
   "metadata": {},
   "outputs": [],
   "source": [
    "county_train[\"numeric_FIPS\"] = pd.to_numeric(county_train[\"FIPS\"])\n",
    "county_train = pd.merge(county_train, create_county_beta_table(), left_on=\"numeric_FIPS\", right_index=True)"
   ]
  },
  {
   "cell_type": "code",
   "execution_count": 20,
   "metadata": {
    "scrolled": false
   },
   "outputs": [
    {
     "data": {
      "image/png": "[encoded data removed]",
      "text/plain": [
       "<Figure size 1080x432 with 2 Axes>"
      ]
     },
     "metadata": {
      "needs_background": "light"
     },
     "output_type": "display_data"
    }
   ],
   "source": [
    "fig,ax = plt.subplots(1,2, figsize=(15,6))\n",
    "\n",
    "for trump in range(0,2):\n",
    "    county_sub = county_train[county_train[\"VotedTrump2016\"]== trump]\n",
    "    sns.distplot(county_sub[\"beta1\"].dropna(), ax=ax[0])\n",
    "    \n",
    "ax[0].legend([\"Clinton state 2016\", \"Trump state 2016\"])\n",
    "ax[0].set_title(\"Distribution of county beta 1 values\")\n",
    "\n",
    "for trump in range(0,2):\n",
    "    county_sub = county_train[county_train[\"VotedTrump2016\"]== trump]\n",
    "    sns.distplot(county_sub[\"beta2\"].dropna(), ax=ax[1])\n",
    "    \n",
    "ax[1].legend([\"Clinton county 2016\", \"Trump county 2016\"])\n",
    "ax[1].set_title(\"Distribution of county beta 2 values\")\n",
    "fig.savefig(\"betadist.png\")"
   ]
  },
  {
   "cell_type": "markdown",
   "metadata": {},
   "source": [
    "Unfortunately, it looks like the quadratic model doesn't really show much variance. States with large outbreaks have higher much higher $\\beta_1$ and $\\beta_2$ values in absolute terms, but both parameters primarily just serve to characterize outbreak size in a county."
   ]
  },
  {
   "cell_type": "markdown",
   "metadata": {},
   "source": [
    "## Estimating the Effective Reproductive Number (R)\n",
    "\n",
    "The issue with the quadratic model is that it really just shows the intensity of the outbreaks, not the true rate of transmission. This is because it has the incorrect functional form. Disease outbreaks should be modeled as exponentials. Epidimiologists use the Reproductive Number $R$ to describe disease outbreaks.\n",
    "\n",
    "I'm going to now build a function to produce a simple estimate of the Effective Reproductive Number $R$ so that we can use it as a parameter in our models. This should better characterize the multipication of the disease irrespective of how large the outbreak is any given region. \n",
    "\n",
    "More information here:\n",
    "\n",
    "https://en.wikipedia.org/wiki/Basic_reproduction_number\n",
    "\n",
    "***\n",
    "\n",
    "**Equations from wikipedia:**\n",
    "\n",
    "$R=e^{K\\tau}$\n",
    "\n",
    "$K = \\cfrac{d}{dt} ln(N(t))$\n",
    "\n",
    "$\\tau = \\text{the serial interval}$\n",
    "\n",
    "$N(t) = \\text{an exponential time series for the number of cases over time (t). Here time is denoted in days.}$\n",
    "\n",
    "\n",
    "***\n",
    "\n",
    "**My own math for these calculations:**\n",
    "\n",
    "The time series can be modeled by exponential growth in the equation below:\n",
    "\n",
    "$N(t) = e^{kt}$\n",
    "\n",
    "Now we use algebra and calculus to solve for $K$. Note that capital $K $ and lower-case $k$ are different variables here that are shown to be equal.\n",
    "\n",
    "$ln(N(t)) = ln(e^{kt})$\n",
    "\n",
    "\n",
    "$ln(N(t)) = kt*ln(e)$\n",
    "\n",
    "$ln(N(t)) = kt$\n",
    "\n",
    "$\\frac{d}{dt}ln(N(t)) = k$\n",
    "\n",
    "$R=e^{k\\tau}$\n",
    "\n",
    "***\n",
    "Let's start by estimating  $R$ based off only the last 3 weeks (21 days). The reasoning for this is that a variety of factors related to behavioral and political intervention should have a differential effect on $R$. In the early stages of this outbreak, we might expect less consistent efforts.\n",
    "\n",
    "Note that $R$ estimations also requre a serial interval $\\tau$ that indicates how many days it take for each person to spread the disease. I'm estimating that it takes 7 days in the function below, based on media reports."
   ]
  },
  {
   "cell_type": "code",
   "execution_count": 21,
   "metadata": {},
   "outputs": [],
   "source": [
    "def calculate_R(state_or_FIPS, start_date=67, end_date=88, serial_interval = 7, min_obs=15):\n",
    "    \"\"\"\n",
    "    calculates R value using either State names (must be strings) or FIPS codes (must be numeric). \n",
    "    Altetantively, input a Pandas Series object of state strings or FIPS codes.\n",
    "    \n",
    "    Specify time series start date and end date over the period day 0 to day 88\n",
    "    \n",
    "    Serial interval is the time lag (in days) for the spread of the disease\n",
    "    \n",
    "    min obs is a minimum number of observed case reporting days for each instance\n",
    "    \n",
    "    Returns the basic reproductive number R, and the associated K\n",
    "    \n",
    "    LaTeX FORMULAS\n",
    "    \n",
    "    $R_0=e^{K~\\tau}$\n",
    "\n",
    "    $K = \\cfrac{d~ ln(N(t))}{dt}$\n",
    "\n",
    "    $\\tau = \\text{the serial interval}$\n",
    "\n",
    "    $N(t) = \\text{an exponential time series for the number of cases over time (t}$\n",
    "\n",
    "    \"\"\"\n",
    "\n",
    "    pd.set_option('mode.chained_assignment', None) \n",
    "    ids = [\"FIPS\",\"Admin2\", \"Province_State\"]\n",
    "    date_column_begin = 4\n",
    "    df = time_cases_df[ids + list(time_cases_df.columns[date_column_begin:])]  \n",
    "    df[\"FIPS\"] = pd.to_numeric(df[\"FIPS\"])   \n",
    "    df = df.melt(ids).rename(columns = {\"value\" : \"cases\"})\n",
    "    date = pd.to_datetime(df[\"variable\"], format=\"%m/%d/%y\")\n",
    "    df[\"date\"] = date\n",
    "\n",
    "\n",
    "    if isinstance(state_or_FIPS, pd.Series):\n",
    "        j = []   \n",
    "        fips_table = df.pivot_table(values = \"cases\", index = [\"FIPS\", \"date\", \"Province_State\"],  aggfunc=sum).reset_index()\n",
    "                \n",
    "        for code in state_or_FIPS:\n",
    "            #print(code)\n",
    "            if isinstance(code, str):\n",
    "                county_df = df.pivot_table(values = \"cases\", index = [ \"Province_State\", \"date\"],  aggfunc=sum).reset_index()\n",
    "                county_df = county_df[county_df[\"Province_State\"] == code]\n",
    "            else:\n",
    "                county_df = fips_table[fips_table[\"FIPS\"] == code]\n",
    "                \n",
    "            zero = np.array([0])\n",
    "            new_cases_array = np.concatenate([zero, np.diff(county_df[\"cases\"])])\n",
    "            county_df.loc[:,\"daily_new_cases\"] = (new_cases_array) #Error here: A value is trying to be set on a copy of a slice from a DataFram\n",
    "            county_df = county_df.iloc[start_date:end_date+1]\n",
    "            county_df[\"days\"] = np.arange(0,len(county_df))\n",
    "            county_df = county_df[county_df[\"daily_new_cases\"] > 0]\n",
    "\n",
    "            if len(county_df) < min_obs: #an in if statement here in case there are no cases\n",
    "                j.append([np.nan,np.nan])\n",
    "            else:\n",
    "                lm = LinearRegression()\n",
    "                x = np.array(county_df[\"days\"]).reshape(-1,1)\n",
    "                y = np.log(np.array(county_df[\"daily_new_cases\"]).reshape(-1,1))\n",
    "                lm.fit(x,y)\n",
    "\n",
    "                K = lm.coef_[0]\n",
    "                R = np.exp(lm.coef_[0] * serial_interval)\n",
    "                j.append([R[0], K[0]])\n",
    "\n",
    "        values = pd.DataFrame(j).rename(columns = {0:\"R\",1:\"K\"})\n",
    "        values.index = state_or_FIPS\n",
    "        return values\n",
    "\n",
    "    elif isinstance(state_or_FIPS, str):\n",
    "        county_df = df.pivot_table(values = \"cases\", index = [ \"Province_State\", \"date\"],  aggfunc=sum).reset_index()\n",
    "        county_df = county_df[county_df[\"Province_State\"] == state_or_FIPS]\n",
    "    else:\n",
    "        county_df = df.pivot_table(values = \"cases\", index = [\"FIPS\", \"date\", \"Admin2\", \"Province_State\"],  aggfunc=sum).reset_index()\n",
    "        county_df = county_df[county_df[\"FIPS\"] == state_or_FIPS]\n",
    "\n",
    "    zero = np.array([0])\n",
    "    new_cases_array = np.concatenate([zero, np.diff(county_df[\"cases\"])])\n",
    "    county_df.loc[:,\"daily_new_cases\"] = (new_cases_array) #Error here: A value is trying to be set on a copy of a slice from a DataFrame\n",
    "\n",
    "    county_df = county_df.iloc[start_date:end_date+1]\n",
    "    county_df[\"days\"] = np.arange(0,len(county_df))\n",
    "    county_df = county_df[county_df[\"daily_new_cases\"] > 0]\n",
    "    \n",
    "    if len(county_df) < min_obs:\n",
    "        return [np.nan, np.nan]\n",
    "    else:\n",
    "        lm = LinearRegression()\n",
    "        x = np.array(county_df[\"days\"]).reshape(-1,1)\n",
    "        y = np.log(np.array(county_df[\"daily_new_cases\"]).reshape(-1,1))\n",
    "        lm.fit(x,y)\n",
    "\n",
    "        K = lm.coef_[0]\n",
    "        R = np.exp(lm.coef_[0] * serial_interval)  \n",
    "        print(\"R,K for\" ,state_or_FIPS)\n",
    "        return R[0], K[0]"
   ]
  },
  {
   "cell_type": "markdown",
   "metadata": {},
   "source": [
    "Below, are some examples of how to use this function:"
   ]
  },
  {
   "cell_type": "code",
   "execution_count": 22,
   "metadata": {},
   "outputs": [
    {
     "name": "stdout",
     "output_type": "stream",
     "text": [
      "R,K for California\n"
     ]
    },
    {
     "data": {
      "text/plain": [
       "(1.0405417478066727, 0.005677355554090062)"
      ]
     },
     "execution_count": 22,
     "metadata": {},
     "output_type": "execute_result"
    }
   ],
   "source": [
    "calculate_R(\"California\") #This function can estiamte R at the state level as well"
   ]
  },
  {
   "cell_type": "code",
   "execution_count": 23,
   "metadata": {},
   "outputs": [
    {
     "name": "stdout",
     "output_type": "stream",
     "text": [
      "R,K for 6001\n"
     ]
    },
    {
     "data": {
      "text/plain": [
       "(1.1727195571576703, 0.022760779911390708)"
      ]
     },
     "execution_count": 23,
     "metadata": {},
     "output_type": "execute_result"
    }
   ],
   "source": [
    "calculate_R(6001) # This looks at R for a numeric FIPS code"
   ]
  },
  {
   "cell_type": "code",
   "execution_count": 24,
   "metadata": {},
   "outputs": [
    {
     "data": {
      "text/html": [
       "<div>\n",
       "<style scoped>\n",
       "    .dataframe tbody tr th:only-of-type {\n",
       "        vertical-align: middle;\n",
       "    }\n",
       "\n",
       "    .dataframe tbody tr th {\n",
       "        vertical-align: top;\n",
       "    }\n",
       "\n",
       "    .dataframe thead th {\n",
       "        text-align: right;\n",
       "    }\n",
       "</style>\n",
       "<table border=\"1\" class=\"dataframe\">\n",
       "  <thead>\n",
       "    <tr style=\"text-align: right;\">\n",
       "      <th></th>\n",
       "      <th>R</th>\n",
       "      <th>K</th>\n",
       "    </tr>\n",
       "  </thead>\n",
       "  <tbody>\n",
       "    <tr>\n",
       "      <th>Alabama</th>\n",
       "      <td>1.310210</td>\n",
       "      <td>0.038598</td>\n",
       "    </tr>\n",
       "    <tr>\n",
       "      <th>Alaska</th>\n",
       "      <td>0.815749</td>\n",
       "      <td>-0.029093</td>\n",
       "    </tr>\n",
       "    <tr>\n",
       "      <th>American Samoa</th>\n",
       "      <td>NaN</td>\n",
       "      <td>NaN</td>\n",
       "    </tr>\n",
       "    <tr>\n",
       "      <th>Arizona</th>\n",
       "      <td>0.990022</td>\n",
       "      <td>-0.001433</td>\n",
       "    </tr>\n",
       "    <tr>\n",
       "      <th>Arkansas</th>\n",
       "      <td>1.232434</td>\n",
       "      <td>0.029856</td>\n",
       "    </tr>\n",
       "    <tr>\n",
       "      <th>California</th>\n",
       "      <td>1.040542</td>\n",
       "      <td>0.005677</td>\n",
       "    </tr>\n",
       "    <tr>\n",
       "      <th>Colorado</th>\n",
       "      <td>1.239412</td>\n",
       "      <td>0.030662</td>\n",
       "    </tr>\n",
       "    <tr>\n",
       "      <th>Connecticut</th>\n",
       "      <td>1.295923</td>\n",
       "      <td>0.037032</td>\n",
       "    </tr>\n",
       "    <tr>\n",
       "      <th>Delaware</th>\n",
       "      <td>1.807076</td>\n",
       "      <td>0.084530</td>\n",
       "    </tr>\n",
       "    <tr>\n",
       "      <th>Diamond Princess</th>\n",
       "      <td>NaN</td>\n",
       "      <td>NaN</td>\n",
       "    </tr>\n",
       "  </tbody>\n",
       "</table>\n",
       "</div>"
      ],
      "text/plain": [
       "                         R         K\n",
       "Alabama           1.310210  0.038598\n",
       "Alaska            0.815749 -0.029093\n",
       "American Samoa         NaN       NaN\n",
       "Arizona           0.990022 -0.001433\n",
       "Arkansas          1.232434  0.029856\n",
       "California        1.040542  0.005677\n",
       "Colorado          1.239412  0.030662\n",
       "Connecticut       1.295923  0.037032\n",
       "Delaware          1.807076  0.084530\n",
       "Diamond Princess       NaN       NaN"
      ]
     },
     "execution_count": 24,
     "metadata": {},
     "output_type": "execute_result"
    }
   ],
   "source": [
    "states = pd.Series(np.unique(time_cases_df[\"Province_State\"])) # Just for fun we can see R estimation for every state!\n",
    "Rs = calculate_R(states)\n",
    "Rs.head(10)"
   ]
  },
  {
   "cell_type": "markdown",
   "metadata": {},
   "source": [
    "These Rs (and Ks) are for the last three weeks of the outbreak per the default parameters of the function. We could similarly estimate $R$ over a different time period using optional parameters of the same functions. "
   ]
  },
  {
   "cell_type": "markdown",
   "metadata": {},
   "source": [
    "### Merging R estimations"
   ]
  },
  {
   "cell_type": "code",
   "execution_count": 25,
   "metadata": {},
   "outputs": [],
   "source": [
    "##County Train Merge\n",
    "R_df = calculate_R(county_train[\"numeric_FIPS\"])[\"R\"].rename(\"R_last_3_weeks\")\n",
    "R_df = pd.DataFrame(R_df)\n",
    "R_df[\"R_last_6_weeks\"] = calculate_R(county_train[\"numeric_FIPS\"], start_date = 46 )[\"R\"]\n",
    "\n",
    "county_train = pd.merge(county_train, R_df, left_on = \"numeric_FIPS\", right_index=True)"
   ]
  },
  {
   "cell_type": "markdown",
   "metadata": {},
   "source": [
    "Now, let's examine if these R values can tell us anything about a simple political binary variable"
   ]
  },
  {
   "cell_type": "code",
   "execution_count": 26,
   "metadata": {
    "scrolled": false
   },
   "outputs": [
    {
     "data": {
      "image/png": "[encoded data removed]",
      "text/plain": [
       "<Figure size 1080x432 with 2 Axes>"
      ]
     },
     "metadata": {
      "needs_background": "light"
     },
     "output_type": "display_data"
    }
   ],
   "source": [
    "fig,ax = plt.subplots(1,2, figsize=(15,6))\n",
    "\n",
    "for trump in range(0,2):\n",
    "    county_sub = county_train[county_train[\"VotedTrump2016\"]== trump]\n",
    "    sns.distplot(county_sub[\"R_last_3_weeks\"].dropna(), ax=ax[0])\n",
    "ax[0].legend([\"Clinton county 2016\", \"Trump county 2016\"])\n",
    "\n",
    "ax[0].set_title(\"Distribution of county R values past 3 weeks\")\n",
    "\n",
    "\n",
    "for trump in range(0,2):\n",
    "    county_sub = county_train[county_train[\"VotedTrump2016\"]== trump]\n",
    "    sns.distplot(county_sub[\"R_last_6_weeks\"].dropna(), ax=ax[1])\n",
    "ax[1].legend([\"Clinton county 2016\", \"Trump county 2016\"])\n",
    "\n",
    "ax[1].set_title(\"Distribution of county R values past 6 weeks\")\n",
    "fig.savefig(\"Rdist.png\")"
   ]
  },
  {
   "cell_type": "markdown",
   "metadata": {},
   "source": [
    "Interestingly, the distribution of R value from the last 3 weeks are very similar. When looking at R over the last 6 weeks however, we get a very different distribution. This suggests that we may want to look at R over other time periods."
   ]
  },
  {
   "cell_type": "code",
   "execution_count": 44,
   "metadata": {},
   "outputs": [
    {
     "data": {
      "text/plain": [
       "<matplotlib.collections.PathCollection at 0x1a2a73d780>"
      ]
     },
     "execution_count": 44,
     "metadata": {},
     "output_type": "execute_result"
    },
    {
     "data": {
      "image/png": "[encoded data removed]",
      "text/plain": [
       "<Figure size 720x1008 with 1 Axes>"
      ]
     },
     "metadata": {
      "needs_background": "light"
     },
     "output_type": "display_data"
    }
   ],
   "source": [
    "#county_train[\"workplaces\"]\n",
    "#county_train[\"VotedTrump2016Cont\"]\n",
    "\n",
    "fig, ax = plt.subplots(1,figsize=(10,14))\n",
    "\n",
    "ax.scatter(county_train[\"VotedTrump2016Cont\"],county_train[\"workplaces\"])"
   ]
  },
  {
   "cell_type": "code",
   "execution_count": 45,
   "metadata": {},
   "outputs": [
    {
     "data": {
      "text/plain": [
       "<matplotlib.axes._subplots.AxesSubplot at 0x1a2a6db908>"
      ]
     },
     "execution_count": 45,
     "metadata": {},
     "output_type": "execute_result"
    },
    {
     "data": {
      "image/png": "[encoded data removed]",
      "text/plain": [
       "<Figure size 432x288 with 1 Axes>"
      ]
     },
     "metadata": {
      "needs_background": "light"
     },
     "output_type": "display_data"
    }
   ],
   "source": [
    "sns.distplot(county_train[\"VotedTrump2016Cont\"])"
   ]
  },
  {
   "cell_type": "code",
   "execution_count": 52,
   "metadata": {},
   "outputs": [],
   "source": [
    "counties_df = pd.read_csv(\"abridged_couties.csv\")"
   ]
  },
  {
   "cell_type": "code",
   "execution_count": 54,
   "metadata": {},
   "outputs": [
    {
     "data": {
      "text/plain": [
       "<matplotlib.axes._subplots.AxesSubplot at 0x1a2bfb1f28>"
      ]
     },
     "execution_count": 54,
     "metadata": {},
     "output_type": "execute_result"
    },
    {
     "data": {
      "image/png": "[encoded data removed]",
      "text/plain": [
       "<Figure size 432x288 with 1 Axes>"
      ]
     },
     "metadata": {
      "needs_background": "light"
     },
     "output_type": "display_data"
    }
   ],
   "source": [
    "sns.distplot(counties_df[\"dem_to_rep_ratio\"].dropna())"
   ]
  },
  {
   "cell_type": "markdown",
   "metadata": {},
   "source": [
    "# Process Data\n",
    "\n",
    "The following functions process the data and create the X and y arrays."
   ]
  },
  {
   "cell_type": "code",
   "execution_count": 27,
   "metadata": {},
   "outputs": [],
   "source": [
    "def process_data(df):\n",
    "    \"\"\"\n",
    "    Input: df (county or state-level df), state=True if state-level data, False if county-level data\n",
    "    Returns: processed dataframe with all features\n",
    "    \"\"\"\n",
    "    pd.set_option('mode.chained_assignment', None) #this is to make that slice error go away\n",
    "    orders_columns = ['stay at home', '>50 gatherings',\n",
    "                          '>500 gatherings', 'public schools', 'restaurant dine-in',\n",
    "                          'entertainment/gym']\n",
    "    df = add_state_orders_features_to_df(df, orders_columns)\n",
    "    df[\"numeric_FIPS\"] = pd.to_numeric(df[\"FIPS\"])\n",
    "        \n",
    "    R_df = calculate_R(df[\"numeric_FIPS\"])[\"R\"].rename(\"R_last_3_weeks\")\n",
    "    R_df = pd.DataFrame(R_df)\n",
    "    R_df[\"R_last_6_weeks\"] = calculate_R(df[\"numeric_FIPS\"], start_date = 46 )[\"R\"]\n",
    "\n",
    "    return pd.merge(df, R_df, left_on = \"numeric_FIPS\", right_index=True)\n",
    "    \n",
    "def select_features(df, x_columns, continuous_y=True):\n",
    "    \"\"\"\n",
    "    Input: \n",
    "    Dataframe\n",
    "    x_columns = list of strings of column names\n",
    "    Continuous = True if using the continous Y variable, False if using binary\n",
    "    Output: Y-variable array\n",
    "    Note: this only works for county-level data\n",
    "    \"\"\"\n",
    "    X = df[x_columns]\n",
    "    X = X.apply(lambda x: x.fillna(x.mean()),axis=0) #impute mean for NA columns\n",
    "    X = X[x_columns].to_numpy()\n",
    "\n",
    "    if continuous_y == True:\n",
    "        y = df['VotedTrump2016Cont'].to_numpy()\n",
    "    else: \n",
    "        y = df['VotedTrump2016'].to_numpy() #Binary y variable for logistic regression\n",
    "\n",
    "    return X, y"
   ]
  },
  {
   "cell_type": "code",
   "execution_count": 28,
   "metadata": {},
   "outputs": [],
   "source": [
    "y_cont_train = county_train['PresElectCont'].to_numpy() #Continuous y variable for linear regression\n",
    "\n",
    "x_columns = ['grocery', 'parks', 'residential', 'retail', 'transit', 'workplaces',  #Mobility\n",
    "             'stay at home', '>50 gatherings', '>500 gatherings', 'public schools',\n",
    "             'restaurant dine-in', 'entertainment/gym',\n",
    "             'R_last_3_weeks', 'R_last_6_weeks' #R\n",
    "             ]\n",
    "\n",
    "X_train, y_cont_train_2016 = select_features(county_train, x_columns, continuous_y = True)\n",
    "y_bin_train = select_features(county_train, x_columns, continuous_y = False)[1]"
   ]
  },
  {
   "cell_type": "code",
   "execution_count": 29,
   "metadata": {},
   "outputs": [],
   "source": [
    "from sklearn.linear_model import LinearRegression\n",
    "from sklearn.linear_model import LogisticRegressionCV\n",
    "from sklearn.model_selection import cross_val_score\n",
    "from sklearn import tree\n",
    "from sklearn import ensemble\n",
    "\n",
    "def rmse(y, yhat):\n",
    "    return np.sqrt(np.mean((y - yhat)**2))\n",
    "\n",
    "def rmse_score(model, X, y):\n",
    "    return np.sqrt(np.mean((y - model.predict(X)) ** 2))"
   ]
  },
  {
   "cell_type": "markdown",
   "metadata": {},
   "source": [
    "#### Linear Regression Model with 2000 - 2016 Election Results"
   ]
  },
  {
   "cell_type": "code",
   "execution_count": 30,
   "metadata": {},
   "outputs": [
    {
     "name": "stdout",
     "output_type": "stream",
     "text": [
      "Mean of y 0.36882754702374676\n",
      "Std of y 0.4582294471965079\n",
      "\n",
      "\n",
      "RMSE: 0.40661909153129505\n",
      "RMSE when guessing the mean y: 0.4582294471965079\n",
      "R^2: 0.21257437863436712\n",
      "CV Score: 0.4159836358703444\n"
     ]
    }
   ],
   "source": [
    "lin_model = LinearRegression(fit_intercept=True)\n",
    "lin_model.fit(X_train, y_cont_train)\n",
    "y_cont_train_pred = lin_model.predict(X_train)\n",
    "\n",
    "print(\"Mean of y\", y_cont_train.mean())\n",
    "print(\"Std of y\", y_cont_train.std())\n",
    "print(\"\\n\")\n",
    "print(\"RMSE:\", rmse(y_cont_train,y_cont_train_pred))\n",
    "print(\"RMSE when guessing the mean y:\", rmse(y_cont_train,y_cont_train.mean()))\n",
    "print(\"R^2:\", lin_model.score(X_train, y_cont_train))\n",
    "print(\"CV Score:\", cross_val_score(lin_model, X_train, y_cont_train, cv=25, scoring=rmse_score).mean())"
   ]
  },
  {
   "cell_type": "markdown",
   "metadata": {},
   "source": [
    "#### Linear Regression Model with only 2016 Election Results"
   ]
  },
  {
   "cell_type": "code",
   "execution_count": 31,
   "metadata": {
    "scrolled": true
   },
   "outputs": [
    {
     "name": "stdout",
     "output_type": "stream",
     "text": [
      "Mean of y 0.47251406208821845\n",
      "Std of y 0.4702453175586298\n",
      "\n",
      "\n",
      "RMSE: 0.4233555865816982\n",
      "RMSE when guessing the mean y: 0.4702453175586298\n",
      "R^2: 0.18948392884505227\n",
      "CV Score: 0.4052942315621312\n"
     ]
    }
   ],
   "source": [
    "lin_model_2016 = LinearRegression(fit_intercept=True)\n",
    "lin_model_2016.fit(X_train, y_cont_train_2016)\n",
    "y_cont_train_pred_2016 = lin_model.predict(X_train)\n",
    "\n",
    "print(\"Mean of y\", y_cont_train_2016.mean())\n",
    "print(\"Std of y\", y_cont_train_2016.std())\n",
    "print(\"\\n\")\n",
    "print(\"RMSE:\", rmse(y_cont_train_2016, y_cont_train_pred_2016))\n",
    "print(\"RMSE when guessing the mean y:\", rmse(y_cont_train_2016, y_cont_train_2016.mean()))\n",
    "print(\"R^2:\", lin_model.score(X_train, y_cont_train_2016))\n",
    "print(\"CV Score:\", cross_val_score(lin_model_2016, X_train, y_cont_train_2016, cv=25, scoring=rmse_score).mean())"
   ]
  },
  {
   "cell_type": "markdown",
   "metadata": {},
   "source": [
    "#### Logistic Regression Model"
   ]
  },
  {
   "cell_type": "code",
   "execution_count": 32,
   "metadata": {},
   "outputs": [
    {
     "name": "stdout",
     "output_type": "stream",
     "text": [
      "Mean of y 0.8409616273693944\n",
      "Std of y 0.36571186562868624\n",
      "\n",
      "\n",
      "CV Score: 0.8409616273693944\n"
     ]
    }
   ],
   "source": [
    "log_model = LogisticRegressionCV(cv=10, fit_intercept=True, solver='liblinear')\n",
    "log_model.fit(X_train, y_bin_train)\n",
    "y_bin_train_pred = log_model.predict(X_train)\n",
    "\n",
    "print(\"Mean of y\", y_bin_train.mean())\n",
    "print(\"Std of y\", y_bin_train.std())\n",
    "print(\"\\n\")\n",
    "print(\"CV Score:\", log_model.score(X_train, y_bin_train))"
   ]
  },
  {
   "cell_type": "markdown",
   "metadata": {},
   "source": [
    "#### Decision Tree Model"
   ]
  },
  {
   "cell_type": "code",
   "execution_count": 33,
   "metadata": {},
   "outputs": [
    {
     "data": {
      "text/plain": [
       "0.7695145368492226"
      ]
     },
     "execution_count": 33,
     "metadata": {},
     "output_type": "execute_result"
    }
   ],
   "source": [
    "decision_tree_model = tree.DecisionTreeClassifier(random_state=42)\n",
    "decision_tree_model.fit(X_train, y_bin_train)\n",
    "cross_val_score(decision_tree_model, X_train, y_bin_train, cv=25, scoring='accuracy').mean()"
   ]
  },
  {
   "cell_type": "markdown",
   "metadata": {},
   "source": [
    "#### Random Forest Model"
   ]
  },
  {
   "cell_type": "code",
   "execution_count": 34,
   "metadata": {},
   "outputs": [
    {
     "data": {
      "text/plain": [
       "0.8457336037863421"
      ]
     },
     "execution_count": 34,
     "metadata": {},
     "output_type": "execute_result"
    }
   ],
   "source": [
    "random_forest_model = ensemble.RandomForestClassifier(20, random_state=42)\n",
    "random_forest_model.fit(X_train, y_bin_train)\n",
    "cross_val_score(random_forest_model, X_train, y_bin_train, cv=25, scoring='accuracy').mean()"
   ]
  },
  {
   "cell_type": "markdown",
   "metadata": {},
   "source": [
    "# Process Data & Test the Model\n",
    "\n",
    "Now that we have decided what features to use, we'll look at the test data."
   ]
  },
  {
   "cell_type": "code",
   "execution_count": 35,
   "metadata": {},
   "outputs": [],
   "source": [
    "x_columns = ['grocery', 'parks', 'residential', 'retail', 'transit', 'workplaces',  #Mobility\n",
    "             'stay at home', '>50 gatherings', '>500 gatherings', 'public schools',\n",
    "             'restaurant dine-in', 'entertainment/gym',\n",
    "             'R_last_3_weeks', 'R_last_6_weeks' #R\n",
    "            ]\n",
    "\n",
    "county_test = process_data(county_test)\n",
    "\n",
    "#County Level Test data\n",
    "y_test_cont = county_test['PresElectCont'].to_numpy()\n",
    "X_test, y_test_cont_2016 = select_features(county_test, x_columns, continuous_y=True)\n",
    "y_test_bin = select_features(county_test, x_columns, continuous_y=False)[1]"
   ]
  },
  {
   "cell_type": "markdown",
   "metadata": {},
   "source": [
    "#### Linear Model Testing Accuracy"
   ]
  },
  {
   "cell_type": "code",
   "execution_count": 36,
   "metadata": {},
   "outputs": [
    {
     "name": "stdout",
     "output_type": "stream",
     "text": [
      "Linear Model (2000-2016): 0.3945879203271715\n",
      "Linear Model (2016): 0.3985933518114251\n"
     ]
    }
   ],
   "source": [
    "print('Linear Model (2000-2016):', rmse_score(lin_model, X_test, y_test_cont))\n",
    "print('Linear Model (2016):', rmse_score(lin_model_2016, X_test, y_test_cont_2016))"
   ]
  },
  {
   "cell_type": "markdown",
   "metadata": {},
   "source": [
    "#### Binary Model Testing Accuracy"
   ]
  },
  {
   "cell_type": "code",
   "execution_count": 37,
   "metadata": {
    "scrolled": true
   },
   "outputs": [
    {
     "name": "stdout",
     "output_type": "stream",
     "text": [
      "Logistic Regression Test Accuracy: 0.8394833948339483\n",
      "Decision Tree Test Accuracy: 0.8136531365313653\n",
      "Random Forest Test Accuracy: 0.8837638376383764\n"
     ]
    }
   ],
   "source": [
    "print('Logistic Regression Test Accuracy:', log_model.score(X_test, y_test_bin))\n",
    "print('Decision Tree Test Accuracy:', decision_tree_model.score(X_test, y_test_bin))\n",
    "print('Random Forest Test Accuracy:', random_forest_model.score(X_test, y_test_bin))"
   ]
  },
  {
   "cell_type": "markdown",
   "metadata": {},
   "source": [
    "# Plotting Predictions\n",
    "\n",
    "Now that we have tested our data, let's look at how model sees America."
   ]
  },
  {
   "cell_type": "code",
   "execution_count": 38,
   "metadata": {},
   "outputs": [
    {
     "ename": "KeyboardInterrupt",
     "evalue": "",
     "output_type": "error",
     "traceback": [
      "\u001b[0;31m---------------------------------------------------------------------------\u001b[0m",
      "\u001b[0;31mKeyboardInterrupt\u001b[0m                         Traceback (most recent call last)",
      "\u001b[0;32m<ipython-input-38-33d4dc46ac6e>\u001b[0m in \u001b[0;36m<module>\u001b[0;34m\u001b[0m\n\u001b[0;32m----> 1\u001b[0;31m \u001b[0mpredict_df\u001b[0m \u001b[0;34m=\u001b[0m \u001b[0mprocess_data\u001b[0m\u001b[0;34m(\u001b[0m\u001b[0mcounty_merged_df\u001b[0m\u001b[0;34m)\u001b[0m\u001b[0;34m\u001b[0m\u001b[0;34m\u001b[0m\u001b[0m\n\u001b[0m\u001b[1;32m      2\u001b[0m \u001b[0mpredict_df\u001b[0m\u001b[0;34m.\u001b[0m\u001b[0mloc\u001b[0m\u001b[0;34m[\u001b[0m\u001b[0;34m:\u001b[0m\u001b[0;34m,\u001b[0m \u001b[0mx_columns\u001b[0m\u001b[0;34m]\u001b[0m \u001b[0;34m=\u001b[0m \u001b[0mpredict_df\u001b[0m\u001b[0;34m.\u001b[0m\u001b[0mloc\u001b[0m\u001b[0;34m[\u001b[0m\u001b[0;34m:\u001b[0m\u001b[0;34m,\u001b[0m \u001b[0mx_columns\u001b[0m\u001b[0;34m]\u001b[0m\u001b[0;34m.\u001b[0m\u001b[0mapply\u001b[0m\u001b[0;34m(\u001b[0m\u001b[0;32mlambda\u001b[0m \u001b[0mx\u001b[0m\u001b[0;34m:\u001b[0m \u001b[0mx\u001b[0m\u001b[0;34m.\u001b[0m\u001b[0mfillna\u001b[0m\u001b[0;34m(\u001b[0m\u001b[0mx\u001b[0m\u001b[0;34m.\u001b[0m\u001b[0mmean\u001b[0m\u001b[0;34m(\u001b[0m\u001b[0;34m)\u001b[0m\u001b[0;34m)\u001b[0m\u001b[0;34m,\u001b[0m\u001b[0maxis\u001b[0m\u001b[0;34m=\u001b[0m\u001b[0;36m0\u001b[0m\u001b[0;34m)\u001b[0m\u001b[0;34m\u001b[0m\u001b[0;34m\u001b[0m\u001b[0m\n\u001b[1;32m      3\u001b[0m \u001b[0mpredict_df\u001b[0m\u001b[0;34m[\u001b[0m\u001b[0;34m'Lin_Prediction'\u001b[0m\u001b[0;34m]\u001b[0m \u001b[0;34m=\u001b[0m \u001b[0mlin_model\u001b[0m\u001b[0;34m.\u001b[0m\u001b[0mpredict\u001b[0m\u001b[0;34m(\u001b[0m\u001b[0mpredict_df\u001b[0m\u001b[0;34m.\u001b[0m\u001b[0mloc\u001b[0m\u001b[0;34m[\u001b[0m\u001b[0;34m:\u001b[0m\u001b[0;34m,\u001b[0m \u001b[0mx_columns\u001b[0m\u001b[0;34m]\u001b[0m\u001b[0;34m)\u001b[0m\u001b[0;34m\u001b[0m\u001b[0;34m\u001b[0m\u001b[0m\n\u001b[1;32m      4\u001b[0m \u001b[0mpredict_df\u001b[0m\u001b[0;34m[\u001b[0m\u001b[0;34m'Lin_2016_Prediction'\u001b[0m\u001b[0;34m]\u001b[0m \u001b[0;34m=\u001b[0m \u001b[0mlin_model_2016\u001b[0m\u001b[0;34m.\u001b[0m\u001b[0mpredict\u001b[0m\u001b[0;34m(\u001b[0m\u001b[0mpredict_df\u001b[0m\u001b[0;34m.\u001b[0m\u001b[0mloc\u001b[0m\u001b[0;34m[\u001b[0m\u001b[0;34m:\u001b[0m\u001b[0;34m,\u001b[0m \u001b[0mx_columns\u001b[0m\u001b[0;34m]\u001b[0m\u001b[0;34m)\u001b[0m\u001b[0;34m\u001b[0m\u001b[0;34m\u001b[0m\u001b[0m\n\u001b[1;32m      5\u001b[0m \u001b[0mpredict_df\u001b[0m\u001b[0;34m[\u001b[0m\u001b[0;34m'Log_Prediction'\u001b[0m\u001b[0;34m]\u001b[0m \u001b[0;34m=\u001b[0m \u001b[0mlog_model\u001b[0m\u001b[0;34m.\u001b[0m\u001b[0mpredict\u001b[0m\u001b[0;34m(\u001b[0m\u001b[0mpredict_df\u001b[0m\u001b[0;34m.\u001b[0m\u001b[0mloc\u001b[0m\u001b[0;34m[\u001b[0m\u001b[0;34m:\u001b[0m\u001b[0;34m,\u001b[0m \u001b[0mx_columns\u001b[0m\u001b[0;34m]\u001b[0m\u001b[0;34m)\u001b[0m\u001b[0;34m\u001b[0m\u001b[0;34m\u001b[0m\u001b[0m\n",
      "\u001b[0;32m<ipython-input-27-d90d9e1cd2c4>\u001b[0m in \u001b[0;36mprocess_data\u001b[0;34m(df)\u001b[0m\n\u001b[1;32m     13\u001b[0m     \u001b[0mR_df\u001b[0m \u001b[0;34m=\u001b[0m \u001b[0mcalculate_R\u001b[0m\u001b[0;34m(\u001b[0m\u001b[0mdf\u001b[0m\u001b[0;34m[\u001b[0m\u001b[0;34m\"numeric_FIPS\"\u001b[0m\u001b[0;34m]\u001b[0m\u001b[0;34m)\u001b[0m\u001b[0;34m[\u001b[0m\u001b[0;34m\"R\"\u001b[0m\u001b[0;34m]\u001b[0m\u001b[0;34m.\u001b[0m\u001b[0mrename\u001b[0m\u001b[0;34m(\u001b[0m\u001b[0;34m\"R_last_3_weeks\"\u001b[0m\u001b[0;34m)\u001b[0m\u001b[0;34m\u001b[0m\u001b[0;34m\u001b[0m\u001b[0m\n\u001b[1;32m     14\u001b[0m     \u001b[0mR_df\u001b[0m \u001b[0;34m=\u001b[0m \u001b[0mpd\u001b[0m\u001b[0;34m.\u001b[0m\u001b[0mDataFrame\u001b[0m\u001b[0;34m(\u001b[0m\u001b[0mR_df\u001b[0m\u001b[0;34m)\u001b[0m\u001b[0;34m\u001b[0m\u001b[0;34m\u001b[0m\u001b[0m\n\u001b[0;32m---> 15\u001b[0;31m     \u001b[0mR_df\u001b[0m\u001b[0;34m[\u001b[0m\u001b[0;34m\"R_last_6_weeks\"\u001b[0m\u001b[0;34m]\u001b[0m \u001b[0;34m=\u001b[0m \u001b[0mcalculate_R\u001b[0m\u001b[0;34m(\u001b[0m\u001b[0mdf\u001b[0m\u001b[0;34m[\u001b[0m\u001b[0;34m\"numeric_FIPS\"\u001b[0m\u001b[0;34m]\u001b[0m\u001b[0;34m,\u001b[0m \u001b[0mstart_date\u001b[0m \u001b[0;34m=\u001b[0m \u001b[0;36m46\u001b[0m \u001b[0;34m)\u001b[0m\u001b[0;34m[\u001b[0m\u001b[0;34m\"R\"\u001b[0m\u001b[0;34m]\u001b[0m\u001b[0;34m\u001b[0m\u001b[0;34m\u001b[0m\u001b[0m\n\u001b[0m\u001b[1;32m     16\u001b[0m \u001b[0;34m\u001b[0m\u001b[0m\n\u001b[1;32m     17\u001b[0m     \u001b[0;32mreturn\u001b[0m \u001b[0mpd\u001b[0m\u001b[0;34m.\u001b[0m\u001b[0mmerge\u001b[0m\u001b[0;34m(\u001b[0m\u001b[0mdf\u001b[0m\u001b[0;34m,\u001b[0m \u001b[0mR_df\u001b[0m\u001b[0;34m,\u001b[0m \u001b[0mleft_on\u001b[0m \u001b[0;34m=\u001b[0m \u001b[0;34m\"numeric_FIPS\"\u001b[0m\u001b[0;34m,\u001b[0m \u001b[0mright_index\u001b[0m\u001b[0;34m=\u001b[0m\u001b[0;32mTrue\u001b[0m\u001b[0;34m)\u001b[0m\u001b[0;34m\u001b[0m\u001b[0;34m\u001b[0m\u001b[0m\n",
      "\u001b[0;32m<ipython-input-21-bf240bc8e289>\u001b[0m in \u001b[0;36mcalculate_R\u001b[0;34m(state_or_FIPS, start_date, end_date, serial_interval, min_obs)\u001b[0m\n\u001b[1;32m     44\u001b[0m                 \u001b[0mcounty_df\u001b[0m \u001b[0;34m=\u001b[0m \u001b[0mcounty_df\u001b[0m\u001b[0;34m[\u001b[0m\u001b[0mcounty_df\u001b[0m\u001b[0;34m[\u001b[0m\u001b[0;34m\"Province_State\"\u001b[0m\u001b[0;34m]\u001b[0m \u001b[0;34m==\u001b[0m \u001b[0mcode\u001b[0m\u001b[0;34m]\u001b[0m\u001b[0;34m\u001b[0m\u001b[0;34m\u001b[0m\u001b[0m\n\u001b[1;32m     45\u001b[0m             \u001b[0;32melse\u001b[0m\u001b[0;34m:\u001b[0m\u001b[0;34m\u001b[0m\u001b[0;34m\u001b[0m\u001b[0m\n\u001b[0;32m---> 46\u001b[0;31m                 \u001b[0mcounty_df\u001b[0m \u001b[0;34m=\u001b[0m \u001b[0mfips_table\u001b[0m\u001b[0;34m[\u001b[0m\u001b[0mfips_table\u001b[0m\u001b[0;34m[\u001b[0m\u001b[0;34m\"FIPS\"\u001b[0m\u001b[0;34m]\u001b[0m \u001b[0;34m==\u001b[0m \u001b[0mcode\u001b[0m\u001b[0;34m]\u001b[0m\u001b[0;34m\u001b[0m\u001b[0;34m\u001b[0m\u001b[0m\n\u001b[0m\u001b[1;32m     47\u001b[0m \u001b[0;34m\u001b[0m\u001b[0m\n\u001b[1;32m     48\u001b[0m             \u001b[0mzero\u001b[0m \u001b[0;34m=\u001b[0m \u001b[0mnp\u001b[0m\u001b[0;34m.\u001b[0m\u001b[0marray\u001b[0m\u001b[0;34m(\u001b[0m\u001b[0;34m[\u001b[0m\u001b[0;36m0\u001b[0m\u001b[0;34m]\u001b[0m\u001b[0;34m)\u001b[0m\u001b[0;34m\u001b[0m\u001b[0;34m\u001b[0m\u001b[0m\n",
      "\u001b[0;32m//anaconda3/lib/python3.7/site-packages/pandas/core/ops.py\u001b[0m in \u001b[0;36mwrapper\u001b[0;34m(self, other, axis)\u001b[0m\n\u001b[1;32m   1764\u001b[0m \u001b[0;34m\u001b[0m\u001b[0m\n\u001b[1;32m   1765\u001b[0m             \u001b[0;32mwith\u001b[0m \u001b[0mnp\u001b[0m\u001b[0;34m.\u001b[0m\u001b[0merrstate\u001b[0m\u001b[0;34m(\u001b[0m\u001b[0mall\u001b[0m\u001b[0;34m=\u001b[0m\u001b[0;34m'ignore'\u001b[0m\u001b[0;34m)\u001b[0m\u001b[0;34m:\u001b[0m\u001b[0;34m\u001b[0m\u001b[0;34m\u001b[0m\u001b[0m\n\u001b[0;32m-> 1766\u001b[0;31m                 \u001b[0mres\u001b[0m \u001b[0;34m=\u001b[0m \u001b[0mna_op\u001b[0m\u001b[0;34m(\u001b[0m\u001b[0mvalues\u001b[0m\u001b[0;34m,\u001b[0m \u001b[0mother\u001b[0m\u001b[0;34m)\u001b[0m\u001b[0;34m\u001b[0m\u001b[0;34m\u001b[0m\u001b[0m\n\u001b[0m\u001b[1;32m   1767\u001b[0m             \u001b[0;32mif\u001b[0m \u001b[0mis_scalar\u001b[0m\u001b[0;34m(\u001b[0m\u001b[0mres\u001b[0m\u001b[0;34m)\u001b[0m\u001b[0;34m:\u001b[0m\u001b[0;34m\u001b[0m\u001b[0;34m\u001b[0m\u001b[0m\n\u001b[1;32m   1768\u001b[0m                 raise TypeError('Could not compare {typ} type with Series'\n",
      "\u001b[0;32m//anaconda3/lib/python3.7/site-packages/pandas/core/ops.py\u001b[0m in \u001b[0;36mna_op\u001b[0;34m(x, y)\u001b[0m\n\u001b[1;32m   1647\u001b[0m             \u001b[0;32mif\u001b[0m \u001b[0mmethod\u001b[0m \u001b[0;32mis\u001b[0m \u001b[0;32mnot\u001b[0m \u001b[0;32mNone\u001b[0m\u001b[0;34m:\u001b[0m\u001b[0;34m\u001b[0m\u001b[0;34m\u001b[0m\u001b[0m\n\u001b[1;32m   1648\u001b[0m                 \u001b[0;32mwith\u001b[0m \u001b[0mnp\u001b[0m\u001b[0;34m.\u001b[0m\u001b[0merrstate\u001b[0m\u001b[0;34m(\u001b[0m\u001b[0mall\u001b[0m\u001b[0;34m=\u001b[0m\u001b[0;34m'ignore'\u001b[0m\u001b[0;34m)\u001b[0m\u001b[0;34m:\u001b[0m\u001b[0;34m\u001b[0m\u001b[0;34m\u001b[0m\u001b[0m\n\u001b[0;32m-> 1649\u001b[0;31m                     \u001b[0mresult\u001b[0m \u001b[0;34m=\u001b[0m \u001b[0mmethod\u001b[0m\u001b[0;34m(\u001b[0m\u001b[0my\u001b[0m\u001b[0;34m)\u001b[0m\u001b[0;34m\u001b[0m\u001b[0;34m\u001b[0m\u001b[0m\n\u001b[0m\u001b[1;32m   1650\u001b[0m                 \u001b[0;32mif\u001b[0m \u001b[0mresult\u001b[0m \u001b[0;32mis\u001b[0m \u001b[0mNotImplemented\u001b[0m\u001b[0;34m:\u001b[0m\u001b[0;34m\u001b[0m\u001b[0;34m\u001b[0m\u001b[0m\n\u001b[1;32m   1651\u001b[0m                     \u001b[0;32mreturn\u001b[0m \u001b[0minvalid_comparison\u001b[0m\u001b[0;34m(\u001b[0m\u001b[0mx\u001b[0m\u001b[0;34m,\u001b[0m \u001b[0my\u001b[0m\u001b[0;34m,\u001b[0m \u001b[0mop\u001b[0m\u001b[0;34m)\u001b[0m\u001b[0;34m\u001b[0m\u001b[0;34m\u001b[0m\u001b[0m\n",
      "\u001b[0;31mKeyboardInterrupt\u001b[0m: "
     ]
    }
   ],
   "source": [
    "predict_df = process_data(county_merged_df)\n",
    "predict_df.loc[:, x_columns] = predict_df.loc[:, x_columns].apply(lambda x: x.fillna(x.mean()),axis=0)\n",
    "predict_df['Lin_Prediction'] = lin_model.predict(predict_df.loc[:, x_columns])\n",
    "predict_df['Lin_2016_Prediction'] = lin_model_2016.predict(predict_df.loc[:, x_columns])\n",
    "predict_df['Log_Prediction'] = log_model.predict(predict_df.loc[:, x_columns])\n",
    "predict_df['Tree_Prediction'] = decision_tree_model.predict(predict_df.loc[:, x_columns])\n",
    "predict_df['Forest_Prediction'] = random_forest_model.predict(predict_df.loc[:, x_columns])\n",
    "\n",
    "predict_df.head()"
   ]
  },
  {
   "cell_type": "code",
   "execution_count": null,
   "metadata": {
    "scrolled": true
   },
   "outputs": [],
   "source": [
    "print('Linear Model Actual RMSE (2000-2016):', rmse(predict_df['Lin_Prediction'],  predict_df['PresElectCont']))\n",
    "print('Linear Model Actual RMSE (2016):', rmse(predict_df['Lin_2016_Prediction'],  predict_df['VotedTrump2016Cont']))\n",
    "print('Logistic Regression Actual Accuracy:', log_model.score(predict_df.loc[:, x_columns], predict_df['VotedTrump2016']))\n",
    "print('Decision Tree Actual Accuracy:', decision_tree_model.score(predict_df.loc[:, x_columns], predict_df['VotedTrump2016']))\n",
    "print('Random Forest Actual Accuracy:', random_forest_model.score(predict_df.loc[:, x_columns], predict_df['VotedTrump2016']))"
   ]
  },
  {
   "cell_type": "code",
   "execution_count": null,
   "metadata": {},
   "outputs": [],
   "source": [
    "actual_map_lin = county_shp.merge(predict_df.loc[:, ('PresElectCont','FIPS')], on='FIPS').cx[-130:-50, 20:]\n",
    "actual_map_lin_2016 = county_shp.merge(predict_df.loc[:, ('VotedTrump2016Cont','FIPS')], on='FIPS').cx[-130:-50, 20:]\n",
    "actual_map_bin = county_shp.merge(predict_df.loc[:, ('VotedTrump2016','FIPS')], on='FIPS').cx[-130:-50, 20:]"
   ]
  },
  {
   "cell_type": "code",
   "execution_count": null,
   "metadata": {
    "scrolled": false
   },
   "outputs": [],
   "source": [
    "fig, axes = plt.subplots(2, 1, figsize=(25,15), sharex=True, sharey=True)\n",
    "trump_col = mpatches.Patch(color='red',alpha = 1.0, label='Trump')\n",
    "clinton_col = mpatches.Patch(color='blue',alpha = 1.0, label='Clinton')\n",
    "\n",
    "\n",
    "predicted_map = county_shp.merge(predict_df.loc[:, ('Lin_Prediction', 'FIPS')], on='FIPS').cx[-130:-50, 20:]\n",
    "predicted_map.plot(ax=axes[0], column='Lin_Prediction', cmap='coolwarm', linewidth=0, edgecolor='white')\n",
    "actual_map_lin.plot(ax=axes[1], column='PresElectCont', cmap='coolwarm', linewidth=0, edgecolor='white')\n",
    "plt.suptitle('Linear Model (2000 - 2016)', y=1.01, size='x-large')\n",
    "plt.tight_layout();\n",
    "axes[0].set_axis_off()\n",
    "axes[1].set_axis_off()"
   ]
  },
  {
   "cell_type": "code",
   "execution_count": null,
   "metadata": {
    "scrolled": false
   },
   "outputs": [],
   "source": [
    "fig, axes = plt.subplots(2, 1, figsize=(25,15), sharex=True, sharey=True)\n",
    "\n",
    "predicted_map = county_shp.merge(predict_df.loc[:, ('Lin_2016_Prediction', 'FIPS')], on='FIPS').cx[-130:-50, 20:]\n",
    "predicted_map.plot(ax=axes[0], column='Lin_2016_Prediction', cmap='coolwarm', linewidth=0, edgecolor='white')\n",
    "actual_map_lin_2016.plot(ax=axes[1], column='VotedTrump2016Cont', cmap='coolwarm', linewidth=0, edgecolor='white')\n",
    "plt.suptitle('Linear Model (2016)', y=1.01, size='x-large')\n",
    "plt.tight_layout();\n",
    "axes[0].set_axis_off()\n",
    "axes[1].set_axis_off()\n"
   ]
  },
  {
   "cell_type": "code",
   "execution_count": null,
   "metadata": {},
   "outputs": [],
   "source": [
    "fig, axes = plt.subplots(2, 1, figsize=(25,15), sharex=True, sharey=True)\n",
    "\n",
    "predicted_map = county_shp.merge(predict_df.loc[:, ('Log_Prediction', 'FIPS')], on='FIPS').cx[-130:-50, 20:]\n",
    "predicted_map.plot(ax=axes[0], column='Log_Prediction', cmap='coolwarm', linewidth=0, edgecolor='white', vmin=0, vmax=1)\n",
    "actual_map_bin.plot(ax=axes[1], column='VotedTrump2016', cmap='coolwarm', linewidth=0, edgecolor='white')\n",
    "plt.suptitle('Logistic Model', y=1.01, size='x-large')\n",
    "plt.tight_layout();\n",
    "axes[0].set_axis_off()\n",
    "axes[1].set_axis_off()\n",
    "\n",
    "axes[0].legend(handles = [trump_col, clinton_col], loc =1,prop={'size':18})"
   ]
  },
  {
   "cell_type": "code",
   "execution_count": null,
   "metadata": {},
   "outputs": [],
   "source": [
    "fig, axes = plt.subplots(2, 1, figsize=(25,15), sharex=True, sharey=True)\n",
    "\n",
    "predicted_map = county_shp.merge(predict_df.loc[:, ('Tree_Prediction', 'FIPS')], on='FIPS').cx[-130:-50, 20:]\n",
    "predicted_map.plot(ax=axes[0], column='Tree_Prediction', cmap='coolwarm', linewidth=0, edgecolor='white')\n",
    "actual_map_bin.plot(ax=axes[1], column='VotedTrump2016', cmap='coolwarm', linewidth=0, edgecolor='white')\n",
    "plt.suptitle('Decision Tree Model', y=1.01, size='x-large')\n",
    "plt.tight_layout();\n",
    "axes[0].set_axis_off()\n",
    "axes[1].set_axis_off()\n",
    "\n",
    "axes[0].legend(handles = [trump_col, clinton_col], loc =1,prop={'size':18})"
   ]
  },
  {
   "cell_type": "code",
   "execution_count": null,
   "metadata": {
    "scrolled": false
   },
   "outputs": [],
   "source": [
    "fig, axes = plt.subplots(2, 1, figsize=(25,15), sharex=True, sharey=True)\n",
    "\n",
    "predicted_map = county_shp.merge(predict_df.loc[:, ('Forest_Prediction', 'FIPS')], on='FIPS').cx[-130:-50, 20:]\n",
    "predicted_map.plot(ax=axes[0], column='Forest_Prediction', cmap='coolwarm', linewidth=0, edgecolor='white')\n",
    "actual_map_bin.plot(ax=axes[1], column='VotedTrump2016', cmap='coolwarm', linewidth=0, edgecolor='white')\n",
    "plt.suptitle('Random Forest Model', y=1.01, size='x-large')\n",
    "\n",
    "\n",
    "plt.tight_layout();\n",
    "axes[0].set_axis_off()\n",
    "axes[1].set_axis_off()\n",
    "\n",
    "\n",
    "axes[0].legend(handles = [trump_col, clinton_col], loc =1,prop={'size':18})"
   ]
  },
  {
   "cell_type": "code",
   "execution_count": null,
   "metadata": {},
   "outputs": [],
   "source": [
    "predicted_test_counties = predicted_map[predicted_map[\"FIPS\"].isin(county_test[\"FIPS\"])]\n",
    "actual_map_bin_test_counties = actual_map_bin[actual_map_bin[\"FIPS\"].isin((county_test[\"FIPS\"]))]\n",
    "\n",
    "predicted_test_counties[\"Forest_Correct\"] = (predicted_test_counties[\"Forest_Prediction\"]==actual_map_bin_test_counties[\"VotedTrump2016\"]).astype(int)\n",
    "fig, axes = plt.subplots(1, 1, figsize=(25,15), sharex=True, sharey=True)\n",
    "\n",
    "predicted_test_counties.plot(ax=axes, column='Forest_Correct', cmap='magma', linewidth=0, edgecolor='white')\n",
    "\n",
    "axes.set_title(\"Random Forest Model: correct and incorrect classification on test counties\", size = 18)\n",
    "\n",
    "axes.set_axis_off()"
   ]
  }
 ],
 "metadata": {
  "kernelspec": {
   "display_name": "Python 3",
   "language": "python",
   "name": "python3"
  },
  "language_info": {
   "codemirror_mode": {
    "name": "ipython",
    "version": 3
   },
   "file_extension": ".py",
   "mimetype": "text/x-python",
   "name": "python",
   "nbconvert_exporter": "python",
   "pygments_lexer": "ipython3",
   "version": "3.7.3"
  }
 },
 "nbformat": 4,
 "nbformat_minor": 2
}
