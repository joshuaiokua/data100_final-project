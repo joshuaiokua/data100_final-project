{
 "cells": [
  {
   "cell_type": "markdown",
   "metadata": {},
   "source": [
    "*Josh Albano, Sharon Jan, and Luke Sherman (that's me)*\n",
    "\n",
    "*2020.5.4*"
   ]
  },
  {
   "cell_type": "code",
   "execution_count": 1,
   "metadata": {},
   "outputs": [],
   "source": [
    "import numpy as np\n",
    "import pandas as pd\n",
    "import matplotlib\n",
    "import matplotlib.pyplot as plt\n",
    "import seaborn as sns\n",
    "import datetime\n",
    "from pandas.plotting import register_matplotlib_converters\n",
    "\n",
    "from sklearn.linear_model import LinearRegression\n",
    "\n",
    "from sklearn.preprocessing import OneHotEncoder\n",
    "from sklearn.model_selection import train_test_split\n",
    "import re\n",
    "\n",
    "\n",
    "\n",
    "\n",
    "from IPython.display import display, Latex, Markdown"
   ]
  },
  {
   "cell_type": "markdown",
   "metadata": {},
   "source": [
    "#  Research plan?"
   ]
  },
  {
   "cell_type": "markdown",
   "metadata": {},
   "source": [
    "### Research Question: Can counties' responses to COVID-19 accurately predict various political features?\n",
    "\n",
    "Workplan:\n",
    "- Clean data\n",
    "    - Remove US territories (Sharon)\n",
    "    - \n",
    "- Define political features\n",
    "    - Republican/Democratic governor (binary) (Sharon)\n",
    "    - Joshua's R/D scale (categorical) (Josh)\n",
    "    - % of counties that are Republican (Sharon)\n",
    "- Define potential COVID-19 features\n",
    "    - Google's mobility rating (Josh)\n",
    "    - Date of stay at home orders, relative to a case threshold (Luke)\n",
    "        - Should we transform the case threshold to per capita\n",
    "    - \"Performance\" - Beta_2 for quadratic model (Luke)\n",
    "- Create model(s)\n",
    "- Data visualizations"
   ]
  },
  {
   "cell_type": "markdown",
   "metadata": {},
   "source": [
    "# EDA\n",
    "## Taking a look at the dataset\n",
    "\n"
   ]
  },
  {
   "cell_type": "code",
   "execution_count": 3,
   "metadata": {},
   "outputs": [],
   "source": [
    "# Looking at the data\n",
    "\n",
    "states_df = pd.read_csv(\"4.18states.csv\")\n"
   ]
  },
  {
   "cell_type": "code",
   "execution_count": 4,
   "metadata": {},
   "outputs": [],
   "source": [
    "counties_df = pd.read_csv(\"abridged_couties.csv\")\n",
    "# Added to get rid of U.S. territories - Sharon\n",
    "counties_df = counties_df[counties_df['State'].notna()]"
   ]
  },
  {
   "cell_type": "code",
   "execution_count": 5,
   "metadata": {},
   "outputs": [],
   "source": [
    "time_cases_df = pd.read_csv(\"time_series_covid19_confirmed_US.csv\")"
   ]
  },
  {
   "cell_type": "code",
   "execution_count": 6,
   "metadata": {},
   "outputs": [],
   "source": [
    "time_deaths_df = pd.read_csv(\"time_series_covid19_deaths_US.csv\")"
   ]
  },
  {
   "cell_type": "code",
   "execution_count": 7,
   "metadata": {
    "scrolled": false
   },
   "outputs": [
    {
     "data": {
      "text/plain": [
       "Index(['countyFIPS', 'STATEFP', 'COUNTYFP', 'CountyName', 'StateName', 'State',\n",
       "       'lat', 'lon', 'POP_LATITUDE', 'POP_LONGITUDE', 'CensusRegionName',\n",
       "       'CensusDivisionName', 'Rural-UrbanContinuumCode2013',\n",
       "       'PopulationEstimate2018', 'PopTotalMale2017', 'PopTotalFemale2017',\n",
       "       'FracMale2017', 'PopulationEstimate65+2017',\n",
       "       'PopulationDensityperSqMile2010', 'CensusPopulation2010',\n",
       "       'MedianAge2010', '#EligibleforMedicare2018',\n",
       "       'MedicareEnrollment,AgedTot2017', '3-YrDiabetes2015-17',\n",
       "       'DiabetesPercentage', 'HeartDiseaseMortality', 'StrokeMortality',\n",
       "       'Smokers_Percentage', 'RespMortalityRate2014', '#FTEHospitalTotal2017',\n",
       "       'TotalM.D.'s,TotNon-FedandFed2017', '#HospParticipatinginNetwork2017',\n",
       "       '#Hospitals', '#ICU_beds', 'dem_to_rep_ratio', 'PopMale<52010',\n",
       "       'PopFmle<52010', 'PopMale5-92010', 'PopFmle5-92010', 'PopMale10-142010',\n",
       "       'PopFmle10-142010', 'PopMale15-192010', 'PopFmle15-192010',\n",
       "       'PopMale20-242010', 'PopFmle20-242010', 'PopMale25-292010',\n",
       "       'PopFmle25-292010', 'PopMale30-342010', 'PopFmle30-342010',\n",
       "       'PopMale35-442010', 'PopFmle35-442010', 'PopMale45-542010',\n",
       "       'PopFmle45-542010', 'PopMale55-592010', 'PopFmle55-592010',\n",
       "       'PopMale60-642010', 'PopFmle60-642010', 'PopMale65-742010',\n",
       "       'PopFmle65-742010', 'PopMale75-842010', 'PopFmle75-842010',\n",
       "       'PopMale>842010', 'PopFmle>842010', '3-YrMortalityAge<1Year2015-17',\n",
       "       '3-YrMortalityAge1-4Years2015-17', '3-YrMortalityAge5-14Years2015-17',\n",
       "       '3-YrMortalityAge15-24Years2015-17',\n",
       "       '3-YrMortalityAge25-34Years2015-17',\n",
       "       '3-YrMortalityAge35-44Years2015-17',\n",
       "       '3-YrMortalityAge45-54Years2015-17',\n",
       "       '3-YrMortalityAge55-64Years2015-17',\n",
       "       '3-YrMortalityAge65-74Years2015-17',\n",
       "       '3-YrMortalityAge75-84Years2015-17', '3-YrMortalityAge85+Years2015-17',\n",
       "       'mortality2015-17Estimated', 'stay at home', '>50 gatherings',\n",
       "       '>500 gatherings', 'public schools', 'restaurant dine-in',\n",
       "       'entertainment/gym', 'federal guidelines', 'foreign travel ban',\n",
       "       'SVIPercentile', 'HPSAShortage', 'HPSAServedPop', 'HPSAUnderservedPop'],\n",
       "      dtype='object')"
      ]
     },
     "execution_count": 7,
     "metadata": {},
     "output_type": "execute_result"
    }
   ],
   "source": [
    "counties_df.columns"
   ]
  },
  {
   "cell_type": "code",
   "execution_count": 8,
   "metadata": {},
   "outputs": [
    {
     "data": {
      "text/plain": [
       "Index(['UID', 'iso2', 'iso3', 'code3', 'FIPS', 'Admin2', 'Province_State',\n",
       "       'Country_Region', 'Lat', 'Long_', 'Combined_Key', '1/22/20', '1/23/20',\n",
       "       '1/24/20', '1/25/20', '1/26/20', '1/27/20', '1/28/20', '1/29/20',\n",
       "       '1/30/20', '1/31/20', '2/1/20', '2/2/20', '2/3/20', '2/4/20', '2/5/20',\n",
       "       '2/6/20', '2/7/20', '2/8/20', '2/9/20', '2/10/20', '2/11/20', '2/12/20',\n",
       "       '2/13/20', '2/14/20', '2/15/20', '2/16/20', '2/17/20', '2/18/20',\n",
       "       '2/19/20', '2/20/20', '2/21/20', '2/22/20', '2/23/20', '2/24/20',\n",
       "       '2/25/20', '2/26/20', '2/27/20', '2/28/20', '2/29/20', '3/1/20',\n",
       "       '3/2/20', '3/3/20', '3/4/20', '3/5/20', '3/6/20', '3/7/20', '3/8/20',\n",
       "       '3/9/20', '3/10/20', '3/11/20', '3/12/20', '3/13/20', '3/14/20',\n",
       "       '3/15/20', '3/16/20', '3/17/20', '3/18/20', '3/19/20', '3/20/20',\n",
       "       '3/21/20', '3/22/20', '3/23/20', '3/24/20', '3/25/20', '3/26/20',\n",
       "       '3/27/20', '3/28/20', '3/29/20', '3/30/20', '3/31/20', '4/1/20',\n",
       "       '4/2/20', '4/3/20', '4/4/20', '4/5/20', '4/6/20', '4/7/20', '4/8/20',\n",
       "       '4/9/20', '4/10/20', '4/11/20', '4/12/20', '4/13/20', '4/14/20',\n",
       "       '4/15/20', '4/16/20', '4/17/20', '4/18/20'],\n",
       "      dtype='object')"
      ]
     },
     "execution_count": 8,
     "metadata": {},
     "output_type": "execute_result"
    }
   ],
   "source": [
    "time_cases_df.columns"
   ]
  },
  {
   "cell_type": "code",
   "execution_count": 9,
   "metadata": {
    "scrolled": true
   },
   "outputs": [
    {
     "data": {
      "text/plain": [
       "Index(['UID', 'iso2', 'iso3', 'code3', 'FIPS', 'Admin2', 'Province_State',\n",
       "       'Country_Region', 'Lat', 'Long_', 'Combined_Key', 'Population',\n",
       "       '1/22/20', '1/23/20', '1/24/20', '1/25/20', '1/26/20', '1/27/20',\n",
       "       '1/28/20', '1/29/20', '1/30/20', '1/31/20', '2/1/20', '2/2/20',\n",
       "       '2/3/20', '2/4/20', '2/5/20', '2/6/20', '2/7/20', '2/8/20', '2/9/20',\n",
       "       '2/10/20', '2/11/20', '2/12/20', '2/13/20', '2/14/20', '2/15/20',\n",
       "       '2/16/20', '2/17/20', '2/18/20', '2/19/20', '2/20/20', '2/21/20',\n",
       "       '2/22/20', '2/23/20', '2/24/20', '2/25/20', '2/26/20', '2/27/20',\n",
       "       '2/28/20', '2/29/20', '3/1/20', '3/2/20', '3/3/20', '3/4/20', '3/5/20',\n",
       "       '3/6/20', '3/7/20', '3/8/20', '3/9/20', '3/10/20', '3/11/20', '3/12/20',\n",
       "       '3/13/20', '3/14/20', '3/15/20', '3/16/20', '3/17/20', '3/18/20',\n",
       "       '3/19/20', '3/20/20', '3/21/20', '3/22/20', '3/23/20', '3/24/20',\n",
       "       '3/25/20', '3/26/20', '3/27/20', '3/28/20', '3/29/20', '3/30/20',\n",
       "       '3/31/20', '4/1/20', '4/2/20', '4/3/20', '4/4/20', '4/5/20', '4/6/20',\n",
       "       '4/7/20', '4/8/20', '4/9/20', '4/10/20', '4/11/20', '4/12/20',\n",
       "       '4/13/20', '4/14/20', '4/15/20', '4/16/20', '4/17/20', '4/18/20'],\n",
       "      dtype='object')"
      ]
     },
     "execution_count": 9,
     "metadata": {},
     "output_type": "execute_result"
    }
   ],
   "source": [
    "time_deaths_df.columns"
   ]
  },
  {
   "cell_type": "markdown",
   "metadata": {},
   "source": [
    "# Let's look at the basics"
   ]
  },
  {
   "cell_type": "markdown",
   "metadata": {},
   "source": [
    "Let's look at the distribution of stay at home orders by county:"
   ]
  },
  {
   "cell_type": "code",
   "execution_count": 10,
   "metadata": {
    "scrolled": true
   },
   "outputs": [
    {
     "data": {
      "text/plain": [
       "Text(0.5, 1.0, 'Distribution of stay at home orders by US county')"
      ]
     },
     "execution_count": 10,
     "metadata": {},
     "output_type": "execute_result"
    },
    {
     "data": {
      "image/png": "[encoded data removed]",
      "text/plain": [
       "<Figure size 432x288 with 1 Axes>"
      ]
     },
     "metadata": {
      "needs_background": "light"
     },
     "output_type": "display_data"
    }
   ],
   "source": [
    "sns.distplot(counties_df[\"stay at home\"].dropna())\n",
    "\n",
    "plt.title(\"Distribution of stay at home orders by US county\")\n",
    "\n",
    "#I haven't figured out the date formatting here, but need to do that!"
   ]
  },
  {
   "cell_type": "code",
   "execution_count": 11,
   "metadata": {},
   "outputs": [],
   "source": [
    "us = time_cases_df.groupby(\"Country_Region\").sum().iloc[:,15:].to_numpy().flatten()"
   ]
  },
  {
   "cell_type": "code",
   "execution_count": 12,
   "metadata": {},
   "outputs": [
    {
     "data": {
      "text/plain": [
       "Text(0.5, 1.0, 'Cumuative cases since Feb')"
      ]
     },
     "execution_count": 12,
     "metadata": {},
     "output_type": "execute_result"
    },
    {
     "data": {
      "image/png": "[encoded data removed]",
      "text/plain": [
       "<Figure size 1080x360 with 2 Axes>"
      ]
     },
     "metadata": {
      "needs_background": "light"
     },
     "output_type": "display_data"
    }
   ],
   "source": [
    "fig, ax = plt.subplots(1,2, figsize=(15,5))\n",
    "\n",
    "ax[0].plot(np.arange(0,len(us)), np.log(us))\n",
    "\n",
    "ax[0].set_title(\"Cumuative cases since Feb (log scale)\")\n",
    "\n",
    "ax[1].plot(np.arange(0,len(us)), us)\n",
    "\n",
    "ax[1].set_title(\"Cumuative cases since Feb\")"
   ]
  },
  {
   "cell_type": "code",
   "execution_count": 13,
   "metadata": {},
   "outputs": [
    {
     "data": {
      "text/plain": [
       "Text(0.5, 1.0, 'Daily new cases since Feb')"
      ]
     },
     "execution_count": 13,
     "metadata": {},
     "output_type": "execute_result"
    },
    {
     "data": {
      "image/png": "[encoded data removed]",
      "text/plain": [
       "<Figure size 432x288 with 1 Axes>"
      ]
     },
     "metadata": {
      "needs_background": "light"
     },
     "output_type": "display_data"
    }
   ],
   "source": [
    "plt.plot(np.arange(1,len(us)), np.diff(us) )\n",
    "plt.title(\"Daily new cases since Feb\")"
   ]
  },
  {
   "cell_type": "code",
   "execution_count": 14,
   "metadata": {
    "scrolled": true
   },
   "outputs": [
    {
     "data": {
      "text/plain": [
       "<BarContainer object of 77 artists>"
      ]
     },
     "execution_count": 14,
     "metadata": {},
     "output_type": "execute_result"
    },
    {
     "data": {
      "image/png": "[encoded data removed]",
      "text/plain": [
       "<Figure size 432x288 with 1 Axes>"
      ]
     },
     "metadata": {
      "needs_background": "light"
     },
     "output_type": "display_data"
    }
   ],
   "source": [
    "# Same as above, but in bar graph form\n",
    "\n",
    "plt.bar(np.arange(1,len(us)), np.diff(us) )"
   ]
  },
  {
   "cell_type": "markdown",
   "metadata": {},
   "source": [
    "Okay, now what I really want to do is understand how \"stay at home orders\" impact the new daily cases by county."
   ]
  },
  {
   "cell_type": "markdown",
   "metadata": {},
   "source": [
    "## Addressing the date time conversion on time series data"
   ]
  },
  {
   "cell_type": "code",
   "execution_count": 15,
   "metadata": {},
   "outputs": [],
   "source": [
    "# The date objects were extremely annoying, so I built this function to convert them to pandas\n",
    "\n",
    "def convert_ordinal_date_series_to_pd_date(series_object):\n",
    "    \"\"\"\n",
    "    This function takes a series object of ordinal dates (days from the beginning of the \n",
    "    Gregorian calendar) and returns a pandas date time object series\n",
    "    \"\"\"\n",
    "    \n",
    "    #series_object = series_object.astype(int)\n",
    "    \n",
    "    k = []\n",
    "    y = 0\n",
    "    \n",
    "    for ordinal_date in series_object:\n",
    "        if np.isnan(ordinal_date) == True:\n",
    "            y += 1\n",
    "            k.append(np.nan)\n",
    "            \n",
    "        else:\n",
    "            ordinal_date = int(ordinal_date)\n",
    "            k.append(pd.to_datetime(datetime.datetime.fromordinal(ordinal_date)))\n",
    "    print(\"Your series has\", y, \"NaNs. This function converts them to NaTs.\")\n",
    "    return pd.Series(k, index = series_object.index)"
   ]
  },
  {
   "cell_type": "code",
   "execution_count": 16,
   "metadata": {
    "scrolled": true
   },
   "outputs": [
    {
     "name": "stdout",
     "output_type": "stream",
     "text": [
      "Your series has 490 NaNs. This function converts them to NaTs.\n",
      "\n",
      " Date Alameda County closed: 2020-03-19 00:00:00\n",
      "\n",
      " This shows that all the counties had stay at home orders on the same day, even though Alameda issued a county order earlier\n",
      "\n",
      " Anyway, the function works and gets the date converstion right.\n"
     ]
    }
   ],
   "source": [
    "# Let's test this function\n",
    "# Alameda closed on March 17. Let's see if we can get that\n",
    "\n",
    "index = counties_df[counties_df[\"CountyName\"] == \"Alameda\"][\"stay at home\"].index\n",
    "print(\"\\n Date Alameda County closed:\",convert_ordinal_date_series_to_pd_date(counties_df[\"stay at home\"])[index].iloc[0])\n",
    "\n",
    "\n",
    "# okay so this is interesting. This dataset only includes the state shutdowns orders, even though it\n",
    "# seems to be at the county level...\n",
    "\n",
    "\n",
    "#print(\"\\n\", counties_df[counties_df[\"StateName\"]==\"CA\"][\"stay at home\"])\n",
    "\n",
    "\n",
    "print(\"\\n This shows that all the counties had stay at home orders on the same day, even though Alameda issued a county order earlier\")\n",
    "\n",
    "print(\"\\n Anyway, the function works and gets the date converstion right.\")"
   ]
  },
  {
   "cell_type": "code",
   "execution_count": 17,
   "metadata": {},
   "outputs": [
    {
     "data": {
      "text/plain": [
       "0       0.326656\n",
       "1       0.253255\n",
       "2       0.893106\n",
       "3       0.278124\n",
       "4       0.094317\n",
       "5       3.096491\n",
       "6       0.760253\n",
       "7       0.402921\n",
       "8       0.737473\n",
       "9       0.172791\n",
       "10      0.193024\n",
       "11      0.757185\n",
       "12      0.805182\n",
       "13      0.235844\n",
       "14      0.118668\n",
       "15      0.265890\n",
       "16      0.436642\n",
       "17      0.900585\n",
       "18      0.527063\n",
       "19      0.179920\n",
       "20      0.368713\n",
       "21      0.115129\n",
       "22      0.319597\n",
       "23      2.217309\n",
       "24      0.169213\n",
       "25      0.305529\n",
       "26      0.463513\n",
       "27      0.322752\n",
       "28      0.202920\n",
       "29      0.232094\n",
       "          ...   \n",
       "3114    0.555708\n",
       "3115    0.521342\n",
       "3116    0.494458\n",
       "3117    0.852836\n",
       "3118    0.661861\n",
       "3119    0.906340\n",
       "3120    0.148512\n",
       "3121    0.083914\n",
       "3122    0.290088\n",
       "3123    0.121014\n",
       "3124    0.081541\n",
       "3125    0.376108\n",
       "3126    0.209144\n",
       "3127    0.206292\n",
       "3128    0.183492\n",
       "3129    0.465771\n",
       "3130    0.163003\n",
       "3131    0.279254\n",
       "3132    0.103047\n",
       "3133    0.228070\n",
       "3134    0.209194\n",
       "3135    0.285116\n",
       "3136    0.188912\n",
       "3137    0.265838\n",
       "3138    1.865340\n",
       "3139    0.195320\n",
       "3140    0.182755\n",
       "3141    0.098582\n",
       "3232    1.373356\n",
       "3233    1.868706\n",
       "Name: dem_to_rep_ratio, Length: 3075, dtype: float64"
      ]
     },
     "execution_count": 17,
     "metadata": {},
     "output_type": "execute_result"
    }
   ],
   "source": [
    "counties_df[\"dem_to_rep_ratio\"]"
   ]
  },
  {
   "cell_type": "code",
   "execution_count": 18,
   "metadata": {},
   "outputs": [],
   "source": [
    "ids = [\"FIPS\",\"Admin2\", \"Province_State\", \"Country_Region\"]\n",
    "\n",
    "date_column_begin = 11\n",
    "\n",
    "dates = pd.to_datetime(time_cases_df.columns[date_column_begin:])"
   ]
  },
  {
   "cell_type": "code",
   "execution_count": 19,
   "metadata": {},
   "outputs": [
    {
     "ename": "NameError",
     "evalue": "name 'date' is not defined",
     "output_type": "error",
     "traceback": [
      "\u001b[0;31m---------------------------------------------------------------------------\u001b[0m",
      "\u001b[0;31mNameError\u001b[0m                                 Traceback (most recent call last)",
      "\u001b[0;32m<ipython-input-19-6f2bc977b422>\u001b[0m in \u001b[0;36m<module>\u001b[0;34m\u001b[0m\n\u001b[1;32m      5\u001b[0m \u001b[0;31m#date = pd.to_datetime(df[\"variable\"])\u001b[0m\u001b[0;34m\u001b[0m\u001b[0;34m\u001b[0m\u001b[0;34m\u001b[0m\u001b[0m\n\u001b[1;32m      6\u001b[0m \u001b[0;34m\u001b[0m\u001b[0m\n\u001b[0;32m----> 7\u001b[0;31m \u001b[0mdf\u001b[0m\u001b[0;34m[\u001b[0m\u001b[0;34m\"date\"\u001b[0m\u001b[0;34m]\u001b[0m \u001b[0;34m=\u001b[0m \u001b[0mdate\u001b[0m\u001b[0;34m\u001b[0m\u001b[0;34m\u001b[0m\u001b[0m\n\u001b[0m\u001b[1;32m      8\u001b[0m \u001b[0;34m\u001b[0m\u001b[0m\n\u001b[1;32m      9\u001b[0m \u001b[0mdf\u001b[0m \u001b[0;34m=\u001b[0m \u001b[0mdf\u001b[0m\u001b[0;34m.\u001b[0m\u001b[0mrename\u001b[0m\u001b[0;34m(\u001b[0m\u001b[0mcolumns\u001b[0m \u001b[0;34m=\u001b[0m \u001b[0;34m{\u001b[0m\u001b[0;34m\"value\"\u001b[0m \u001b[0;34m:\u001b[0m \u001b[0;34m\"cases\"\u001b[0m\u001b[0;34m}\u001b[0m\u001b[0;34m)\u001b[0m\u001b[0;34m\u001b[0m\u001b[0;34m\u001b[0m\u001b[0m\n",
      "\u001b[0;31mNameError\u001b[0m: name 'date' is not defined"
     ]
    }
   ],
   "source": [
    "df = time_cases_df[ids + list(time_cases_df.columns[date_column_begin:])]\n",
    "\n",
    "df = df.melt(ids)\n",
    "\n",
    "#date = pd.to_datetime(df[\"variable\"])\n",
    "\n",
    "df[\"date\"] = date\n",
    "\n",
    "df = df.rename(columns = {\"value\" : \"cases\"})"
   ]
  },
  {
   "cell_type": "code",
   "execution_count": null,
   "metadata": {
    "scrolled": false
   },
   "outputs": [],
   "source": [
    "table = df.pivot_table(values = \"cases\", index = [ \"Province_State\", \"date\"],  aggfunc=sum).reset_index()\n",
    "\n",
    "table"
   ]
  },
  {
   "cell_type": "code",
   "execution_count": null,
   "metadata": {},
   "outputs": [],
   "source": [
    "ca = table[table[\"Province_State\"] == \"California\"]\n",
    "\n",
    "J = np.array([np.nan])\n",
    "\n",
    "ca.loc[:,\"daily_new_cases\"] = np.concatenate([J, np.diff(ca[\"cases\"])])\n",
    "\n",
    "ca"
   ]
  },
  {
   "cell_type": "code",
   "execution_count": null,
   "metadata": {
    "scrolled": false
   },
   "outputs": [],
   "source": [
    "threshold = 300\n",
    "ca = ca[ca[\"cases\"] >= threshold]\n",
    "ca[\"days_since_threshold\"] = np.arange(0,len(ca))"
   ]
  },
  {
   "cell_type": "code",
   "execution_count": null,
   "metadata": {},
   "outputs": [],
   "source": [
    "plt.plot(ca[\"days_since_threshold\"], ca[\"daily_new_cases\"])"
   ]
  },
  {
   "cell_type": "code",
   "execution_count": null,
   "metadata": {},
   "outputs": [],
   "source": [
    "lm = LinearRegression()\n",
    "\n",
    "x = np.array(ca[\"days_since_threshold\"]).reshape(-1,1)\n",
    "\n",
    "y = np.array(ca[\"daily_new_cases\"]).reshape(-1,1)\n",
    "\n",
    "lm.fit(x,y)\n",
    "\n",
    "y_hat = lm.predict(x)"
   ]
  },
  {
   "cell_type": "markdown",
   "metadata": {},
   "source": [
    "$new.cases = \\beta_0 + \\beta_1~time$"
   ]
  },
  {
   "cell_type": "code",
   "execution_count": null,
   "metadata": {},
   "outputs": [],
   "source": [
    "#fig, ax = plt.subplots(1,2, figsize=(15,5))\n",
    "\n",
    "plt.plot(ca[\"days_since_threshold\"], (ca[\"daily_new_cases\"]))\n",
    "plt.plot(ca[\"days_since_threshold\"], y_hat)"
   ]
  },
  {
   "cell_type": "code",
   "execution_count": null,
   "metadata": {},
   "outputs": [],
   "source": [
    "lm = LinearRegression()\n",
    "\n",
    "ca[\"days_since_threshold^2\"] = ca[\"days_since_threshold\"]**2\n",
    "\n",
    "x = ca[[\"days_since_threshold\",\"days_since_threshold^2\"]]\n",
    "\n",
    "y = np.array(ca[\"daily_new_cases\"]).reshape(-1,1)\n",
    "\n",
    "lm.fit(x,y)\n",
    "\n",
    "y_hat = lm.predict(x)"
   ]
  },
  {
   "cell_type": "code",
   "execution_count": null,
   "metadata": {},
   "outputs": [],
   "source": [
    "plt.plot(ca[\"days_since_threshold\"], (ca[\"daily_new_cases\"]))\n",
    "plt.plot(ca[\"days_since_threshold\"], y_hat)\n",
    "\n",
    "plt.title(\"Quadratic modeling of daily cases for California\")\n",
    "plt.ylabel(\"Daily new cases\")\n",
    "plt.xlabel(\"days since {} cases\".format(threshold))"
   ]
  },
  {
   "cell_type": "markdown",
   "metadata": {},
   "source": [
    "$new.cases = \\beta_0 + \\beta_1~time + \\beta_2~time$"
   ]
  },
  {
   "cell_type": "markdown",
   "metadata": {},
   "source": [
    "In this functional form, it easy to interpret $\\beta_2$ as the deceleration rate. We can calculate state by state deceleration rates.\n",
    " \n",
    "If we find that a variety of policies are indeed correlated with democratic leanings, can we also see if they explain the deceleration rate?\n",
    "\n",
    "**Or can we try to use the decelerration rates to classify whether a state is democrat or republican?**\n",
    "\n",
    "(Maybe we could think about democratic affiliation as an instrument because it is highly correlated with time (via a suite of policy interventions), but should be uncorrelated with new cases EXCEPT through the policies we're interested in.)"
   ]
  },
  {
   "cell_type": "code",
   "execution_count": null,
   "metadata": {},
   "outputs": [],
   "source": []
  }
 ],
 "metadata": {
  "kernelspec": {
   "display_name": "Python 3",
   "language": "python",
   "name": "python3"
  },
  "language_info": {
   "codemirror_mode": {
    "name": "ipython",
    "version": 3
   },
   "file_extension": ".py",
   "mimetype": "text/x-python",
   "name": "python",
   "nbconvert_exporter": "python",
   "pygments_lexer": "ipython3",
   "version": "3.7.3"
  }
 },
 "nbformat": 4,
 "nbformat_minor": 2
}
